{
 "cells": [
  {
   "cell_type": "markdown",
   "metadata": {},
   "source": [
    "This notebook to collect job postings from Indeed"
   ]
  },
  {
   "cell_type": "code",
   "execution_count": 1,
   "metadata": {
    "collapsed": true
   },
   "outputs": [],
   "source": [
    "import urllib.request\n",
    "import xml.etree.ElementTree as ET\n",
    "import bs4\n",
    "from bs4 import BeautifulSoup\n"
   ]
  },
  {
   "cell_type": "code",
   "execution_count": 2,
   "metadata": {
    "collapsed": true
   },
   "outputs": [],
   "source": [
    "cities = [\"New+York,NY\", \"San+Jose,CA\", \"San+Francisco,CA\", \"Chicago,IL\",\n",
    "            \"Boston,MA\", \"Washington,DC\", \"Seattle,WA\"]"
   ]
  },
  {
   "cell_type": "code",
   "execution_count": 3,
   "metadata": {
    "collapsed": true
   },
   "outputs": [],
   "source": [
    "queries = [\"data+scientist\",\"data+analyst\",\"data+architect\",\"statistician\",\"data+engineer\"]"
   ]
  },
  {
   "cell_type": "code",
   "execution_count": 4,
   "metadata": {
    "collapsed": false
   },
   "outputs": [],
   "source": [
    "pre = \"http://api.indeed.com/ads/apisearch?publisher=6660716131600223&q=\"\n",
    "mid =   \"&sort=&radius=\"\n",
    "post = \"&st=&jt=&start=&limit=100&fromage=&filter=&latlong=1&co=us&chnl=&userip=1.2.3.4&useragent=Mozilla/%2F4.0%28Firefox%29&v=2\""
   ]
  },
  {
   "cell_type": "code",
   "execution_count": 5,
   "metadata": {
    "collapsed": false
   },
   "outputs": [],
   "source": [
    "source = \"http://api.indeed.com/ads/apisearch?publisher=6660716131600223\"\n",
    "source+=\"&q=data+science&l=New+York,NY&radius=0&start=26&limit=100\"\n",
    "source+=\"&co=us&userip=1.2.3.4&useragent=Mozilla/%2F4.0%28Firefox%29&v=2\""
   ]
  },
  {
   "cell_type": "code",
   "execution_count": 7,
   "metadata": {
    "collapsed": false
   },
   "outputs": [
    {
     "data": {
      "text/plain": [
       "'http://api.indeed.com/ads/apisearch?publisher=6660716131600223&q=data+science&l=New+York,NY&radius=0&start=26&limit=100&co=us&userip=1.2.3.4&useragent=Mozilla/%2F4.0%28Firefox%29&v=2'"
      ]
     },
     "execution_count": 7,
     "metadata": {},
     "output_type": "execute_result"
    }
   ],
   "source": [
    "source"
   ]
  },
  {
   "cell_type": "code",
   "execution_count": 5,
   "metadata": {
    "collapsed": false
   },
   "outputs": [],
   "source": [
    "\n",
    "with urllib.request.urlopen(source) as response:\n",
    "    temp = response.read()"
   ]
  },
  {
   "cell_type": "code",
   "execution_count": 6,
   "metadata": {
    "collapsed": false
   },
   "outputs": [
    {
     "data": {
      "text/plain": [
       "b'<?xml version=\\'1.0\\' encoding=\\'UTF-8\\'?><response version=\"2\"><query>data science</query><location>New York,NY</location><clickedCategories></clickedCategories><paginationPayload></paginationPayload><radius>0</radius><dupefilter>true</dupefilter><highlight>false</highlight><start>27</start><end>51</end><pageNumber>2</pageNumber><totalresults>4558</totalresults><results><result><jobtitle>Data Scientist</jobtitle><company>Komodo Health</company><city>New York</city><state>NY</state><country>US</country><formattedLocation>New York, NY</formattedLocation><source>Komodo Health</source><date>Sat, 22 Oct 2016 06:41:56 GMT</date><snippet>Experience working with proprietary secondary data including medical / pharmacy claims, prescription data, sales data, and longitudinal patient-level data....</snippet><url>http://www.indeed.com/viewjob?jk=f5e03cefdb936a0f&amp;qd=k2KW17EOp3l00Z0sm-K7fv3-5RJIQA100uT7rbncyXNwcXBNBuHfMShZrBcCyHpeeoEcbxYcA2Z9OoSjZLlSIRcXMDdehtFLlC45I75A8Mnw-0gLpF8dqTF8mDNfFGmt&amp;indpubnum=6660716131600223&amp;atk=1b0eab84d5hf0f0s</url><onmousedown>indeed_clk(this,\\'6410\\');</onmousedown><jobkey>f5e03cefdb936a0f</jobkey><sponsored>false</sponsored><expired>false</expired><indeedApply>true</indeedApply><formattedLocationFull>New York, NY</formattedLocationFull><formattedRelativeTime>9 days ago</formattedRelativeTime><stations></stations></result><result><jobtitle>Data Scientist</jobtitle><company>WeWork</company><city>New York</city><state>NY</state><country>US</country><formattedLocation>New York, NY</formattedLocation><source>WeWork</source><date>Tue, 30 Aug 2016 17:52:45 GMT</date><snippet>We are seeking a mid-level data scientist to join WeWork\\xe2\\x80\\x99s Data Science team. Of course, you get the chance to beef up your data science chops....</snippet><url>http://www.indeed.com/viewjob?jk=694b5907f188c348&amp;qd=k2KW17EOp3l00Z0sm-K7fv3-5RJIQA100uT7rbncyXNwcXBNBuHfMShZrBcCyHpeeoEcbxYcA2Z9OoSjZLlSIRcXMDdehtFLlC45I75A8Mnw-0gLpF8dqTF8mDNfFGmt&amp;indpubnum=6660716131600223&amp;atk=1b0eab84d5hf0f0s</url><onmousedown>indeed_clk(this,\\'6410\\');</onmousedown><jobkey>694b5907f188c348</jobkey><sponsored>false</sponsored><expired>false</expired><indeedApply>true</indeedApply><formattedLocationFull>New York, NY 10005</formattedLocationFull><formattedRelativeTime>30+ days ago</formattedRelativeTime><stations></stations></result><result><jobtitle>Data Scientist</jobtitle><company>Cognical, Inc.</company><city>New York</city><state>NY</state><country>US</country><formattedLocation>New York, NY</formattedLocation><source>Cognical, Inc.</source><date>Sat, 22 Oct 2016 13:19:19 GMT</date><snippet>Familiarly with one or more data science toolkits such as Spark, Hadoop, scikit-learn and pandas. Extract insights from highly complex data sets to identify...</snippet><url>http://www.indeed.com/viewjob?jk=b911e44d901700f2&amp;qd=k2KW17EOp3l00Z0sm-K7fv3-5RJIQA100uT7rbncyXNwcXBNBuHfMShZrBcCyHpeeoEcbxYcA2Z9OoSjZLlSIRcXMDdehtFLlC45I75A8Mnw-0gLpF8dqTF8mDNfFGmt&amp;indpubnum=6660716131600223&amp;atk=1b0eab84d5hf0f0s</url><onmousedown>indeed_clk(this,\\'6410\\');</onmousedown><jobkey>b911e44d901700f2</jobkey><sponsored>false</sponsored><expired>false</expired><indeedApply>false</indeedApply><formattedLocationFull>New York, NY 10001</formattedLocationFull><formattedRelativeTime>9 days ago</formattedRelativeTime><stations></stations></result><result><jobtitle>Data Scientist</jobtitle><company>IBM Kenexa</company><city>New York</city><state>NY</state><country>US</country><formattedLocation>New York, NY</formattedLocation><source>IBM Kenexa</source><date>Wed, 19 Oct 2016 12:09:12 GMT</date><snippet>Identify data partners, both internal and external, to gather the data to build the best in class data solutions....</snippet><url>http://www.indeed.com/viewjob?jk=b5f58fbf149f40cc&amp;qd=k2KW17EOp3l00Z0sm-K7fv3-5RJIQA100uT7rbncyXNwcXBNBuHfMShZrBcCyHpeeoEcbxYcA2Z9OoSjZLlSIRcXMDdehtFLlC45I75A8Mnw-0gLpF8dqTF8mDNfFGmt&amp;indpubnum=6660716131600223&amp;atk=1b0eab84d5hf0f0s</url><onmousedown>indeed_clk(this,\\'6410\\');</onmousedown><jobkey>b5f58fbf149f40cc</jobkey><sponsored>false</sponsored><expired>false</expired><indeedApply>false</indeedApply><formattedLocationFull>New York, NY</formattedLocationFull><formattedRelativeTime>12 days ago</formattedRelativeTime><stations></stations></result><result><jobtitle>Data Scientist</jobtitle><company>KOCH MINERALS</company><city>New York</city><state>NY</state><country>US</country><formattedLocation>New York, NY</formattedLocation><source>Koch Industries, Inc.</source><date>Tue, 18 Oct 2016 10:25:19 GMT</date><snippet>Bachelor\\xe2\\x80\\x99s or Master\\xe2\\x80\\x99s degree in Data Science from an accredited institution. Use industry technologies, tools and data mining frameworks for data analytics...</snippet><url>http://www.indeed.com/viewjob?jk=b275c8c6e3780214&amp;qd=k2KW17EOp3l00Z0sm-K7fv3-5RJIQA100uT7rbncyXNwcXBNBuHfMShZrBcCyHpeeoEcbxYcA2Z9OoSjZLlSIRcXMDdehtFLlC45I75A8Mnw-0gLpF8dqTF8mDNfFGmt&amp;indpubnum=6660716131600223&amp;atk=1b0eab84d5hf0f0s</url><onmousedown>indeed_clk(this,\\'6410\\');</onmousedown><jobkey>b275c8c6e3780214</jobkey><sponsored>false</sponsored><expired>false</expired><indeedApply>false</indeedApply><formattedLocationFull>New York, NY</formattedLocationFull><formattedRelativeTime>13 days ago</formattedRelativeTime><stations></stations></result><result><jobtitle>Data Scientist/Analyst</jobtitle><company>YouNow</company><city>New York</city><state>NY</state><country>US</country><formattedLocation>New York, NY</formattedLocation><source>YouNow</source><date>Thu, 29 Sep 2016 13:50:21 GMT</date><snippet>Collaborate with the data science team on new data products and initiatives. Hands-on experience building data dashboards....</snippet><url>http://www.indeed.com/viewjob?jk=2cedd585ce62c6e4&amp;qd=k2KW17EOp3l00Z0sm-K7fv3-5RJIQA100uT7rbncyXNwcXBNBuHfMShZrBcCyHpeeoEcbxYcA2Z9OoSjZLlSIRcXMDdehtFLlC45I75A8Mnw-0gLpF8dqTF8mDNfFGmt&amp;indpubnum=6660716131600223&amp;atk=1b0eab84d5hf0f0s</url><onmousedown>indeed_clk(this,\\'6410\\');</onmousedown><jobkey>2cedd585ce62c6e4</jobkey><sponsored>false</sponsored><expired>false</expired><indeedApply>true</indeedApply><formattedLocationFull>New York, NY</formattedLocationFull><formattedRelativeTime>30+ days ago</formattedRelativeTime><stations></stations></result><result><jobtitle>Data Scientist</jobtitle><company>The Trade Desk</company><city>New York</city><state>NY</state><country>US</country><formattedLocation>New York, NY</formattedLocation><source>The Trade Desk</source><date>Mon, 24 Oct 2016 20:24:05 GMT</date><snippet>DATA SCIENCE &amp;amp; THE TRADE DESK. A relevant scientific and mathematical education with 3+ years of data driven decision support experience....</snippet><url>http://www.indeed.com/viewjob?jk=9ecb14de58c27d0c&amp;qd=k2KW17EOp3l00Z0sm-K7fv3-5RJIQA100uT7rbncyXNwcXBNBuHfMShZrBcCyHpeeoEcbxYcA2Z9OoSjZLlSIRcXMDdehtFLlC45I75A8Mnw-0gLpF8dqTF8mDNfFGmt&amp;indpubnum=6660716131600223&amp;atk=1b0eab84d5hf0f0s</url><onmousedown>indeed_clk(this,\\'6410\\');</onmousedown><jobkey>9ecb14de58c27d0c</jobkey><sponsored>false</sponsored><expired>false</expired><indeedApply>true</indeedApply><formattedLocationFull>New York, NY 10001</formattedLocationFull><formattedRelativeTime>7 days ago</formattedRelativeTime><stations></stations></result><result><jobtitle>Data Scientist</jobtitle><company>KPMG</company><city>New York</city><state>NY</state><country>US</country><formattedLocation>New York, NY</formattedLocation><source>KPMG LLP</source><date>Fri, 14 Oct 2016 08:21:37 GMT</date><snippet>Machine learning, data visualization, statistical modeling, data mining, or information retrieval. Perform explanatory data analyses, generate and test working...</snippet><url>http://www.indeed.com/viewjob?jk=ad6cac7cd99c095b&amp;qd=k2KW17EOp3l00Z0sm-K7fv3-5RJIQA100uT7rbncyXNwcXBNBuHfMShZrBcCyHpeeoEcbxYcA2Z9OoSjZLlSIRcXMDdehtFLlC45I75A8Mnw-0gLpF8dqTF8mDNfFGmt&amp;indpubnum=6660716131600223&amp;atk=1b0eab84d5hf0f0s</url><onmousedown>indeed_clk(this,\\'6410\\');</onmousedown><jobkey>ad6cac7cd99c095b</jobkey><sponsored>false</sponsored><expired>false</expired><indeedApply>false</indeedApply><formattedLocationFull>New York, NY 10154</formattedLocationFull><formattedRelativeTime>17 days ago</formattedRelativeTime><stations></stations></result><result><jobtitle>Data Scientist</jobtitle><company>PlaceIQ</company><city>New York</city><state>NY</state><country>US</country><formattedLocation>New York, NY</formattedLocation><source>PlaceIQ</source><date>Sun, 16 Oct 2016 05:25:59 GMT</date><snippet>Data Scientists analyze PlaceIQ hyperlocal data sources to develop accurate predictions of audience and behavior....</snippet><url>http://www.indeed.com/viewjob?jk=fb8776d2079bed6d&amp;qd=k2KW17EOp3l00Z0sm-K7fv3-5RJIQA100uT7rbncyXNwcXBNBuHfMShZrBcCyHpeeoEcbxYcA2Z9OoSjZLlSIRcXMDdehtFLlC45I75A8Mnw-0gLpF8dqTF8mDNfFGmt&amp;indpubnum=6660716131600223&amp;atk=1b0eab84d5hf0f0s</url><onmousedown>indeed_clk(this,\\'6410\\');</onmousedown><jobkey>fb8776d2079bed6d</jobkey><sponsored>false</sponsored><expired>false</expired><indeedApply>false</indeedApply><formattedLocationFull>New York, NY</formattedLocationFull><formattedRelativeTime>15 days ago</formattedRelativeTime><stations></stations></result><result><jobtitle>Data Scientist</jobtitle><company>Verizon</company><city>New York</city><state>NY</state><country>US</country><formattedLocation>New York, NY</formattedLocation><source>Verizon</source><date>Mon, 10 Oct 2016 22:51:34 GMT</date><snippet>Master\\xe2\\x80\\x99s Degree in Statistics, Math, Economics, Engineering, Computer Science, Business Analytics, Data Science or a related field preferred or equivalent work...</snippet><url>http://www.indeed.com/viewjob?jk=cdb4ec912f0a7ad7&amp;qd=k2KW17EOp3l00Z0sm-K7fv3-5RJIQA100uT7rbncyXNwcXBNBuHfMShZrBcCyHpeeoEcbxYcA2Z9OoSjZLlSIRcXMDdehtFLlC45I75A8Mnw-0gLpF8dqTF8mDNfFGmt&amp;indpubnum=6660716131600223&amp;atk=1b0eab84d5hf0f0s</url><onmousedown>indeed_clk(this,\\'6410\\');</onmousedown><jobkey>cdb4ec912f0a7ad7</jobkey><sponsored>false</sponsored><expired>false</expired><indeedApply>false</indeedApply><formattedLocationFull>New York, NY 10003</formattedLocationFull><formattedRelativeTime>20 days ago</formattedRelativeTime><stations></stations></result><result><jobtitle>Data Scientist</jobtitle><company>RangTech</company><city>New York</city><state>NY</state><country>US</country><formattedLocation>New York, NY</formattedLocation><source>RangTech</source><date>Sun, 11 Sep 2016 03:05:48 GMT</date><snippet>Web analytics, Data mining techniques application for large data. Experience in data visualization and presentation....</snippet><url>http://www.indeed.com/viewjob?jk=371bafae2e362733&amp;qd=k2KW17EOp3l00Z0sm-K7fv3-5RJIQA100uT7rbncyXNwcXBNBuHfMShZrBcCyHpeeoEcbxYcA2Z9OoSjZLlSIRcXMDdehtFLlC45I75A8Mnw-0gLpF8dqTF8mDNfFGmt&amp;indpubnum=6660716131600223&amp;atk=1b0eab84d5hf0f0s</url><onmousedown>indeed_clk(this,\\'6410\\');</onmousedown><jobkey>371bafae2e362733</jobkey><sponsored>false</sponsored><expired>false</expired><indeedApply>false</indeedApply><formattedLocationFull>New York, NY</formattedLocationFull><formattedRelativeTime>30+ days ago</formattedRelativeTime><stations></stations></result><result><jobtitle>Data Scientist</jobtitle><company>Inficare</company><city>New York</city><state>NY</state><country>US</country><formattedLocation>New York, NY</formattedLocation><source>Inficare</source><date>Fri, 14 Oct 2016 03:06:49 GMT</date><snippet>This position involves cutting edge of Data Science. Hands on responsibility as part of the team engaged in data analytics and solving critical business...</snippet><url>http://www.indeed.com/viewjob?jk=aa69dfb416c21645&amp;qd=k2KW17EOp3l00Z0sm-K7fv3-5RJIQA100uT7rbncyXNwcXBNBuHfMShZrBcCyHpeeoEcbxYcA2Z9OoSjZLlSIRcXMDdehtFLlC45I75A8Mnw-0gLpF8dqTF8mDNfFGmt&amp;indpubnum=6660716131600223&amp;atk=1b0eab84d5hf0f0s</url><onmousedown>indeed_clk(this,\\'6410\\');</onmousedown><jobkey>aa69dfb416c21645</jobkey><sponsored>false</sponsored><expired>false</expired><indeedApply>false</indeedApply><formattedLocationFull>New York, NY</formattedLocationFull><formattedRelativeTime>17 days ago</formattedRelativeTime><stations></stations></result><result><jobtitle>Data Scientist</jobtitle><company>Barclays</company><city>New York</city><state>NY</state><country>US</country><formattedLocation>New York, NY</formattedLocation><source>Barclays</source><date>Thu, 13 Oct 2016 18:33:57 GMT</date><snippet>\\xef\\x82\\xa7 Background in Data Science and NLP. The Data Scientist is responsible for development of NLP models that will predict language of interest in a given data set...</snippet><url>http://www.indeed.com/viewjob?jk=da51764d46d036c7&amp;qd=k2KW17EOp3l00Z0sm-K7fv3-5RJIQA100uT7rbncyXNwcXBNBuHfMShZrBcCyHpeeoEcbxYcA2Z9OoSjZLlSIRcXMDdehtFLlC45I75A8Mnw-0gLpF8dqTF8mDNfFGmt&amp;indpubnum=6660716131600223&amp;atk=1b0eab84d5hf0f0s</url><onmousedown>indeed_clk(this,\\'6410\\');</onmousedown><jobkey>da51764d46d036c7</jobkey><sponsored>false</sponsored><expired>false</expired><indeedApply>false</indeedApply><formattedLocationFull>New York, NY</formattedLocationFull><formattedRelativeTime>18 days ago</formattedRelativeTime><stations></stations></result><result><jobtitle>Data Scientist</jobtitle><company>Crisis Text Line</company><city>New York</city><state>NY</state><country>US</country><formattedLocation>New York, NY</formattedLocation><source>Crisis Text Line</source><date>Sun, 23 Oct 2016 13:03:25 GMT</date><snippet>Chief Data Scientist. We believe data science and technology make us faster and more accurate. The Data Scientist\\'s role at Crisis Text Line is to support staff...</snippet><url>http://www.indeed.com/viewjob?jk=67d10d0a567d0714&amp;qd=k2KW17EOp3l00Z0sm-K7fv3-5RJIQA100uT7rbncyXNwcXBNBuHfMShZrBcCyHpeeoEcbxYcA2Z9OoSjZLlSIRcXMDdehtFLlC45I75A8Mnw-0gLpF8dqTF8mDNfFGmt&amp;indpubnum=6660716131600223&amp;atk=1b0eab84d5hf0f0s</url><onmousedown>indeed_clk(this,\\'6410\\');</onmousedown><jobkey>67d10d0a567d0714</jobkey><sponsored>false</sponsored><expired>false</expired><indeedApply>true</indeedApply><formattedLocationFull>New York, NY</formattedLocationFull><formattedRelativeTime>8 days ago</formattedRelativeTime><stations></stations></result><result><jobtitle>Data Scientist</jobtitle><company>Booz Allen Hamilton</company><city>New York</city><state>NY</state><country>US</country><formattedLocation>New York, NY</formattedLocation><source>Booz Allen Hamilton</source><date>Fri, 12 Aug 2016 07:01:56 GMT</date><snippet>Leverage knowledge of Cloud computing technologies as part of the data science team. Experience with using R, Perl, Python, SAS, or SPSS for analysis of data....</snippet><url>http://www.indeed.com/viewjob?jk=ff9831cf0916d672&amp;qd=k2KW17EOp3l00Z0sm-K7fv3-5RJIQA100uT7rbncyXNwcXBNBuHfMShZrBcCyHpeeoEcbxYcA2Z9OoSjZLlSIRcXMDdehtFLlC45I75A8Mnw-0gLpF8dqTF8mDNfFGmt&amp;indpubnum=6660716131600223&amp;atk=1b0eab84d5hf0f0s</url><onmousedown>indeed_clk(this,\\'6410\\');</onmousedown><jobkey>ff9831cf0916d672</jobkey><sponsored>false</sponsored><expired>false</expired><indeedApply>false</indeedApply><formattedLocationFull>New York, NY 10036</formattedLocationFull><formattedRelativeTime>30+ days ago</formattedRelativeTime><stations></stations></result><result><jobtitle>Data Scientist</jobtitle><company>Dia&amp;Co</company><city>New York</city><state>NY</state><country>US</country><formattedLocation>New York, NY</formattedLocation><source>Dia&amp;Co</source><date>Thu, 06 Oct 2016 05:53:27 GMT</date><snippet>You are a data science Ph.D. Can write code for data analysis and producing results (e.g. A leadership team that trusts and embraces tech and data....</snippet><url>http://www.indeed.com/viewjob?jk=0c7191b9aa41f699&amp;qd=k2KW17EOp3l00Z0sm-K7fv3-5RJIQA100uT7rbncyXNwcXBNBuHfMShZrBcCyHpeeoEcbxYcA2Z9OoSjZLlSIRcXMDdehtFLlC45I75A8Mnw-0gLpF8dqTF8mDNfFGmt&amp;indpubnum=6660716131600223&amp;atk=1b0eab84d5hf0f0s</url><onmousedown>indeed_clk(this,\\'6410\\');</onmousedown><jobkey>0c7191b9aa41f699</jobkey><sponsored>false</sponsored><expired>false</expired><indeedApply>true</indeedApply><formattedLocationFull>New York, NY</formattedLocationFull><formattedRelativeTime>25 days ago</formattedRelativeTime><stations></stations></result><result><jobtitle>Data Scientist</jobtitle><company>Correlation One</company><city>New York</city><state>NY</state><country>US</country><formattedLocation>New York, NY</formattedLocation><source>Indeed</source><date>Wed, 05 Oct 2016 16:49:26 GMT</date><snippet>Sourcing, processing, analyzing and distributing large data inputs. The position requires extensive exposure to large data sets in order extract meaningful and...</snippet><url>http://www.indeed.com/viewjob?jk=c86cb9064b3a0ba6&amp;qd=k2KW17EOp3l00Z0sm-K7fv3-5RJIQA100uT7rbncyXNwcXBNBuHfMShZrBcCyHpeeoEcbxYcA2Z9OoSjZLlSIRcXMDdehtFLlC45I75A8Mnw-0gLpF8dqTF8mDNfFGmt&amp;indpubnum=6660716131600223&amp;atk=1b0eab84d5hf0f0s</url><onmousedown>indeed_clk(this,\\'6410\\');</onmousedown><jobkey>c86cb9064b3a0ba6</jobkey><sponsored>false</sponsored><expired>false</expired><indeedApply>true</indeedApply><formattedLocationFull>New York, NY</formattedLocationFull><formattedRelativeTime>26 days ago</formattedRelativeTime><stations></stations></result><result><jobtitle>Data Scientist</jobtitle><company>Macy\\'s</company><city>New York</city><state>NY</state><country>US</country><formattedLocation>New York, NY</formattedLocation><source>Macy\\'s</source><date>Wed, 05 Oct 2016 01:20:53 GMT</date><snippet>Answer complex business questions by using appropriate statistical techniques on available data or designing and running experiments to gather data....</snippet><url>http://www.indeed.com/viewjob?jk=40d1d5104c41e124&amp;qd=k2KW17EOp3l00Z0sm-K7fv3-5RJIQA100uT7rbncyXNwcXBNBuHfMShZrBcCyHpeeoEcbxYcA2Z9OoSjZLlSIRcXMDdehtFLlC45I75A8Mnw-0gLpF8dqTF8mDNfFGmt&amp;indpubnum=6660716131600223&amp;atk=1b0eab84d5hf0f0s</url><onmousedown>indeed_clk(this,\\'6410\\');</onmousedown><jobkey>40d1d5104c41e124</jobkey><sponsored>false</sponsored><expired>false</expired><indeedApply>false</indeedApply><formattedLocationFull>New York, NY</formattedLocationFull><formattedRelativeTime>26 days ago</formattedRelativeTime><stations></stations></result><result><jobtitle>Data Scientist</jobtitle><company>Aetna</company><city>New York</city><state>NY</state><country>US</country><formattedLocation>New York, NY</formattedLocation><source>Aetna</source><date>Wed, 05 Oct 2016 05:46:24 GMT</date><snippet>This is a unique opportunity for someone passionate about innovation in data science, machine learning, and predictive modeling techniques....</snippet><url>http://www.indeed.com/viewjob?jk=a820a2f943a047f8&amp;qd=k2KW17EOp3l00Z0sm-K7fv3-5RJIQA100uT7rbncyXNwcXBNBuHfMShZrBcCyHpeeoEcbxYcA2Z9OoSjZLlSIRcXMDdehtFLlC45I75A8Mnw-0gLpF8dqTF8mDNfFGmt&amp;indpubnum=6660716131600223&amp;atk=1b0eab84d5hf0f0s</url><onmousedown>indeed_clk(this,\\'6410\\');</onmousedown><jobkey>a820a2f943a047f8</jobkey><sponsored>false</sponsored><expired>false</expired><indeedApply>false</indeedApply><formattedLocationFull>New York, NY 10010</formattedLocationFull><formattedRelativeTime>26 days ago</formattedRelativeTime><stations></stations></result><result><jobtitle>Data Scientist</jobtitle><company>Astrid Solutions</company><city>New York</city><state>NY</state><country>US</country><formattedLocation>New York, NY</formattedLocation><source>Indeed</source><date>Mon, 03 Oct 2016 18:02:08 GMT</date><snippet>Knowledge of current trends in Big Data frameworks and Data pipeline architecture is preferred. Hands-on knowledge in Data Science and Statistical concepts,...</snippet><url>http://www.indeed.com/viewjob?jk=ea39755b93f40ec1&amp;qd=k2KW17EOp3l00Z0sm-K7fv3-5RJIQA100uT7rbncyXNwcXBNBuHfMShZrBcCyHpeeoEcbxYcA2Z9OoSjZLlSIRcXMDdehtFLlC45I75A8Mnw-0gLpF8dqTF8mDNfFGmt&amp;indpubnum=6660716131600223&amp;atk=1b0eab84d5hf0f0s</url><onmousedown>indeed_clk(this,\\'6410\\');</onmousedown><jobkey>ea39755b93f40ec1</jobkey><sponsored>false</sponsored><expired>false</expired><indeedApply>true</indeedApply><formattedLocationFull>New York, NY</formattedLocationFull><formattedRelativeTime>28 days ago</formattedRelativeTime><stations></stations></result><result><jobtitle>Data Scientist</jobtitle><company>Tilting Point</company><city>New York</city><state>NY</state><country>US</country><formattedLocation>New York, NY</formattedLocation><source>Tilting Point</source><date>Mon, 03 Oct 2016 06:33:46 GMT</date><snippet>2+ years of data science experience in mobile/digital analytics or in web-based businesses. As Data Scientist, you will work to ensure accurate data reporting...</snippet><url>http://www.indeed.com/viewjob?jk=0031cd87a7cc62f9&amp;qd=k2KW17EOp3l00Z0sm-K7fv3-5RJIQA100uT7rbncyXNwcXBNBuHfMShZrBcCyHpeeoEcbxYcA2Z9OoSjZLlSIRcXMDdehtFLlC45I75A8Mnw-0gLpF8dqTF8mDNfFGmt&amp;indpubnum=6660716131600223&amp;atk=1b0eab84d5hf0f0s</url><onmousedown>indeed_clk(this,\\'6410\\');</onmousedown><jobkey>0031cd87a7cc62f9</jobkey><sponsored>false</sponsored><expired>false</expired><indeedApply>true</indeedApply><formattedLocationFull>New York, NY</formattedLocationFull><formattedRelativeTime>28 days ago</formattedRelativeTime><stations></stations></result><result><jobtitle>Data Intern</jobtitle><company>IBM Kenexa</company><city>New York</city><state>NY</state><country>US</country><formattedLocation>New York, NY</formattedLocation><source>IBM Kenexa</source><date>Fri, 21 Oct 2016 18:04:58 GMT</date><snippet>Support data research projects to explore potential data sources (external market data, social media data, etc.)....</snippet><url>http://www.indeed.com/viewjob?jk=06759a88f4319165&amp;qd=k2KW17EOp3l00Z0sm-K7fv3-5RJIQA100uT7rbncyXNwcXBNBuHfMShZrBcCyHpeeoEcbxYcA2Z9OoSjZLlSIRcXMDdehtFLlC45I75A8Mnw-0gLpF8dqTF8mDNfFGmt&amp;indpubnum=6660716131600223&amp;atk=1b0eab84d5hf0f0s</url><onmousedown>indeed_clk(this,\\'6410\\');</onmousedown><jobkey>06759a88f4319165</jobkey><sponsored>false</sponsored><expired>false</expired><indeedApply>false</indeedApply><formattedLocationFull>New York, NY</formattedLocationFull><formattedRelativeTime>10 days ago</formattedRelativeTime><stations></stations></result><result><jobtitle>Data Architect, Display</jobtitle><company>IgnitionOne</company><city>New York</city><state>NY</state><country>US</country><formattedLocation>New York, NY</formattedLocation><source>IgnitionOne</source><date>Tue, 18 Oct 2016 05:51:09 GMT</date><snippet>BS in Computer Science (MS/PhD preferred). IgnitionOne, a leading digital marketing firm, is expanding its Data Architecture team....</snippet><url>http://www.indeed.com/viewjob?jk=7a243a605efb35ae&amp;qd=k2KW17EOp3l00Z0sm-K7fv3-5RJIQA100uT7rbncyXNwcXBNBuHfMShZrBcCyHpeeoEcbxYcA2Z9OoSjZLlSIRcXMDdehtFLlC45I75A8Mnw-0gLpF8dqTF8mDNfFGmt&amp;indpubnum=6660716131600223&amp;atk=1b0eab84d5hf0f0s</url><onmousedown>indeed_clk(this,\\'6410\\');</onmousedown><jobkey>7a243a605efb35ae</jobkey><sponsored>false</sponsored><expired>false</expired><indeedApply>false</indeedApply><formattedLocationFull>New York, NY</formattedLocationFull><formattedRelativeTime>13 days ago</formattedRelativeTime><stations></stations></result><result><jobtitle>Data Scientist</jobtitle><company>Integral Ad Science</company><city>New York</city><state>NY</state><country>US</country><formattedLocation>New York, NY</formattedLocation><source>Integral Ad Science</source><date>Sun, 02 Oct 2016 06:21:05 GMT</date><snippet>Work on challenging fundamental data science problems in online advertising. Drive the collection of new data and the refinement of existing data sources....</snippet><url>http://www.indeed.com/viewjob?jk=7503e186b4c2a1fd&amp;qd=k2KW17EOp3l00Z0sm-K7fv3-5RJIQA100uT7rbncyXNwcXBNBuHfMShZrBcCyHpeeoEcbxYcA2Z9OoSjZLlSIRcXMDdehtFLlC45I75A8Mnw-0gLpF8dqTF8mDNfFGmt&amp;indpubnum=6660716131600223&amp;atk=1b0eab84d5hf0f0s</url><onmousedown>indeed_clk(this,\\'6410\\');</onmousedown><jobkey>7503e186b4c2a1fd</jobkey><sponsored>false</sponsored><expired>false</expired><indeedApply>false</indeedApply><formattedLocationFull>New York, NY</formattedLocationFull><formattedRelativeTime>29 days ago</formattedRelativeTime><stations></stations></result><result><jobtitle>Data Scientist</jobtitle><company>Amazon Corporate LLC</company><city>New York</city><state>NY</state><country>US</country><formattedLocation>New York, NY</formattedLocation><source>Amazon.com</source><date>Fri, 30 Sep 2016 22:14:35 GMT</date><snippet>Experience with data mining or machine learning applications. Graduate degree in computer science, operations research, statistics, engineering, or mathematics....</snippet><url>http://www.indeed.com/viewjob?jk=35dd73ab66d04b0b&amp;qd=k2KW17EOp3l00Z0sm-K7fv3-5RJIQA100uT7rbncyXNwcXBNBuHfMShZrBcCyHpeeoEcbxYcA2Z9OoSjZLlSIRcXMDdehtFLlC45I75A8Mnw-0gLpF8dqTF8mDNfFGmt&amp;indpubnum=6660716131600223&amp;atk=1b0eab84d5hf0f0s</url><onmousedown>indeed_clk(this,\\'6410\\');</onmousedown><jobkey>35dd73ab66d04b0b</jobkey><sponsored>false</sponsored><expired>false</expired><indeedApply>false</indeedApply><formattedLocationFull>New York, NY</formattedLocationFull><formattedRelativeTime>30 days ago</formattedRelativeTime><stations></stations></result></results></response>'"
      ]
     },
     "execution_count": 6,
     "metadata": {},
     "output_type": "execute_result"
    }
   ],
   "source": [
    "temp"
   ]
  },
  {
   "cell_type": "code",
   "execution_count": 7,
   "metadata": {
    "collapsed": false
   },
   "outputs": [
    {
     "data": {
      "text/plain": [
       "'response'"
      ]
     },
     "execution_count": 7,
     "metadata": {},
     "output_type": "execute_result"
    }
   ],
   "source": [
    "\n",
    "\n",
    "root = ET.fromstring(temp)\n",
    "root.tag"
   ]
  },
  {
   "cell_type": "code",
   "execution_count": 8,
   "metadata": {
    "collapsed": true
   },
   "outputs": [
    {
     "name": "stdout",
     "output_type": "stream",
     "text": [
      "http://www.indeed.com/viewjob?jk=f5e03cefdb936a0f&qd=k2KW17EOp3l00Z0sm-K7fv3-5RJIQA100uT7rbncyXNwcXBNBuHfMShZrBcCyHpeeoEcbxYcA2Z9OoSjZLlSIRcXMDdehtFLlC45I75A8Mnw-0gLpF8dqTF8mDNfFGmt&indpubnum=6660716131600223&atk=1b0eab84d5hf0f0s\n",
      "http://www.indeed.com/viewjob?jk=694b5907f188c348&qd=k2KW17EOp3l00Z0sm-K7fv3-5RJIQA100uT7rbncyXNwcXBNBuHfMShZrBcCyHpeeoEcbxYcA2Z9OoSjZLlSIRcXMDdehtFLlC45I75A8Mnw-0gLpF8dqTF8mDNfFGmt&indpubnum=6660716131600223&atk=1b0eab84d5hf0f0s\n",
      "http://www.indeed.com/viewjob?jk=b911e44d901700f2&qd=k2KW17EOp3l00Z0sm-K7fv3-5RJIQA100uT7rbncyXNwcXBNBuHfMShZrBcCyHpeeoEcbxYcA2Z9OoSjZLlSIRcXMDdehtFLlC45I75A8Mnw-0gLpF8dqTF8mDNfFGmt&indpubnum=6660716131600223&atk=1b0eab84d5hf0f0s\n",
      "http://www.indeed.com/viewjob?jk=b5f58fbf149f40cc&qd=k2KW17EOp3l00Z0sm-K7fv3-5RJIQA100uT7rbncyXNwcXBNBuHfMShZrBcCyHpeeoEcbxYcA2Z9OoSjZLlSIRcXMDdehtFLlC45I75A8Mnw-0gLpF8dqTF8mDNfFGmt&indpubnum=6660716131600223&atk=1b0eab84d5hf0f0s\n",
      "http://www.indeed.com/viewjob?jk=b275c8c6e3780214&qd=k2KW17EOp3l00Z0sm-K7fv3-5RJIQA100uT7rbncyXNwcXBNBuHfMShZrBcCyHpeeoEcbxYcA2Z9OoSjZLlSIRcXMDdehtFLlC45I75A8Mnw-0gLpF8dqTF8mDNfFGmt&indpubnum=6660716131600223&atk=1b0eab84d5hf0f0s\n",
      "http://www.indeed.com/viewjob?jk=2cedd585ce62c6e4&qd=k2KW17EOp3l00Z0sm-K7fv3-5RJIQA100uT7rbncyXNwcXBNBuHfMShZrBcCyHpeeoEcbxYcA2Z9OoSjZLlSIRcXMDdehtFLlC45I75A8Mnw-0gLpF8dqTF8mDNfFGmt&indpubnum=6660716131600223&atk=1b0eab84d5hf0f0s\n",
      "http://www.indeed.com/viewjob?jk=9ecb14de58c27d0c&qd=k2KW17EOp3l00Z0sm-K7fv3-5RJIQA100uT7rbncyXNwcXBNBuHfMShZrBcCyHpeeoEcbxYcA2Z9OoSjZLlSIRcXMDdehtFLlC45I75A8Mnw-0gLpF8dqTF8mDNfFGmt&indpubnum=6660716131600223&atk=1b0eab84d5hf0f0s\n",
      "http://www.indeed.com/viewjob?jk=ad6cac7cd99c095b&qd=k2KW17EOp3l00Z0sm-K7fv3-5RJIQA100uT7rbncyXNwcXBNBuHfMShZrBcCyHpeeoEcbxYcA2Z9OoSjZLlSIRcXMDdehtFLlC45I75A8Mnw-0gLpF8dqTF8mDNfFGmt&indpubnum=6660716131600223&atk=1b0eab84d5hf0f0s\n",
      "http://www.indeed.com/viewjob?jk=fb8776d2079bed6d&qd=k2KW17EOp3l00Z0sm-K7fv3-5RJIQA100uT7rbncyXNwcXBNBuHfMShZrBcCyHpeeoEcbxYcA2Z9OoSjZLlSIRcXMDdehtFLlC45I75A8Mnw-0gLpF8dqTF8mDNfFGmt&indpubnum=6660716131600223&atk=1b0eab84d5hf0f0s\n",
      "http://www.indeed.com/viewjob?jk=cdb4ec912f0a7ad7&qd=k2KW17EOp3l00Z0sm-K7fv3-5RJIQA100uT7rbncyXNwcXBNBuHfMShZrBcCyHpeeoEcbxYcA2Z9OoSjZLlSIRcXMDdehtFLlC45I75A8Mnw-0gLpF8dqTF8mDNfFGmt&indpubnum=6660716131600223&atk=1b0eab84d5hf0f0s\n",
      "http://www.indeed.com/viewjob?jk=371bafae2e362733&qd=k2KW17EOp3l00Z0sm-K7fv3-5RJIQA100uT7rbncyXNwcXBNBuHfMShZrBcCyHpeeoEcbxYcA2Z9OoSjZLlSIRcXMDdehtFLlC45I75A8Mnw-0gLpF8dqTF8mDNfFGmt&indpubnum=6660716131600223&atk=1b0eab84d5hf0f0s\n",
      "http://www.indeed.com/viewjob?jk=aa69dfb416c21645&qd=k2KW17EOp3l00Z0sm-K7fv3-5RJIQA100uT7rbncyXNwcXBNBuHfMShZrBcCyHpeeoEcbxYcA2Z9OoSjZLlSIRcXMDdehtFLlC45I75A8Mnw-0gLpF8dqTF8mDNfFGmt&indpubnum=6660716131600223&atk=1b0eab84d5hf0f0s\n",
      "http://www.indeed.com/viewjob?jk=da51764d46d036c7&qd=k2KW17EOp3l00Z0sm-K7fv3-5RJIQA100uT7rbncyXNwcXBNBuHfMShZrBcCyHpeeoEcbxYcA2Z9OoSjZLlSIRcXMDdehtFLlC45I75A8Mnw-0gLpF8dqTF8mDNfFGmt&indpubnum=6660716131600223&atk=1b0eab84d5hf0f0s\n",
      "http://www.indeed.com/viewjob?jk=67d10d0a567d0714&qd=k2KW17EOp3l00Z0sm-K7fv3-5RJIQA100uT7rbncyXNwcXBNBuHfMShZrBcCyHpeeoEcbxYcA2Z9OoSjZLlSIRcXMDdehtFLlC45I75A8Mnw-0gLpF8dqTF8mDNfFGmt&indpubnum=6660716131600223&atk=1b0eab84d5hf0f0s\n",
      "http://www.indeed.com/viewjob?jk=ff9831cf0916d672&qd=k2KW17EOp3l00Z0sm-K7fv3-5RJIQA100uT7rbncyXNwcXBNBuHfMShZrBcCyHpeeoEcbxYcA2Z9OoSjZLlSIRcXMDdehtFLlC45I75A8Mnw-0gLpF8dqTF8mDNfFGmt&indpubnum=6660716131600223&atk=1b0eab84d5hf0f0s\n",
      "http://www.indeed.com/viewjob?jk=0c7191b9aa41f699&qd=k2KW17EOp3l00Z0sm-K7fv3-5RJIQA100uT7rbncyXNwcXBNBuHfMShZrBcCyHpeeoEcbxYcA2Z9OoSjZLlSIRcXMDdehtFLlC45I75A8Mnw-0gLpF8dqTF8mDNfFGmt&indpubnum=6660716131600223&atk=1b0eab84d5hf0f0s\n",
      "http://www.indeed.com/viewjob?jk=c86cb9064b3a0ba6&qd=k2KW17EOp3l00Z0sm-K7fv3-5RJIQA100uT7rbncyXNwcXBNBuHfMShZrBcCyHpeeoEcbxYcA2Z9OoSjZLlSIRcXMDdehtFLlC45I75A8Mnw-0gLpF8dqTF8mDNfFGmt&indpubnum=6660716131600223&atk=1b0eab84d5hf0f0s\n",
      "http://www.indeed.com/viewjob?jk=40d1d5104c41e124&qd=k2KW17EOp3l00Z0sm-K7fv3-5RJIQA100uT7rbncyXNwcXBNBuHfMShZrBcCyHpeeoEcbxYcA2Z9OoSjZLlSIRcXMDdehtFLlC45I75A8Mnw-0gLpF8dqTF8mDNfFGmt&indpubnum=6660716131600223&atk=1b0eab84d5hf0f0s\n",
      "http://www.indeed.com/viewjob?jk=a820a2f943a047f8&qd=k2KW17EOp3l00Z0sm-K7fv3-5RJIQA100uT7rbncyXNwcXBNBuHfMShZrBcCyHpeeoEcbxYcA2Z9OoSjZLlSIRcXMDdehtFLlC45I75A8Mnw-0gLpF8dqTF8mDNfFGmt&indpubnum=6660716131600223&atk=1b0eab84d5hf0f0s\n",
      "http://www.indeed.com/viewjob?jk=ea39755b93f40ec1&qd=k2KW17EOp3l00Z0sm-K7fv3-5RJIQA100uT7rbncyXNwcXBNBuHfMShZrBcCyHpeeoEcbxYcA2Z9OoSjZLlSIRcXMDdehtFLlC45I75A8Mnw-0gLpF8dqTF8mDNfFGmt&indpubnum=6660716131600223&atk=1b0eab84d5hf0f0s\n",
      "http://www.indeed.com/viewjob?jk=0031cd87a7cc62f9&qd=k2KW17EOp3l00Z0sm-K7fv3-5RJIQA100uT7rbncyXNwcXBNBuHfMShZrBcCyHpeeoEcbxYcA2Z9OoSjZLlSIRcXMDdehtFLlC45I75A8Mnw-0gLpF8dqTF8mDNfFGmt&indpubnum=6660716131600223&atk=1b0eab84d5hf0f0s\n",
      "http://www.indeed.com/viewjob?jk=06759a88f4319165&qd=k2KW17EOp3l00Z0sm-K7fv3-5RJIQA100uT7rbncyXNwcXBNBuHfMShZrBcCyHpeeoEcbxYcA2Z9OoSjZLlSIRcXMDdehtFLlC45I75A8Mnw-0gLpF8dqTF8mDNfFGmt&indpubnum=6660716131600223&atk=1b0eab84d5hf0f0s\n",
      "http://www.indeed.com/viewjob?jk=7a243a605efb35ae&qd=k2KW17EOp3l00Z0sm-K7fv3-5RJIQA100uT7rbncyXNwcXBNBuHfMShZrBcCyHpeeoEcbxYcA2Z9OoSjZLlSIRcXMDdehtFLlC45I75A8Mnw-0gLpF8dqTF8mDNfFGmt&indpubnum=6660716131600223&atk=1b0eab84d5hf0f0s\n",
      "http://www.indeed.com/viewjob?jk=7503e186b4c2a1fd&qd=k2KW17EOp3l00Z0sm-K7fv3-5RJIQA100uT7rbncyXNwcXBNBuHfMShZrBcCyHpeeoEcbxYcA2Z9OoSjZLlSIRcXMDdehtFLlC45I75A8Mnw-0gLpF8dqTF8mDNfFGmt&indpubnum=6660716131600223&atk=1b0eab84d5hf0f0s\n",
      "http://www.indeed.com/viewjob?jk=35dd73ab66d04b0b&qd=k2KW17EOp3l00Z0sm-K7fv3-5RJIQA100uT7rbncyXNwcXBNBuHfMShZrBcCyHpeeoEcbxYcA2Z9OoSjZLlSIRcXMDdehtFLlC45I75A8Mnw-0gLpF8dqTF8mDNfFGmt&indpubnum=6660716131600223&atk=1b0eab84d5hf0f0s\n"
     ]
    }
   ],
   "source": [
    "#.//egg \n",
    "urls = []\n",
    "for URL in root.findall('.//url'):\n",
    "    urls.append(URL.text)\n",
    "    print(URL.text)"
   ]
  },
  {
   "cell_type": "code",
   "execution_count": 17,
   "metadata": {
    "collapsed": false
   },
   "outputs": [],
   "source": [
    "\n",
    "with urllib.request.urlopen(urls[0]) as listing:\n",
    "    temp2 = listing.read()\n",
    "\n",
    "soup = BeautifulSoup(temp2,\"lxml\")"
   ]
  },
  {
   "cell_type": "code",
   "execution_count": 26,
   "metadata": {
    "collapsed": false
   },
   "outputs": [],
   "source": [
    "summary = soup.find_all(\"span\", id=\"job_summary\")"
   ]
  },
  {
   "cell_type": "code",
   "execution_count": 22,
   "metadata": {
    "collapsed": false
   },
   "outputs": [
    {
     "name": "stdout",
     "output_type": "stream",
     "text": [
      ".2s linear;transition:box-shadow 0.2s linear}.btn.active,.btn.sg-active,.btn:active,.sg-btn.active,.sg-btn.sg-active,.sg-btn:active{background-color:#f8f8f9;background-image:none;-webkit-box-shadow:inset 0 2px 4px rgba(0,0,0,0.15),0 1px 2px rgba(0,0,\n"
     ]
    }
   ],
   "source": [
    "print (soup.prettify()[2800:3050])"
   ]
  },
  {
   "cell_type": "code",
   "execution_count": 27,
   "metadata": {
    "collapsed": false
   },
   "outputs": [
    {
     "data": {
      "text/plain": [
       "[<span class=\"summary\" id=\"job_summary\">Komodo Health is transforming predictive analytics in enterprise healthcare with its proprietary data cloud and streaming data platform. Our real-time healthcare intelligence engine provides business leaders with the tools to modernize and improve the way they serve the medical community. The result is a more transparent, efficient and productive healthcare ecosystem. We value our culture of encouraging growth, collaboration, and constructive debate as well as delivering innovative solutions that “wow” our customers.\n",
       " <br/>We are looking for a Data Scientist to help push the boundaries in a space that is ripe for data driven decision making. We’re tackling real problems in the real world - so creativity and problem-solving in addition to a background in Advanced Analytics is paramount.\n",
       " <br/>This is an opportunity to join a growing team of folks accomplished in Analytics, Machine Learning, and Data Engineering; focused on using the best of what lies at the forefront of technology and data science to address complex, real-world problems in the Healthcare and Life Science space. This team forms the tip of the spear, driving towards the most effective ways to deliver more value. Help build the technology to ensure that Komodo can deliver important insights about healthcare trends that ultimately impact how our customers support providers and patients.\n",
       " <br/><br/>\n",
       " Responsibilities\n",
       " <br/><ul>\n",
       " <li>Analyze and understand the disparate sources of industry data</li>\n",
       " <li>Apply data-mining and machine learning techniques to large structured and unstructured datasets</li>\n",
       " <li>Iterate to push the boundaries on what problems can be solved through data analytics</li>\n",
       " <li>Scaling from ad-hoc advanced analytics prototypes to large-scale learning solutions in live systems</li>\n",
       " <li>Clearly communicate analysis methods and results to Komodo and client team</li>\n",
       " <li>Support pre-sales and post-sales analytics needs</li>\n",
       " <li>Collaborate closely with the product team and other engineers to translate business objectives into new features and products</li>\n",
       " </ul>\n",
       " <b>Requirements:</b><br/>\n",
       " Qualifications\n",
       " <br/><ul>\n",
       " <li>BS, MS, or PhD in Computer Science, Engineering or related field</li>\n",
       " <li>2+ years experience with Python, Scala, or Java and distributed frameworks (Hadoop, Spark, etc.)</li>\n",
       " <li>Experience with…</li>\n",
       " <li>Rapid prototyping and advanced analytics (e.g. R, MatLab, Pandas, SciPy)</li>\n",
       " <li>SQL and Relational Databases</li>\n",
       " <li>Possess a strong blend of technology and analytical skill</li>\n",
       " <li>Demonstrable successes in delivering analytical projects, including structuring and conducting analyses to generate business insights and recommendations</li>\n",
       " <li>Solution/Delivery-oriented team player willing to go above and beyond</li>\n",
       " <li>Ability to work beyond familiar algorithms - to get out of one’s comfort zone and earnestly seek to integrate the best solutions to business challenges</li>\n",
       " <li>High motivation, work ethic, and self-discipline to organize and complete tasks</li>\n",
       " <li>Sincere interest in working at a startup and scaling with the company as we grow</li>\n",
       " </ul>\n",
       " Nice to Have\n",
       " <br/><ul>\n",
       " <li>Experience with applied machine learning or algorithm development</li>\n",
       " <li>Experience or interest in the life sciences industry</li>\n",
       " <li>Track record of delivering analytical solutions to poorly scoped problems</li>\n",
       " <li>Prior client-side analytical experience serving Marketing, Sales, Medical Affairs, or Clinical Development, or, vendor-side analytical experience working with Life Sciences clients</li>\n",
       " <li>Experience working with proprietary secondary data including medical / pharmacy claims, prescription data, sales data, and longitudinal patient-level data</li>\n",
       " </ul>\n",
       " <b>Benefits:</b><br/>\n",
       " <ul>\n",
       " <li>Competitive salary and equity compensation</li>\n",
       " <li>Full Medical, Dental, and Vision benefits</li>\n",
       " <li>401k plan with employer match</li>\n",
       " <li>Your choice of equipment set-up (computer, monitor, and accessories)</li>\n",
       " <li>Flexible hours and unlimited vacation days policy</li>\n",
       " <li>Opportunities to attend industry conferences and events</li>\n",
       " <li>Awesome team and culture</li>\n",
       " <li>Great office location(s) in SF/SOMA and NY/West SoHo</li>\n",
       " <li>and more…</li>\n",
       " </ul>\n",
       " </span>]"
      ]
     },
     "execution_count": 27,
     "metadata": {},
     "output_type": "execute_result"
    }
   ],
   "source": [
    "summary[:]"
   ]
  },
  {
   "cell_type": "code",
   "execution_count": 49,
   "metadata": {
    "collapsed": false
   },
   "outputs": [
    {
     "data": {
      "text/plain": [
       "1"
      ]
     },
     "execution_count": 49,
     "metadata": {},
     "output_type": "execute_result"
    }
   ],
   "source": [
    "len(summary)"
   ]
  },
  {
   "cell_type": "code",
   "execution_count": 48,
   "metadata": {
    "collapsed": false
   },
   "outputs": [
    {
     "data": {
      "text/plain": [
       "'Komodo Health is transforming predictive analytics in enterprise healthcare with its proprietary data cloud and streaming data platform. Our real-time healthcare intelligence engine provides business leaders with the tools to modernize and improve the way they serve the medical community. The result is a more transparent, efficient and productive healthcare ecosystem. We value our culture of encouraging growth, collaboration, and constructive debate as well as delivering innovative solutions that “wow” our customers.\\nWe are looking for a Data Scientist to help push the boundaries in a space that is ripe for data driven decision making. We’re tackling real problems in the real world - so creativity and problem-solving in addition to a background in Advanced Analytics is paramount.\\nThis is an opportunity to join a growing team of folks accomplished in Analytics, Machine Learning, and Data Engineering; focused on using the best of what lies at the forefront of technology and data science to address complex, real-world problems in the Healthcare and Life Science space. This team forms the tip of the spear, driving towards the most effective ways to deliver more value. Help build the technology to ensure that Komodo can deliver important insights about healthcare trends that ultimately impact how our customers support providers and patients.\\n\\nResponsibilities\\n\\nAnalyze and understand the disparate sources of industry data\\nApply data-mining and machine learning techniques to large structured and unstructured datasets\\nIterate to push the boundaries on what problems can be solved through data analytics\\nScaling from ad-hoc advanced analytics prototypes to large-scale learning solutions in live systems\\nClearly communicate analysis methods and results to Komodo and client team\\nSupport pre-sales and post-sales analytics needs\\nCollaborate closely with the product team and other engineers to translate business objectives into new features and products\\n\\nRequirements:\\nQualifications\\n\\nBS, MS, or PhD in Computer Science, Engineering or related field\\n2+ years experience with Python, Scala, or Java and distributed frameworks (Hadoop, Spark, etc.)\\nExperience with…\\nRapid prototyping and advanced analytics (e.g. R, MatLab, Pandas, SciPy)\\nSQL and Relational Databases\\nPossess a strong blend of technology and analytical skill\\nDemonstrable successes in delivering analytical projects, including structuring and conducting analyses to generate business insights and recommendations\\nSolution/Delivery-oriented team player willing to go above and beyond\\nAbility to work beyond familiar algorithms - to get out of one’s comfort zone and earnestly seek to integrate the best solutions to business challenges\\nHigh motivation, work ethic, and self-discipline to organize and complete tasks\\nSincere interest in working at a startup and scaling with the company as we grow\\n\\nNice to Have\\n\\nExperience with applied machine learning or algorithm development\\nExperience or interest in the life sciences industry\\nTrack record of delivering analytical solutions to poorly scoped problems\\nPrior client-side analytical experience serving Marketing, Sales, Medical Affairs, or Clinical Development, or, vendor-side analytical experience working with Life Sciences clients\\nExperience working with proprietary secondary data including medical / pharmacy claims, prescription data, sales data, and longitudinal patient-level data\\n\\nBenefits:\\n\\nCompetitive salary and equity compensation\\nFull Medical, Dental, and Vision benefits\\n401k plan with employer match\\nYour choice of equipment set-up (computer, monitor, and accessories)\\nFlexible hours and unlimited vacation days policy\\nOpportunities to attend industry conferences and events\\nAwesome team and culture\\nGreat office location(s) in SF/SOMA and NY/West SoHo\\nand more…\\n\\n'"
      ]
     },
     "execution_count": 48,
     "metadata": {},
     "output_type": "execute_result"
    }
   ],
   "source": [
    "s = summary[0].text\n",
    "s"
   ]
  },
  {
   "cell_type": "code",
   "execution_count": 41,
   "metadata": {
    "collapsed": false
   },
   "outputs": [
    {
     "ename": "TypeError",
     "evalue": "expected string or bytes-like object",
     "output_type": "error",
     "traceback": [
      "\u001b[1;31m---------------------------------------------------------------------------\u001b[0m",
      "\u001b[1;31mTypeError\u001b[0m                                 Traceback (most recent call last)",
      "\u001b[1;32m<ipython-input-41-8baf0c9b4473>\u001b[0m in \u001b[0;36m<module>\u001b[1;34m()\u001b[0m\n\u001b[0;32m      1\u001b[0m \u001b[1;32mimport\u001b[0m \u001b[0mre\u001b[0m\u001b[1;33m\u001b[0m\u001b[0m\n\u001b[1;32m----> 2\u001b[1;33m \u001b[0ms1\u001b[0m \u001b[1;33m=\u001b[0m \u001b[0mre\u001b[0m\u001b[1;33m.\u001b[0m\u001b[0msub\u001b[0m\u001b[1;33m(\u001b[0m\u001b[1;34m'<[^<]+?>'\u001b[0m\u001b[1;33m,\u001b[0m \u001b[1;34m''\u001b[0m\u001b[1;33m,\u001b[0m \u001b[0msummary\u001b[0m\u001b[1;33m[\u001b[0m\u001b[1;36m0\u001b[0m\u001b[1;33m]\u001b[0m\u001b[1;33m)\u001b[0m\u001b[1;33m\u001b[0m\u001b[0m\n\u001b[0m",
      "\u001b[1;32m/home/kmitchell/anaconda2/envs/py35/lib/python3.5/re.py\u001b[0m in \u001b[0;36msub\u001b[1;34m(pattern, repl, string, count, flags)\u001b[0m\n\u001b[0;32m    180\u001b[0m     \u001b[0ma\u001b[0m \u001b[0mcallable\u001b[0m\u001b[1;33m,\u001b[0m \u001b[0mit\u001b[0m\u001b[0;31m'\u001b[0m\u001b[0ms\u001b[0m \u001b[0mpassed\u001b[0m \u001b[0mthe\u001b[0m \u001b[0mmatch\u001b[0m \u001b[0mobject\u001b[0m \u001b[1;32mand\u001b[0m \u001b[0mmust\u001b[0m \u001b[1;32mreturn\u001b[0m\u001b[1;33m\u001b[0m\u001b[0m\n\u001b[0;32m    181\u001b[0m     a replacement string to be used.\"\"\"\n\u001b[1;32m--> 182\u001b[1;33m     \u001b[1;32mreturn\u001b[0m \u001b[0m_compile\u001b[0m\u001b[1;33m(\u001b[0m\u001b[0mpattern\u001b[0m\u001b[1;33m,\u001b[0m \u001b[0mflags\u001b[0m\u001b[1;33m)\u001b[0m\u001b[1;33m.\u001b[0m\u001b[0msub\u001b[0m\u001b[1;33m(\u001b[0m\u001b[0mrepl\u001b[0m\u001b[1;33m,\u001b[0m \u001b[0mstring\u001b[0m\u001b[1;33m,\u001b[0m \u001b[0mcount\u001b[0m\u001b[1;33m)\u001b[0m\u001b[1;33m\u001b[0m\u001b[0m\n\u001b[0m\u001b[0;32m    183\u001b[0m \u001b[1;33m\u001b[0m\u001b[0m\n\u001b[0;32m    184\u001b[0m \u001b[1;32mdef\u001b[0m \u001b[0msubn\u001b[0m\u001b[1;33m(\u001b[0m\u001b[0mpattern\u001b[0m\u001b[1;33m,\u001b[0m \u001b[0mrepl\u001b[0m\u001b[1;33m,\u001b[0m \u001b[0mstring\u001b[0m\u001b[1;33m,\u001b[0m \u001b[0mcount\u001b[0m\u001b[1;33m=\u001b[0m\u001b[1;36m0\u001b[0m\u001b[1;33m,\u001b[0m \u001b[0mflags\u001b[0m\u001b[1;33m=\u001b[0m\u001b[1;36m0\u001b[0m\u001b[1;33m)\u001b[0m\u001b[1;33m:\u001b[0m\u001b[1;33m\u001b[0m\u001b[0m\n",
      "\u001b[1;31mTypeError\u001b[0m: expected string or bytes-like object"
     ]
    }
   ],
   "source": [
    "import re\n",
    "s1 = re.sub('<[^<]+?>', '', summary[0])"
   ]
  },
  {
   "cell_type": "code",
   "execution_count": 36,
   "metadata": {
    "collapsed": false
   },
   "outputs": [
    {
     "ename": "AttributeError",
     "evalue": "module 'lxml' has no attribute 'html'",
     "output_type": "error",
     "traceback": [
      "\u001b[1;31m---------------------------------------------------------------------------\u001b[0m",
      "\u001b[1;31mAttributeError\u001b[0m                            Traceback (most recent call last)",
      "\u001b[1;32m<ipython-input-36-740d52ea78b3>\u001b[0m in \u001b[0;36m<module>\u001b[1;34m()\u001b[0m\n\u001b[0;32m      1\u001b[0m \u001b[1;32mimport\u001b[0m \u001b[0mlxml\u001b[0m\u001b[1;33m\u001b[0m\u001b[0m\n\u001b[1;32m----> 2\u001b[1;33m \u001b[0ms1\u001b[0m \u001b[1;33m=\u001b[0m \u001b[0mlxml\u001b[0m\u001b[1;33m.\u001b[0m\u001b[0mhtml\u001b[0m\u001b[1;33m.\u001b[0m\u001b[0mfromstring\u001b[0m\u001b[1;33m(\u001b[0m\u001b[0msummary\u001b[0m\u001b[1;33m[\u001b[0m\u001b[1;36m0\u001b[0m\u001b[1;33m]\u001b[0m\u001b[1;33m)\u001b[0m\u001b[1;33m.\u001b[0m\u001b[0mtext_content\u001b[0m\u001b[1;33m(\u001b[0m\u001b[1;33m)\u001b[0m\u001b[1;33m\u001b[0m\u001b[0m\n\u001b[0m",
      "\u001b[1;31mAttributeError\u001b[0m: module 'lxml' has no attribute 'html'"
     ]
    }
   ],
   "source": [
    "import lxml\n",
    "s1 = lxml.html.fromstring(summary[0]).text_content()"
   ]
  },
  {
   "cell_type": "code",
   "execution_count": null,
   "metadata": {
    "collapsed": true
   },
   "outputs": [],
   "source": [
    "datetime.datetime.now()"
   ]
  }
 ],
 "metadata": {
  "kernelspec": {
   "display_name": "Python 3",
   "language": "python",
   "name": "python3"
  },
  "language_info": {
   "codemirror_mode": {
    "name": "ipython",
    "version": 3
   },
   "file_extension": ".py",
   "mimetype": "text/x-python",
   "name": "python",
   "nbconvert_exporter": "python",
   "pygments_lexer": "ipython3",
   "version": "3.5.2"
  }
 },
 "nbformat": 4,
 "nbformat_minor": 0
}
