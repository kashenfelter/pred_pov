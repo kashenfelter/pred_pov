{
 "cells": [
  {
   "cell_type": "markdown",
   "metadata": {},
   "source": [
    "Staring scraping"
   ]
  },
  {
   "cell_type": "code",
   "execution_count": 1,
   "metadata": {
    "collapsed": true
   },
   "outputs": [],
   "source": [
    "import urllib.request\n",
    "import xml.etree.ElementTree as ET\n",
    "import bs4\n",
    "from bs4 import BeautifulSoup"
   ]
  },
  {
   "cell_type": "code",
   "execution_count": 3,
   "metadata": {
    "collapsed": false
   },
   "outputs": [],
   "source": [
    "cities = [\"New+York,NY\", \"San+Jose,CA\", \"San+Francisco,CA\", \"Chicago,IL\",\n",
    "            \"Boston,MA\", \"Washington,DC\", \"Seattle,WA\"]\n",
    "queries = [\"data+scientist\",\"data+analyst\",\"data+architect\",\"statistician\",\"data+engineer\"]\n",
    "pre = \"http://api.indeed.com/ads/apisearch?publisher=6660716131600223&q=\"\n",
    "mid =   \"&sort=&radius=\"\n",
    "post = \"&st=&jt=&start=&limit=100&fromage=&filter=&latlong=1&co=us&chnl=&userip=1.2.3.4&useragent=Mozilla/%2F4.0%28Firefox%29&v=2\"\n"
   ]
  },
  {
   "cell_type": "code",
   "execution_count": 27,
   "metadata": {
    "collapsed": false
   },
   "outputs": [],
   "source": [
    "start = list(range(0,1000,25))\n",
    "urls = []\n",
    "sources=[]\n",
    "urldict = {}"
   ]
  },
  {
   "cell_type": "code",
   "execution_count": 33,
   "metadata": {
    "collapsed": false
   },
   "outputs": [],
   "source": [
    "start = list(range(0,1000,25))\n",
    "urls = []\n",
    "sources=[]\n",
    "\n",
    "for k in queries:\n",
    "    for j in cities:\n",
    "        for i in range(len(start)):\n",
    "            source = \"http://api.indeed.com/ads/apisearch?publisher=6660716131600223&q=\"+k\n",
    "            source+=\"&l=\"+j+\"&radius=0&start=\"+str(start[i])+\"&limit=100\"\n",
    "            source+=\"&co=us&userip=1.2.3.4&useragent=Mozilla/%2F4.0%28Firefox%29&v=2\"\n",
    "            sources.append(source)\n",
    "            with urllib.request.urlopen(source) as response:\n",
    "                temp = response.read()\n",
    "            root = ET.fromstring(temp)\n",
    "            for URL in root.findall('.//url'):\n",
    "                urls.append([k,j,URL.text])\n",
    "       \n"
   ]
  },
  {
   "cell_type": "code",
   "execution_count": 34,
   "metadata": {
    "collapsed": false
   },
   "outputs": [
    {
     "data": {
      "text/plain": [
       "26716"
      ]
     },
     "execution_count": 34,
     "metadata": {},
     "output_type": "execute_result"
    }
   ],
   "source": [
    "len(urls)"
   ]
  },
  {
   "cell_type": "code",
   "execution_count": 35,
   "metadata": {
    "collapsed": false
   },
   "outputs": [
    {
     "ename": "TypeError",
     "evalue": "unhashable type: 'list'",
     "output_type": "error",
     "traceback": [
      "\u001b[1;31m---------------------------------------------------------------------------\u001b[0m",
      "\u001b[1;31mTypeError\u001b[0m                                 Traceback (most recent call last)",
      "\u001b[1;32m<ipython-input-35-111a53290a08>\u001b[0m in \u001b[0;36m<module>\u001b[1;34m()\u001b[0m\n\u001b[1;32m----> 1\u001b[1;33m \u001b[0mlen\u001b[0m\u001b[1;33m(\u001b[0m\u001b[0mset\u001b[0m\u001b[1;33m(\u001b[0m\u001b[0murls\u001b[0m\u001b[1;33m)\u001b[0m\u001b[1;33m)\u001b[0m\u001b[1;33m\u001b[0m\u001b[0m\n\u001b[0m",
      "\u001b[1;31mTypeError\u001b[0m: unhashable type: 'list'"
     ]
    }
   ],
   "source": []
  },
  {
   "cell_type": "code",
   "execution_count": 36,
   "metadata": {
    "collapsed": false
   },
   "outputs": [
    {
     "data": {
      "text/plain": [
       "['data+engineer',\n",
       " 'Washington,DC',\n",
       " 'http://www.indeed.com/viewjob?jk=f437e5ed4fa781f4&qd=k2KW17EOp3l00Z0sm-K7fvSXIwrpFfMgKAbvqBdrpmjufJyco5T5ivHJFRq-v9OXd4LtoAQYubAIHX7gr6zzkxCDCo-NnMAB4hFFxstm-1RhNygj2mRLgreFXDHU_3S-&indpubnum=6660716131600223&atk=1b0gkifl3aeula1e']"
      ]
     },
     "execution_count": 36,
     "metadata": {},
     "output_type": "execute_result"
    }
   ],
   "source": [
    "urls[25002]"
   ]
  },
  {
   "cell_type": "code",
   "execution_count": 37,
   "metadata": {
    "collapsed": false
   },
   "outputs": [
    {
     "data": {
      "text/plain": [
       "['data+engineer',\n",
       " 'Washington,DC',\n",
       " 'http://www.indeed.com/viewjob?jk=3e98e528f58d039e&qd=k2KW17EOp3l00Z0sm-K7fvSXIwrpFfMgKAbvqBdrpmjufJyco5T5ivHJFRq-v9OXd4LtoAQYubAIHX7gr6zzkxCDCo-NnMAB4hFFxstm-1RhNygj2mRLgreFXDHU_3S-&indpubnum=6660716131600223&atk=1b0gkifrva413bsd']"
      ]
     },
     "execution_count": 37,
     "metadata": {},
     "output_type": "execute_result"
    }
   ],
   "source": [
    "urls[25027]"
   ]
  },
  {
   "cell_type": "code",
   "execution_count": 43,
   "metadata": {
    "collapsed": false
   },
   "outputs": [],
   "source": [
    "import pandas as pd\n",
    "\n",
    "url_df = pd.DataFrame(urls)\n",
    "\n",
    "url_df.columns = ['keyword', 'city', 'joblisting_url']\n",
    "url_df.to_pickle('url_df.pkl')"
   ]
  },
  {
   "cell_type": "code",
   "execution_count": 42,
   "metadata": {
    "collapsed": false
   },
   "outputs": [
    {
     "data": {
      "text/html": [
       "<div>\n",
       "<table border=\"1\" class=\"dataframe\">\n",
       "  <thead>\n",
       "    <tr style=\"text-align: right;\">\n",
       "      <th></th>\n",
       "      <th>keyword</th>\n",
       "      <th>city</th>\n",
       "      <th>joblisting_url</th>\n",
       "    </tr>\n",
       "  </thead>\n",
       "  <tbody>\n",
       "    <tr>\n",
       "      <th>0</th>\n",
       "      <td>data+scientist</td>\n",
       "      <td>New+York,NY</td>\n",
       "      <td>http://www.indeed.com/viewjob?jk=c4cb134c96f20...</td>\n",
       "    </tr>\n",
       "    <tr>\n",
       "      <th>1</th>\n",
       "      <td>data+scientist</td>\n",
       "      <td>New+York,NY</td>\n",
       "      <td>http://www.indeed.com/viewjob?jk=902c2bf4a0198...</td>\n",
       "    </tr>\n",
       "    <tr>\n",
       "      <th>2</th>\n",
       "      <td>data+scientist</td>\n",
       "      <td>New+York,NY</td>\n",
       "      <td>http://www.indeed.com/viewjob?jk=da51764d46d03...</td>\n",
       "    </tr>\n",
       "    <tr>\n",
       "      <th>3</th>\n",
       "      <td>data+scientist</td>\n",
       "      <td>New+York,NY</td>\n",
       "      <td>http://www.indeed.com/viewjob?jk=f0b32c73f8383...</td>\n",
       "    </tr>\n",
       "    <tr>\n",
       "      <th>4</th>\n",
       "      <td>data+scientist</td>\n",
       "      <td>New+York,NY</td>\n",
       "      <td>http://www.indeed.com/viewjob?jk=d15912313ca5a...</td>\n",
       "    </tr>\n",
       "  </tbody>\n",
       "</table>\n",
       "</div>"
      ],
      "text/plain": [
       "          keyword         city  \\\n",
       "0  data+scientist  New+York,NY   \n",
       "1  data+scientist  New+York,NY   \n",
       "2  data+scientist  New+York,NY   \n",
       "3  data+scientist  New+York,NY   \n",
       "4  data+scientist  New+York,NY   \n",
       "\n",
       "                                      joblisting_url  \n",
       "0  http://www.indeed.com/viewjob?jk=c4cb134c96f20...  \n",
       "1  http://www.indeed.com/viewjob?jk=902c2bf4a0198...  \n",
       "2  http://www.indeed.com/viewjob?jk=da51764d46d03...  \n",
       "3  http://www.indeed.com/viewjob?jk=f0b32c73f8383...  \n",
       "4  http://www.indeed.com/viewjob?jk=d15912313ca5a...  "
      ]
     },
     "execution_count": 42,
     "metadata": {},
     "output_type": "execute_result"
    }
   ],
   "source": [
    "url_df.head()"
   ]
  },
  {
   "cell_type": "code",
   "execution_count": null,
   "metadata": {
    "collapsed": true
   },
   "outputs": [],
   "source": []
  }
 ],
 "metadata": {
  "kernelspec": {
   "display_name": "Python 3",
   "language": "python",
   "name": "python3"
  },
  "language_info": {
   "codemirror_mode": {
    "name": "ipython",
    "version": 3
   },
   "file_extension": ".py",
   "mimetype": "text/x-python",
   "name": "python",
   "nbconvert_exporter": "python",
   "pygments_lexer": "ipython3",
   "version": "3.5.2"
  }
 },
 "nbformat": 4,
 "nbformat_minor": 0
}
