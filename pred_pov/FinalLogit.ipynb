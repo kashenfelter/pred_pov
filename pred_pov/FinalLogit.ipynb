{
 "cells": [
  {
   "cell_type": "code",
   "execution_count": 22,
   "metadata": {
    "collapsed": false
   },
   "outputs": [],
   "source": [
    "import pandas as pd\n",
    "\n",
    "import numpy as np\n",
    "import matplotlib.pyplot as plt\n",
    "%matplotlib inline\n",
    "\n",
    "import seaborn as sb\n",
    "\n",
    "from sklearn.cross_validation import train_test_split\n",
    "from sklearn.linear_model import LogisticRegression\n",
    "import statsmodels.api as sm "
   ]
  },
  {
   "cell_type": "code",
   "execution_count": 23,
   "metadata": {
    "collapsed": false
   },
   "outputs": [
    {
     "data": {
      "text/plain": [
       "Index(['FIPS', 'CountyName', 'perc_in_labor_frc', 'perc_in_armfrc',\n",
       "       'p_com_carpool', 'p_com_workhome', 'perc_occ_mgt', 'perc_occ_svc',\n",
       "       'p_ind_whlesl', 'p_ind_info', 'p_ind_FIRE', 'p_ind_waste',\n",
       "       'p_ind_edsvc', 'p_ind_pubadm', 'ln_popdens', 'ln_housedens',\n",
       "       'p_nonfamily', 'p_marrfam', 'p_malehh', 'p_femhh', 'avg_hh_size',\n",
       "       'fert_age15_19', 'fert_age20_34', 'fert_age35_50', 'p_highsch',\n",
       "       'p_bachdeg', 'p_civvet', 'p_civdis_18', 'p_civdis_1864', 'p_civdis_65',\n",
       "       'p_samehouse', 'p_diffhousUS', 'p_abroad1yr', 'p_nativeUS',\n",
       "       'p_nativestate', 'p_nat_citz', 'p_spk_engl', 'PercBelowPov', 'pov_bins',\n",
       "       'pov_bin'],\n",
       "      dtype='object')"
      ]
     },
     "execution_count": 23,
     "metadata": {},
     "output_type": "execute_result"
    }
   ],
   "source": [
    "feat = pd.read_pickle('features.pkl')\n",
    "feat.columns\n",
    "#feat.info()"
   ]
  },
  {
   "cell_type": "code",
   "execution_count": 24,
   "metadata": {
    "collapsed": false
   },
   "outputs": [],
   "source": [
    "X_all = feat[['perc_in_labor_frc',\n",
    "      'perc_in_armfrc', 'p_com_carpool', 'p_com_workhome', 'perc_occ_mgt',\n",
    "       'perc_occ_svc', 'p_ind_whlesl', 'p_ind_info', 'p_ind_FIRE',\n",
    "       'p_ind_waste', 'p_ind_edsvc', 'p_ind_pubadm', 'ln_popdens',\n",
    "       'ln_housedens', 'p_nonfamily', 'p_marrfam', 'p_malehh', 'p_femhh',\n",
    "       'avg_hh_size', 'fert_age15_19', 'fert_age20_34', 'fert_age35_50',\n",
    "       'p_highsch', 'p_bachdeg', 'p_civvet', 'p_civdis_18', 'p_civdis_1864',\n",
    "       'p_civdis_65', 'p_samehouse', 'p_diffhousUS', 'p_abroad1yr',\n",
    "       'p_nativeUS', 'p_nativestate', 'p_nat_citz', 'p_spk_engl']]\n",
    "\n",
    "\n",
    "X_imp = feat[['perc_in_labor_frc', 'perc_occ_mgt',\n",
    "       'p_ind_edsvc', 'p_marrfam',   'p_femhh',  \n",
    "       'p_highsch', 'p_civdis_1864', 'p_civdis_65', \n",
    "       'p_nat_citz'  \n",
    "         ]]\n",
    "\n",
    "\n",
    "X = X_imp\n",
    "\n",
    "X = sm.add_constant(X)\n",
    "X = X.fillna(0)\n",
    "\n",
    "numpov = {\"high_pov\":3 ,\"med_high\" :2,\"med_low\":1,\"low_pov\":0}\n",
    "feat['pov_bin_num'] = feat['pov_bins'].apply(numpov.get).astype(int)\n",
    "\n",
    "y = feat['PercBelowPov']/100\n",
    "y = feat['PercBelowPov']\n",
    "y = feat['pov_bin']\n",
    "#y = feat['pov_bin_num']\n",
    "\n",
    "\n"
   ]
  },
  {
   "cell_type": "code",
   "execution_count": 25,
   "metadata": {
    "collapsed": false
   },
   "outputs": [
    {
     "name": "stdout",
     "output_type": "stream",
     "text": [
      "int64 2199\n",
      "<class 'pandas.core.frame.DataFrame'>\n",
      "Int64Index: 2199 entries, 1252 to 2557\n",
      "Data columns (total 10 columns):\n",
      "const                2199 non-null int64\n",
      "perc_in_labor_frc    2199 non-null float64\n",
      "perc_occ_mgt         2199 non-null float64\n",
      "p_ind_edsvc          2199 non-null float64\n",
      "p_marrfam            2199 non-null float64\n",
      "p_femhh              2199 non-null float64\n",
      "p_highsch            2199 non-null float64\n",
      "p_civdis_1864        2199 non-null float64\n",
      "p_civdis_65          2199 non-null float64\n",
      "p_nat_citz           2199 non-null float64\n",
      "dtypes: float64(9), int64(1)\n",
      "memory usage: 189.0 KB\n"
     ]
    }
   ],
   "source": [
    "X_train, X_test, y_train, y_test = train_test_split(X, y, test_size=0.3,\n",
    "                                                    random_state=898)\n",
    "print(y_train.dtype,len(y_train))\n",
    "X_train.info()"
   ]
  },
  {
   "cell_type": "code",
   "execution_count": 26,
   "metadata": {
    "collapsed": true
   },
   "outputs": [],
   "source": [
    "from statsmodels.discrete import discrete_model"
   ]
  },
  {
   "cell_type": "code",
   "execution_count": 27,
   "metadata": {
    "collapsed": false,
    "scrolled": false
   },
   "outputs": [
    {
     "name": "stdout",
     "output_type": "stream",
     "text": [
      "Optimization terminated successfully.\n",
      "         Current function value: 0.357869\n",
      "         Iterations 7\n",
      "                           Logit Regression Results                           \n",
      "==============================================================================\n",
      "Dep. Variable:                pov_bin   No. Observations:                 2199\n",
      "Model:                          Logit   Df Residuals:                     2189\n",
      "Method:                           MLE   Df Model:                            9\n",
      "Date:                Wed, 26 Oct 2016   Pseudo R-squ.:                  0.4837\n",
      "Time:                        15:57:22   Log-Likelihood:                -786.95\n",
      "converged:                       True   LL-Null:                       -1524.2\n",
      "                                        LLR p-value:                     0.000\n",
      "=====================================================================================\n",
      "                        coef    std err          z      P>|z|      [95.0% Conf. Int.]\n",
      "-------------------------------------------------------------------------------------\n",
      "const                21.0935      2.066     10.211      0.000        17.045    25.143\n",
      "perc_in_labor_frc    -0.1003      0.014     -6.935      0.000        -0.129    -0.072\n",
      "perc_occ_mgt         -0.0218      0.016     -1.404      0.160        -0.052     0.009\n",
      "p_ind_edsvc           0.0898      0.017      5.262      0.000         0.056     0.123\n",
      "p_marrfam            -0.1495      0.015    -10.240      0.000        -0.178    -0.121\n",
      "p_femhh               0.1697      0.041      4.163      0.000         0.090     0.250\n",
      "p_highsch            -0.1449      0.017     -8.710      0.000        -0.178    -0.112\n",
      "p_civdis_1864         0.0860      0.027      3.214      0.001         0.034     0.138\n",
      "p_civdis_65           0.0449      0.015      3.034      0.002         0.016     0.074\n",
      "p_nat_citz           -0.0087      0.004     -2.315      0.021        -0.016    -0.001\n",
      "=====================================================================================\n"
     ]
    }
   ],
   "source": [
    "t_log = sm.Logit(y_train,X_train).fit()\n",
    "print (t_log.summary())"
   ]
  },
  {
   "cell_type": "code",
   "execution_count": 28,
   "metadata": {
    "collapsed": false
   },
   "outputs": [],
   "source": [
    "test_pred = t_log.predict(X_test)"
   ]
  },
  {
   "cell_type": "code",
   "execution_count": 42,
   "metadata": {
    "collapsed": false
   },
   "outputs": [
    {
     "data": {
      "text/plain": [
       "array([  2.10935090e+01,  -1.00298724e-01,  -2.18022881e-02,\n",
       "         8.97650827e-02,  -1.49548653e-01,   1.69737479e-01,\n",
       "        -1.44897891e-01,   8.59881771e-02,   4.49464115e-02,\n",
       "        -8.69465067e-03])"
      ]
     },
     "execution_count": 42,
     "metadata": {},
     "output_type": "execute_result"
    }
   ],
   "source": [
    "t_log.params.values"
   ]
  },
  {
   "cell_type": "code",
   "execution_count": 57,
   "metadata": {
    "collapsed": false
   },
   "outputs": [
    {
     "data": {
      "image/png": "[encoded data removed]",
      "text/plain": [
       "<matplotlib.figure.Figure at 0x7f6393e76e48>"
      ]
     },
     "metadata": {},
     "output_type": "display_data"
    }
   ],
   "source": [
    "import seaborn as sns\n",
    "data = {'coeffs': {'% in labor force': -0.1003, '% in management': -.0218, '% in education ind': .0898,\n",
    "                        '% hh married families': -.1495, '% female head of households': .1697, '% high school grads': -.1449, \n",
    "                        '% disabled age 18-64': .0860, '% disabled over 65': .0449, '% foreign naturalized': -.0087}}\n",
    "df_data = pd.DataFrame(data).sort_values('coeffs', ascending=False)\n",
    "sns.barplot(x='coeffs', y=df_data.index, data=df_data, label='final model coefficients', palette='RdBu')\n",
    "plt.xlabel(\"final model coefficients\");\n"
   ]
  },
  {
   "cell_type": "code",
   "execution_count": 12,
   "metadata": {
    "collapsed": false
   },
   "outputs": [
    {
     "data": {
      "text/plain": [
       "<bound method BinaryModel.fit_regularized of <statsmodels.discrete.discrete_model.Logit object at 0x7f56bd00bac8>>"
      ]
     },
     "execution_count": 12,
     "metadata": {},
     "output_type": "execute_result"
    }
   ],
   "source": [
    "sm.Logit(y_train,X_train).fit_regularized"
   ]
  },
  {
   "cell_type": "code",
   "execution_count": 9,
   "metadata": {
    "collapsed": false
   },
   "outputs": [
    {
     "name": "stdout",
     "output_type": "stream",
     "text": [
      "Optimization terminated successfully.    (Exit mode 0)\n",
      "            Current function value: 0.358855555891\n",
      "            Iterations: 87\n",
      "            Function evaluations: 99\n",
      "            Gradient evaluations: 87\n",
      "QC check did not pass for 4 out of 10 parameters\n",
      "Try increasing solver accuracy or number of iterations, decreasing alpha, or switch solvers\n",
      "------ Recall the problem was rescaled by 1 / nobs ---\n",
      "|passed    |alpha     |fprime    |param     |\n",
      "--------------------------------------------\n",
      "|True      |4.548e-05 |-4.543e-05|2.067e+01 |\n",
      "|False     |4.548e-05 |4.856e-05 |-9.944e-02|\n",
      "|True      |4.548e-05 |4.636e-05 |-2.161e-02|\n",
      "|True      |4.548e-05 |-4.492e-05|8.998e-02 |\n",
      "|False     |4.548e-05 |4.752e-05 |-1.477e-01|\n",
      "|True      |4.548e-05 |-4.518e-05|1.724e-01 |\n",
      "|False     |4.548e-05 |4.939e-05 |-1.426e-01|\n",
      "|True      |4.548e-05 |-4.517e-05|8.710e-02 |\n",
      "|True      |4.548e-05 |-4.500e-05|4.604e-02 |\n",
      "|False     |4.548e-05 |5.057e-05 |-8.730e-03|\n",
      "                           Logit Regression Results                           \n",
      "==============================================================================\n",
      "Dep. Variable:                pov_bin   No. Observations:                 2199\n",
      "Model:                          Logit   Df Residuals:                     2195\n",
      "Method:                           MLE   Df Model:                            3\n",
      "Date:                Wed, 26 Oct 2016   Pseudo R-squ.:                -0.07402\n",
      "Time:                        14:52:20   Log-Likelihood:                -1637.1\n",
      "converged:                       True   LL-Null:                       -1524.2\n",
      "                                        LLR p-value:                     1.000\n",
      "=====================================================================================\n",
      "                        coef    std err          z      P>|z|      [95.0% Conf. Int.]\n",
      "-------------------------------------------------------------------------------------\n",
      "const                20.6692      1.501     13.774      0.000        17.728    23.610\n",
      "perc_in_labor_frc          0        nan        nan        nan           nan       nan\n",
      "perc_occ_mgt               0        nan        nan        nan           nan       nan\n",
      "p_ind_edsvc                0        nan        nan        nan           nan       nan\n",
      "p_marrfam            -0.1477      0.013    -11.352      0.000        -0.173    -0.122\n",
      "p_femhh               0.1724      0.039      4.412      0.000         0.096     0.249\n",
      "p_highsch            -0.1426      0.013    -10.642      0.000        -0.169    -0.116\n",
      "p_civdis_1864              0        nan        nan        nan           nan       nan\n",
      "p_civdis_65                0        nan        nan        nan           nan       nan\n",
      "p_nat_citz                 0        nan        nan        nan           nan       nan\n",
      "=====================================================================================\n"
     ]
    }
   ],
   "source": [
    "t_reg = sm.Logit(y_train,X_train).fit_regularized(alpha=0.1,maxiter=10000, \n",
    "                                                  qc_verbose=True, trim_mode='size',\n",
    "                                                 size_trim_tol =0.1)\n",
    "print (t_reg.summary())"
   ]
  },
  {
   "cell_type": "code",
   "execution_count": 10,
   "metadata": {
    "collapsed": false
   },
   "outputs": [],
   "source": [
    "pred = t_reg.predict(X_test)\n"
   ]
  },
  {
   "cell_type": "code",
   "execution_count": 12,
   "metadata": {
    "collapsed": false
   },
   "outputs": [],
   "source": [
    "re_y_test = y_test.copy()"
   ]
  },
  {
   "cell_type": "code",
   "execution_count": 13,
   "metadata": {
    "collapsed": false
   },
   "outputs": [
    {
     "data": {
      "text/html": [
       "<div>\n",
       "<table border=\"1\" class=\"dataframe\">\n",
       "  <thead>\n",
       "    <tr style=\"text-align: right;\">\n",
       "      <th></th>\n",
       "      <th>predicted</th>\n",
       "      <th>test_actual</th>\n",
       "    </tr>\n",
       "  </thead>\n",
       "  <tbody>\n",
       "    <tr>\n",
       "      <th>count</th>\n",
       "      <td>472.000000</td>\n",
       "      <td>472.0</td>\n",
       "    </tr>\n",
       "    <tr>\n",
       "      <th>mean</th>\n",
       "      <td>0.915232</td>\n",
       "      <td>1.0</td>\n",
       "    </tr>\n",
       "    <tr>\n",
       "      <th>std</th>\n",
       "      <td>0.104132</td>\n",
       "      <td>0.0</td>\n",
       "    </tr>\n",
       "    <tr>\n",
       "      <th>min</th>\n",
       "      <td>0.054082</td>\n",
       "      <td>1.0</td>\n",
       "    </tr>\n",
       "    <tr>\n",
       "      <th>25%</th>\n",
       "      <td>0.884329</td>\n",
       "      <td>1.0</td>\n",
       "    </tr>\n",
       "    <tr>\n",
       "      <th>50%</th>\n",
       "      <td>0.949845</td>\n",
       "      <td>1.0</td>\n",
       "    </tr>\n",
       "    <tr>\n",
       "      <th>75%</th>\n",
       "      <td>0.983073</td>\n",
       "      <td>1.0</td>\n",
       "    </tr>\n",
       "    <tr>\n",
       "      <th>max</th>\n",
       "      <td>0.999891</td>\n",
       "      <td>1.0</td>\n",
       "    </tr>\n",
       "  </tbody>\n",
       "</table>\n",
       "</div>"
      ],
      "text/plain": [
       "        predicted  test_actual\n",
       "count  472.000000        472.0\n",
       "mean     0.915232          1.0\n",
       "std      0.104132          0.0\n",
       "min      0.054082          1.0\n",
       "25%      0.884329          1.0\n",
       "50%      0.949845          1.0\n",
       "75%      0.983073          1.0\n",
       "max      0.999891          1.0"
      ]
     },
     "execution_count": 13,
     "metadata": {},
     "output_type": "execute_result"
    }
   ],
   "source": [
    "re_y_test.index = list(range(943))\n",
    "re_y_test\n",
    "s_pred\n",
    "df = pd.concat([s_pred, re_y_test], axis=1)\n",
    "df.columns = ['predicted','test_actual']\n",
    "df.columns\n",
    "\n",
    "act0 = df[df['test_actual'] == 0]\n",
    "act0.describe()\n",
    "\n",
    "act1 = df[df['test_actual'] == 1]\n",
    "act1.describe()"
   ]
  },
  {
   "cell_type": "code",
   "execution_count": 14,
   "metadata": {
    "collapsed": false
   },
   "outputs": [
    {
     "data": {
      "image/png": "[encoded data removed]",
      "text/plain": [
       "<matplotlib.figure.Figure at 0x7f639893ef60>"
      ]
     },
     "metadata": {},
     "output_type": "display_data"
    }
   ],
   "source": [
    "plt.hist(act0['predicted']);"
   ]
  },
  {
   "cell_type": "code",
   "execution_count": 15,
   "metadata": {
    "collapsed": false
   },
   "outputs": [
    {
     "data": {
      "image/png": "[encoded data removed]",
      "text/plain": [
       "<matplotlib.figure.Figure at 0x7f639c042dd8>"
      ]
     },
     "metadata": {},
     "output_type": "display_data"
    }
   ],
   "source": [
    "plt.hist(act1['predicted']);"
   ]
  },
  {
   "cell_type": "code",
   "execution_count": 16,
   "metadata": {
    "collapsed": true
   },
   "outputs": [],
   "source": [
    "X2 = feat[[ \n",
    "       'p_marrfam', 'p_femhh',\n",
    "       'p_highsch', ]]\n",
    "X2 = sm.add_constant(X2)\n",
    "X2 = X2.fillna(0)"
   ]
  },
  {
   "cell_type": "code",
   "execution_count": 17,
   "metadata": {
    "collapsed": true
   },
   "outputs": [],
   "source": [
    "X2_train, X2_test, y_train, y_test = train_test_split(X2, y, test_size=0.3,\n",
    "                                                    random_state=42)"
   ]
  },
  {
   "cell_type": "code",
   "execution_count": 18,
   "metadata": {
    "collapsed": false
   },
   "outputs": [
    {
     "data": {
      "text/html": [
       "<div>\n",
       "<table border=\"1\" class=\"dataframe\">\n",
       "  <thead>\n",
       "    <tr style=\"text-align: right;\">\n",
       "      <th></th>\n",
       "      <th>const</th>\n",
       "      <th>p_marrfam</th>\n",
       "      <th>p_femhh</th>\n",
       "      <th>p_highsch</th>\n",
       "    </tr>\n",
       "  </thead>\n",
       "  <tbody>\n",
       "    <tr>\n",
       "      <th>count</th>\n",
       "      <td>2199.0</td>\n",
       "      <td>2199.000000</td>\n",
       "      <td>2199.000000</td>\n",
       "      <td>2199.000000</td>\n",
       "    </tr>\n",
       "    <tr>\n",
       "      <th>mean</th>\n",
       "      <td>1.0</td>\n",
       "      <td>51.704184</td>\n",
       "      <td>6.331878</td>\n",
       "      <td>85.163302</td>\n",
       "    </tr>\n",
       "    <tr>\n",
       "      <th>std</th>\n",
       "      <td>0.0</td>\n",
       "      <td>6.731549</td>\n",
       "      <td>2.399101</td>\n",
       "      <td>6.726009</td>\n",
       "    </tr>\n",
       "    <tr>\n",
       "      <th>min</th>\n",
       "      <td>1.0</td>\n",
       "      <td>23.200000</td>\n",
       "      <td>0.000000</td>\n",
       "      <td>46.700000</td>\n",
       "    </tr>\n",
       "    <tr>\n",
       "      <th>25%</th>\n",
       "      <td>1.0</td>\n",
       "      <td>48.300000</td>\n",
       "      <td>4.800000</td>\n",
       "      <td>80.900000</td>\n",
       "    </tr>\n",
       "    <tr>\n",
       "      <th>50%</th>\n",
       "      <td>1.0</td>\n",
       "      <td>52.100000</td>\n",
       "      <td>6.100000</td>\n",
       "      <td>86.600000</td>\n",
       "    </tr>\n",
       "    <tr>\n",
       "      <th>75%</th>\n",
       "      <td>1.0</td>\n",
       "      <td>55.900000</td>\n",
       "      <td>7.500000</td>\n",
       "      <td>90.300000</td>\n",
       "    </tr>\n",
       "    <tr>\n",
       "      <th>max</th>\n",
       "      <td>1.0</td>\n",
       "      <td>79.900000</td>\n",
       "      <td>20.400000</td>\n",
       "      <td>98.700000</td>\n",
       "    </tr>\n",
       "  </tbody>\n",
       "</table>\n",
       "</div>"
      ],
      "text/plain": [
       "        const    p_marrfam      p_femhh    p_highsch\n",
       "count  2199.0  2199.000000  2199.000000  2199.000000\n",
       "mean      1.0    51.704184     6.331878    85.163302\n",
       "std       0.0     6.731549     2.399101     6.726009\n",
       "min       1.0    23.200000     0.000000    46.700000\n",
       "25%       1.0    48.300000     4.800000    80.900000\n",
       "50%       1.0    52.100000     6.100000    86.600000\n",
       "75%       1.0    55.900000     7.500000    90.300000\n",
       "max       1.0    79.900000    20.400000    98.700000"
      ]
     },
     "execution_count": 18,
     "metadata": {},
     "output_type": "execute_result"
    }
   ],
   "source": [
    "X2_train.describe()"
   ]
  },
  {
   "cell_type": "code",
   "execution_count": 19,
   "metadata": {
    "collapsed": false
   },
   "outputs": [
    {
     "name": "stdout",
     "output_type": "stream",
     "text": [
      "Optimization terminated successfully.\n",
      "         Current function value: 0.428996\n",
      "         Iterations 7\n",
      "                           Logit Regression Results                           \n",
      "==============================================================================\n",
      "Dep. Variable:                pov_bin   No. Observations:                 2199\n",
      "Model:                          Logit   Df Residuals:                     2195\n",
      "Method:                           MLE   Df Model:                            3\n",
      "Date:                Wed, 26 Oct 2016   Pseudo R-squ.:                  0.3809\n",
      "Time:                        14:57:06   Log-Likelihood:                -943.36\n",
      "converged:                       True   LL-Null:                       -1523.7\n",
      "                                        LLR p-value:                2.427e-251\n",
      "==============================================================================\n",
      "                 coef    std err          z      P>|z|      [95.0% Conf. Int.]\n",
      "------------------------------------------------------------------------------\n",
      "const         31.1060      1.621     19.194      0.000        27.930    34.282\n",
      "p_marrfam     -0.1969      0.013    -14.636      0.000        -0.223    -0.171\n",
      "p_femhh        0.0275      0.035      0.791      0.429        -0.041     0.096\n",
      "p_highsch     -0.2469      0.013    -19.026      0.000        -0.272    -0.222\n",
      "==============================================================================\n"
     ]
    }
   ],
   "source": [
    "t2_log = sm.Logit(y_train,X2_train).fit()\n",
    "print (t2_log.summary())"
   ]
  },
  {
   "cell_type": "code",
   "execution_count": 61,
   "metadata": {
    "collapsed": false
   },
   "outputs": [
    {
     "data": {
      "image/png": "[encoded data removed]",
      "text/plain": [
       "<matplotlib.figure.Figure at 0x7f6393c83f60>"
      ]
     },
     "metadata": {},
     "output_type": "display_data"
    }
   ],
   "source": [
    "g = sb.jointplot('p_femhh', 'p_marrfam', X2, color='maroon')"
   ]
  },
  {
   "cell_type": "code",
   "execution_count": null,
   "metadata": {
    "collapsed": true
   },
   "outputs": [],
   "source": []
  }
 ],
 "metadata": {
  "kernelspec": {
   "display_name": "Python 3",
   "language": "python",
   "name": "python3"
  },
  "language_info": {
   "codemirror_mode": {
    "name": "ipython",
    "version": 3
   },
   "file_extension": ".py",
   "mimetype": "text/x-python",
   "name": "python",
   "nbconvert_exporter": "python",
   "pygments_lexer": "ipython3",
   "version": "3.5.2"
  }
 },
 "nbformat": 4,
 "nbformat_minor": 0
}
