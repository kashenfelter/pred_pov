{
 "cells": [
  {
   "cell_type": "markdown",
   "metadata": {},
   "source": [
    "### Combine Data Sets \n",
    "\n",
    "This notebook combines the following:  \n",
    "*    ACS data sets DP02, DP03, DP04, and DP05   \n",
    "*    Municipal Tax data  \n",
    "*    Sustainability New Jersey data\n",
    "*    Train stations\n",
    "*    Indeed.com job listings\n",
    "\n",
    "#### Only run the sections that build on the already existing pickles\n"
   ]
  },
  {
   "cell_type": "code",
   "execution_count": null,
   "metadata": {
    "collapsed": true
   },
   "outputs": [],
   "source": [
    "import pandas as pd\n",
    "import matplotlib.pyplot as plt\n",
    "%matplotlib inline\n",
    "\n",
    "import seaborn as sb"
   ]
  },
  {
   "cell_type": "code",
   "execution_count": null,
   "metadata": {
    "collapsed": true
   },
   "outputs": [],
   "source": [
    "## Import pickled data\n",
    "\n",
    "econ = pd.read_pickle('econ.pkl')\n",
    "housing =pd.read_pickle('housing.pkl')\n",
    "demog = pd.read_pickle('AgeSexRace.pkl')\n",
    "misc = pd.read_pickle('misc.pkl')"
   ]
  },
  {
   "cell_type": "code",
   "execution_count": null,
   "metadata": {
    "collapsed": false
   },
   "outputs": [],
   "source": [
    "# join data frames into a combined dataframe\n",
    "\n",
    "econ_housing = pd.merge(econ, housing, on=['FIPS','city_town'])\n",
    "demog_misc = pd.merge(demog, misc, on=['FIPS','city_town'])\n",
    "acs = pd.merge(econ_housing, demog_misc, on=['FIPS','city_town'])"
   ]
  },
  {
   "cell_type": "code",
   "execution_count": null,
   "metadata": {
    "collapsed": false
   },
   "outputs": [],
   "source": [
    "# delete rows where 0 percent in labor force is indicated\n",
    "acs = acs[acs['p_in_lab'] != 0]\n",
    "acs.head()\n",
    "acs.info()"
   ]
  },
  {
   "cell_type": "code",
   "execution_count": null,
   "metadata": {
    "collapsed": false
   },
   "outputs": [],
   "source": [
    " acs['ix']=range(565)"
   ]
  },
  {
   "cell_type": "code",
   "execution_count": null,
   "metadata": {
    "collapsed": false
   },
   "outputs": [],
   "source": [
    "\n",
    "acs = acs.set_index('ix')\n",
    "acs.iloc[0:4]\n",
    "acs.info()\n",
    "acs.index[:10]"
   ]
  },
  {
   "cell_type": "code",
   "execution_count": null,
   "metadata": {
    "collapsed": false
   },
   "outputs": [],
   "source": [
    "## break out town and county names\n",
    "s =pd.DataFrame([x.split(sep=',') for x in acs['city_town']])\n",
    "s.columns = ['town','county','state']\n",
    "s.info()"
   ]
  },
  {
   "cell_type": "code",
   "execution_count": null,
   "metadata": {
    "collapsed": false
   },
   "outputs": [],
   "source": [
    "acs_s = s.join(acs)\n",
    "acs_s.iloc[0:3]"
   ]
  },
  {
   "cell_type": "code",
   "execution_count": null,
   "metadata": {
    "collapsed": false
   },
   "outputs": [],
   "source": [
    "acs_s.to_pickle('acs_s.pkl')"
   ]
  },
  {
   "cell_type": "markdown",
   "metadata": {
    "collapsed": true
   },
   "source": [
    "### Below, we add the taxes data"
   ]
  },
  {
   "cell_type": "code",
   "execution_count": 42,
   "metadata": {
    "collapsed": true
   },
   "outputs": [],
   "source": [
    "import pandas as pd\n",
    "taxes = pd.read_pickle('taxes.pkl')\n",
    "acs_s = pd.read_pickle('acs_s.pkl')"
   ]
  },
  {
   "cell_type": "code",
   "execution_count": 43,
   "metadata": {
    "collapsed": false
   },
   "outputs": [
    {
     "name": "stdout",
     "output_type": "stream",
     "text": [
      "<class 'pandas.core.frame.DataFrame'>\n",
      "RangeIndex: 565 entries, 0 to 564\n",
      "Data columns (total 6 columns):\n",
      "town         565 non-null object\n",
      "county       565 non-null object\n",
      "state        565 non-null object\n",
      "FIPS         565 non-null object\n",
      "city_town    565 non-null object\n",
      "p_in_lab     565 non-null float64\n",
      "dtypes: float64(1), object(5)\n",
      "memory usage: 26.6+ KB\n"
     ]
    }
   ],
   "source": [
    "acs_s.iloc[:,:6].info()"
   ]
  },
  {
   "cell_type": "code",
   "execution_count": 44,
   "metadata": {
    "collapsed": false
   },
   "outputs": [
    {
     "name": "stdout",
     "output_type": "stream",
     "text": [
      "<class 'pandas.core.frame.DataFrame'>\n",
      "Int64Index: 565 entries, 0 to 564\n",
      "Data columns (total 20 columns):\n",
      "FIPS                                                           565 non-null object\n",
      "CountyLevy%ofTotalLevy                                         565 non-null float64\n",
      "SchoolLevy%ofTotalLevy                                         565 non-null float64\n",
      "MunicipalLevy%ofTotalLevy                                      565 non-null float64\n",
      "CYMunicipalRate                                                565 non-null float64\n",
      "CYMunicipalLibraryRate                                         565 non-null float64\n",
      "CYMunicipalOpenSpaceRate                                       565 non-null float64\n",
      "CYTotalMunicipalRate                                           565 non-null float64\n",
      "CYSchoolRate                                                   565 non-null float64\n",
      "CYCountyRate                                                   565 non-null float64\n",
      "CYTotalRate                                                    565 non-null float64\n",
      "AverageResidentialPropertyValue                                565 non-null int64\n",
      "AverageTotalPropertyTaxes(notincludingcreditsanddeductions)    565 non-null int64\n",
      "StateEqualizationTableAverageRatio                             565 non-null float64\n",
      "StateEqualizationTableAverageRatio(DecimalForm)                565 non-null float64\n",
      "CYCountyEQTaxRate                                              565 non-null float64\n",
      "CYSchoolEQTaxRate                                              565 non-null float64\n",
      "CYLocalPurposeMunicipalEQTaxRate                               565 non-null float64\n",
      "CYTotalMunicipalEQRate                                         565 non-null float64\n",
      "CYTotalEQRate(REAPNotIncluded)                                 565 non-null float64\n",
      "dtypes: float64(17), int64(2), object(1)\n",
      "memory usage: 92.7+ KB\n"
     ]
    }
   ],
   "source": [
    "taxes.info()"
   ]
  },
  {
   "cell_type": "code",
   "execution_count": 45,
   "metadata": {
    "collapsed": false
   },
   "outputs": [],
   "source": [
    "acs_tax = acs_s.merge(taxes, on='FIPS')"
   ]
  },
  {
   "cell_type": "code",
   "execution_count": 46,
   "metadata": {
    "collapsed": false
   },
   "outputs": [
    {
     "name": "stdout",
     "output_type": "stream",
     "text": [
      "<class 'pandas.core.frame.DataFrame'>\n",
      "Int64Index: 565 entries, 0 to 564\n",
      "Columns: 154 entries, town to CYTotalEQRate(REAPNotIncluded)\n",
      "dtypes: float64(147), int64(2), object(5)\n",
      "memory usage: 684.2+ KB\n"
     ]
    }
   ],
   "source": [
    "acs_tax.info()"
   ]
  },
  {
   "cell_type": "code",
   "execution_count": 47,
   "metadata": {
    "collapsed": true
   },
   "outputs": [],
   "source": [
    "acs_tax.to_pickle('acs_tax.pkl')"
   ]
  },
  {
   "cell_type": "code",
   "execution_count": 48,
   "metadata": {
    "collapsed": false
   },
   "outputs": [
    {
     "name": "stdout",
     "output_type": "stream",
     "text": [
      "acs_s.pkl\t d2.pkl       labor_combine.pkl  muni.pkl\r\n",
      "acs_tax.pkl\t econ.pkl     labor.pkl\t\t njtrain_stations.pkl\r\n",
      "acs_tax_sus.pkl  housing.pkl  misc.pkl\t\t sustain.pkl\r\n",
      "AgeSexRace.pkl\t jobs.pkl     muni_names.pkl\t taxes.pkl\r\n"
     ]
    }
   ],
   "source": [
    "!ls *.pkl"
   ]
  },
  {
   "cell_type": "code",
   "execution_count": 50,
   "metadata": {
    "collapsed": false
   },
   "outputs": [],
   "source": [
    "sustain = pd.read_pickle('sustain.pkl')"
   ]
  },
  {
   "cell_type": "code",
   "execution_count": 51,
   "metadata": {
    "collapsed": true
   },
   "outputs": [],
   "source": [
    "## This merge adds only one column, num_badge, which represents efforts towards sustainability\n",
    "## as recognized by Sustainability New Jersey\n",
    "\n",
    "acs_tax_sus = acs_tax.merge(sustain, on='FIPS')"
   ]
  },
  {
   "cell_type": "code",
   "execution_count": 52,
   "metadata": {
    "collapsed": false
   },
   "outputs": [
    {
     "name": "stdout",
     "output_type": "stream",
     "text": [
      "<class 'pandas.core.frame.DataFrame'>\n",
      "Int64Index: 565 entries, 0 to 564\n",
      "Columns: 155 entries, town to num_badge\n",
      "dtypes: float64(148), int64(2), object(5)\n",
      "memory usage: 688.6+ KB\n"
     ]
    }
   ],
   "source": [
    "acs_tax_sus.info()"
   ]
  },
  {
   "cell_type": "code",
   "execution_count": 53,
   "metadata": {
    "collapsed": true
   },
   "outputs": [],
   "source": [
    "acs_tax_sus.to_pickle('acs_tax_sus.pkl')"
   ]
  },
  {
   "cell_type": "code",
   "execution_count": 54,
   "metadata": {
    "collapsed": false
   },
   "outputs": [
    {
     "data": {
      "text/plain": [
       "Index(['town', 'county', 'state', 'FIPS', 'city_town', 'p_in_lab',\n",
       "       'p_unemployed', 'p_fem_labforce', 'p_fem_employed', 'p_ch6_paremp',\n",
       "       ...\n",
       "       'AverageResidentialPropertyValue',\n",
       "       'AverageTotalPropertyTaxes(notincludingcreditsanddeductions)',\n",
       "       'StateEqualizationTableAverageRatio',\n",
       "       'StateEqualizationTableAverageRatio(DecimalForm)', 'CYCountyEQTaxRate',\n",
       "       'CYSchoolEQTaxRate', 'CYLocalPurposeMunicipalEQTaxRate',\n",
       "       'CYTotalMunicipalEQRate', 'CYTotalEQRate(REAPNotIncluded)',\n",
       "       'num_badge'],\n",
       "      dtype='object', length=155)"
      ]
     },
     "execution_count": 54,
     "metadata": {},
     "output_type": "execute_result"
    }
   ],
   "source": [
    "acs_tax_sus.columns"
   ]
  },
  {
   "cell_type": "code",
   "execution_count": 55,
   "metadata": {
    "collapsed": false
   },
   "outputs": [
    {
     "name": "stdout",
     "output_type": "stream",
     "text": [
      "<class 'pandas.core.frame.DataFrame'>\n",
      "Int64Index: 565 entries, 0 to 564\n",
      "Data columns (total 2 columns):\n",
      "FIPS         565 non-null object\n",
      "city_town    565 non-null object\n",
      "dtypes: object(2)\n",
      "memory usage: 13.2+ KB\n"
     ]
    }
   ],
   "source": [
    "acs_tax_sus.loc[:,'FIPS':'city_town'].info()"
   ]
  },
  {
   "cell_type": "code",
   "execution_count": 56,
   "metadata": {
    "collapsed": false
   },
   "outputs": [
    {
     "name": "stdout",
     "output_type": "stream",
     "text": [
      "<class 'pandas.core.frame.DataFrame'>\n",
      "RangeIndex: 565 entries, 0 to 564\n",
      "Data columns (total 2 columns):\n",
      "FIPS              565 non-null object\n",
      "num_train_stat    565 non-null float64\n",
      "dtypes: float64(1), object(1)\n",
      "memory usage: 8.9+ KB\n"
     ]
    },
    {
     "data": {
      "text/html": [
       "<div>\n",
       "<table border=\"1\" class=\"dataframe\">\n",
       "  <thead>\n",
       "    <tr style=\"text-align: right;\">\n",
       "      <th></th>\n",
       "      <th>FIPS</th>\n",
       "      <th>num_train_stat</th>\n",
       "    </tr>\n",
       "  </thead>\n",
       "  <tbody>\n",
       "    <tr>\n",
       "      <th>0</th>\n",
       "      <td>3402500070</td>\n",
       "      <td>0.0</td>\n",
       "    </tr>\n",
       "    <tr>\n",
       "      <th>1</th>\n",
       "      <td>3400100100</td>\n",
       "      <td>1.0</td>\n",
       "    </tr>\n",
       "    <tr>\n",
       "      <th>2</th>\n",
       "      <td>3401900550</td>\n",
       "      <td>0.0</td>\n",
       "    </tr>\n",
       "    <tr>\n",
       "      <th>3</th>\n",
       "      <td>3404100670</td>\n",
       "      <td>0.0</td>\n",
       "    </tr>\n",
       "    <tr>\n",
       "      <th>4</th>\n",
       "      <td>3400300700</td>\n",
       "      <td>1.0</td>\n",
       "    </tr>\n",
       "  </tbody>\n",
       "</table>\n",
       "</div>"
      ],
      "text/plain": [
       "         FIPS  num_train_stat\n",
       "0  3402500070             0.0\n",
       "1  3400100100             1.0\n",
       "2  3401900550             0.0\n",
       "3  3404100670             0.0\n",
       "4  3400300700             1.0"
      ]
     },
     "execution_count": 56,
     "metadata": {},
     "output_type": "execute_result"
    }
   ],
   "source": [
    "njtrain = pd.read_pickle('njtrain_stations.pkl')\n",
    "#njtrain = njtrain.loc[:,['FIPS','num_train_stat']]\n",
    "njtrain.info()\n",
    "njtrain.head()"
   ]
  },
  {
   "cell_type": "code",
   "execution_count": 57,
   "metadata": {
    "collapsed": false
   },
   "outputs": [
    {
     "name": "stdout",
     "output_type": "stream",
     "text": [
      "<class 'pandas.core.frame.DataFrame'>\n",
      "Int64Index: 565 entries, 0 to 564\n",
      "Columns: 156 entries, town to num_train_stat\n",
      "dtypes: float64(149), int64(2), object(5)\n",
      "memory usage: 693.0+ KB\n"
     ]
    }
   ],
   "source": [
    "d1 = acs_tax_sus.merge(njtrain, on='FIPS')\n",
    "d1.info()"
   ]
  },
  {
   "cell_type": "code",
   "execution_count": 58,
   "metadata": {
    "collapsed": false
   },
   "outputs": [
    {
     "data": {
      "text/html": [
       "<div>\n",
       "<table border=\"1\" class=\"dataframe\">\n",
       "  <thead>\n",
       "    <tr style=\"text-align: right;\">\n",
       "      <th></th>\n",
       "      <th>town</th>\n",
       "      <th>county</th>\n",
       "      <th>state</th>\n",
       "      <th>FIPS</th>\n",
       "      <th>city_town</th>\n",
       "      <th>p_in_lab</th>\n",
       "      <th>p_unemployed</th>\n",
       "      <th>p_fem_labforce</th>\n",
       "      <th>p_fem_employed</th>\n",
       "      <th>p_ch6_paremp</th>\n",
       "      <th>...</th>\n",
       "      <th>AverageTotalPropertyTaxes(notincludingcreditsanddeductions)</th>\n",
       "      <th>StateEqualizationTableAverageRatio</th>\n",
       "      <th>StateEqualizationTableAverageRatio(DecimalForm)</th>\n",
       "      <th>CYCountyEQTaxRate</th>\n",
       "      <th>CYSchoolEQTaxRate</th>\n",
       "      <th>CYLocalPurposeMunicipalEQTaxRate</th>\n",
       "      <th>CYTotalMunicipalEQRate</th>\n",
       "      <th>CYTotalEQRate(REAPNotIncluded)</th>\n",
       "      <th>num_badge</th>\n",
       "      <th>num_train_stat</th>\n",
       "    </tr>\n",
       "  </thead>\n",
       "  <tbody>\n",
       "    <tr>\n",
       "      <th>0</th>\n",
       "      <td>Absecon city</td>\n",
       "      <td>Atlantic County</td>\n",
       "      <td>New Jersey</td>\n",
       "      <td>3400100100</td>\n",
       "      <td>Absecon city, Atlantic County, New Jersey</td>\n",
       "      <td>67.3</td>\n",
       "      <td>7.0</td>\n",
       "      <td>61.1</td>\n",
       "      <td>54.9</td>\n",
       "      <td>78.2</td>\n",
       "      <td>...</td>\n",
       "      <td>4539</td>\n",
       "      <td>92.04</td>\n",
       "      <td>0.9204</td>\n",
       "      <td>0.463</td>\n",
       "      <td>1.444</td>\n",
       "      <td>0.945</td>\n",
       "      <td>0.978</td>\n",
       "      <td>2.885</td>\n",
       "      <td>0.0</td>\n",
       "      <td>1.0</td>\n",
       "    </tr>\n",
       "    <tr>\n",
       "      <th>1</th>\n",
       "      <td>Atlantic City city</td>\n",
       "      <td>Atlantic County</td>\n",
       "      <td>New Jersey</td>\n",
       "      <td>3400102080</td>\n",
       "      <td>Atlantic City city, Atlantic County, New Jersey</td>\n",
       "      <td>60.4</td>\n",
       "      <td>10.5</td>\n",
       "      <td>57.6</td>\n",
       "      <td>48.1</td>\n",
       "      <td>61.6</td>\n",
       "      <td>...</td>\n",
       "      <td>5315</td>\n",
       "      <td>87.47</td>\n",
       "      <td>0.8747</td>\n",
       "      <td>0.336</td>\n",
       "      <td>1.084</td>\n",
       "      <td>1.528</td>\n",
       "      <td>1.573</td>\n",
       "      <td>2.993</td>\n",
       "      <td>2.0</td>\n",
       "      <td>1.0</td>\n",
       "    </tr>\n",
       "    <tr>\n",
       "      <th>2</th>\n",
       "      <td>Brigantine city</td>\n",
       "      <td>Atlantic County</td>\n",
       "      <td>New Jersey</td>\n",
       "      <td>3400107810</td>\n",
       "      <td>Brigantine city, Atlantic County, New Jersey</td>\n",
       "      <td>61.4</td>\n",
       "      <td>5.5</td>\n",
       "      <td>57.0</td>\n",
       "      <td>52.8</td>\n",
       "      <td>92.3</td>\n",
       "      <td>...</td>\n",
       "      <td>4455</td>\n",
       "      <td>94.38</td>\n",
       "      <td>0.9438</td>\n",
       "      <td>0.509</td>\n",
       "      <td>0.492</td>\n",
       "      <td>0.671</td>\n",
       "      <td>0.671</td>\n",
       "      <td>1.672</td>\n",
       "      <td>2.0</td>\n",
       "      <td>0.0</td>\n",
       "    </tr>\n",
       "    <tr>\n",
       "      <th>3</th>\n",
       "      <td>Buena borough</td>\n",
       "      <td>Atlantic County</td>\n",
       "      <td>New Jersey</td>\n",
       "      <td>3400108680</td>\n",
       "      <td>Buena borough, Atlantic County, New Jersey</td>\n",
       "      <td>68.4</td>\n",
       "      <td>12.5</td>\n",
       "      <td>61.1</td>\n",
       "      <td>55.2</td>\n",
       "      <td>74.7</td>\n",
       "      <td>...</td>\n",
       "      <td>4090</td>\n",
       "      <td>113.03</td>\n",
       "      <td>1.1303</td>\n",
       "      <td>0.502</td>\n",
       "      <td>1.550</td>\n",
       "      <td>1.055</td>\n",
       "      <td>1.055</td>\n",
       "      <td>3.107</td>\n",
       "      <td>1.0</td>\n",
       "      <td>0.0</td>\n",
       "    </tr>\n",
       "    <tr>\n",
       "      <th>4</th>\n",
       "      <td>Buena Vista township</td>\n",
       "      <td>Atlantic County</td>\n",
       "      <td>New Jersey</td>\n",
       "      <td>3400108710</td>\n",
       "      <td>Buena Vista township, Atlantic County, New Jersey</td>\n",
       "      <td>63.0</td>\n",
       "      <td>9.8</td>\n",
       "      <td>61.6</td>\n",
       "      <td>52.8</td>\n",
       "      <td>60.0</td>\n",
       "      <td>...</td>\n",
       "      <td>4017</td>\n",
       "      <td>106.30</td>\n",
       "      <td>1.0630</td>\n",
       "      <td>0.489</td>\n",
       "      <td>1.558</td>\n",
       "      <td>0.419</td>\n",
       "      <td>0.419</td>\n",
       "      <td>2.466</td>\n",
       "      <td>3.0</td>\n",
       "      <td>0.0</td>\n",
       "    </tr>\n",
       "  </tbody>\n",
       "</table>\n",
       "<p>5 rows × 156 columns</p>\n",
       "</div>"
      ],
      "text/plain": [
       "                   town            county        state        FIPS  \\\n",
       "0          Absecon city   Atlantic County   New Jersey  3400100100   \n",
       "1    Atlantic City city   Atlantic County   New Jersey  3400102080   \n",
       "2       Brigantine city   Atlantic County   New Jersey  3400107810   \n",
       "3         Buena borough   Atlantic County   New Jersey  3400108680   \n",
       "4  Buena Vista township   Atlantic County   New Jersey  3400108710   \n",
       "\n",
       "                                           city_town  p_in_lab  p_unemployed  \\\n",
       "0          Absecon city, Atlantic County, New Jersey      67.3           7.0   \n",
       "1    Atlantic City city, Atlantic County, New Jersey      60.4          10.5   \n",
       "2       Brigantine city, Atlantic County, New Jersey      61.4           5.5   \n",
       "3         Buena borough, Atlantic County, New Jersey      68.4          12.5   \n",
       "4  Buena Vista township, Atlantic County, New Jersey      63.0           9.8   \n",
       "\n",
       "   p_fem_labforce  p_fem_employed  p_ch6_paremp       ...        \\\n",
       "0            61.1            54.9          78.2       ...         \n",
       "1            57.6            48.1          61.6       ...         \n",
       "2            57.0            52.8          92.3       ...         \n",
       "3            61.1            55.2          74.7       ...         \n",
       "4            61.6            52.8          60.0       ...         \n",
       "\n",
       "   AverageTotalPropertyTaxes(notincludingcreditsanddeductions)  \\\n",
       "0                                               4539             \n",
       "1                                               5315             \n",
       "2                                               4455             \n",
       "3                                               4090             \n",
       "4                                               4017             \n",
       "\n",
       "   StateEqualizationTableAverageRatio  \\\n",
       "0                               92.04   \n",
       "1                               87.47   \n",
       "2                               94.38   \n",
       "3                              113.03   \n",
       "4                              106.30   \n",
       "\n",
       "   StateEqualizationTableAverageRatio(DecimalForm)  CYCountyEQTaxRate  \\\n",
       "0                                           0.9204              0.463   \n",
       "1                                           0.8747              0.336   \n",
       "2                                           0.9438              0.509   \n",
       "3                                           1.1303              0.502   \n",
       "4                                           1.0630              0.489   \n",
       "\n",
       "   CYSchoolEQTaxRate  CYLocalPurposeMunicipalEQTaxRate  \\\n",
       "0              1.444                             0.945   \n",
       "1              1.084                             1.528   \n",
       "2              0.492                             0.671   \n",
       "3              1.550                             1.055   \n",
       "4              1.558                             0.419   \n",
       "\n",
       "   CYTotalMunicipalEQRate  CYTotalEQRate(REAPNotIncluded)  num_badge  \\\n",
       "0                   0.978                           2.885        0.0   \n",
       "1                   1.573                           2.993        2.0   \n",
       "2                   0.671                           1.672        2.0   \n",
       "3                   1.055                           3.107        1.0   \n",
       "4                   0.419                           2.466        3.0   \n",
       "\n",
       "   num_train_stat  \n",
       "0             1.0  \n",
       "1             1.0  \n",
       "2             0.0  \n",
       "3             0.0  \n",
       "4             0.0  \n",
       "\n",
       "[5 rows x 156 columns]"
      ]
     },
     "execution_count": 58,
     "metadata": {},
     "output_type": "execute_result"
    }
   ],
   "source": [
    "d1.head()"
   ]
  },
  {
   "cell_type": "code",
   "execution_count": 59,
   "metadata": {
    "collapsed": false
   },
   "outputs": [
    {
     "name": "stdout",
     "output_type": "stream",
     "text": [
      "<class 'pandas.core.frame.DataFrame'>\n",
      "Int64Index: 565 entries, 0 to 564\n",
      "Data columns (total 4 columns):\n",
      "FIPS               565 non-null object\n",
      "management_rate    565 non-null float64\n",
      "teacher_rate       565 non-null float64\n",
      "developer_rate     565 non-null float64\n",
      "dtypes: float64(3), object(1)\n",
      "memory usage: 22.1+ KB\n"
     ]
    },
    {
     "data": {
      "text/html": [
       "<div>\n",
       "<table border=\"1\" class=\"dataframe\">\n",
       "  <thead>\n",
       "    <tr style=\"text-align: right;\">\n",
       "      <th></th>\n",
       "      <th>FIPS</th>\n",
       "      <th>management_rate</th>\n",
       "      <th>teacher_rate</th>\n",
       "      <th>developer_rate</th>\n",
       "    </tr>\n",
       "  </thead>\n",
       "  <tbody>\n",
       "    <tr>\n",
       "      <th>0</th>\n",
       "      <td>3400100100</td>\n",
       "      <td>2.279898</td>\n",
       "      <td>0.727648</td>\n",
       "      <td>0.997808</td>\n",
       "    </tr>\n",
       "    <tr>\n",
       "      <th>1</th>\n",
       "      <td>3400102080</td>\n",
       "      <td>2.698644</td>\n",
       "      <td>0.359848</td>\n",
       "      <td>0.359848</td>\n",
       "    </tr>\n",
       "    <tr>\n",
       "      <th>2</th>\n",
       "      <td>3400107810</td>\n",
       "      <td>1.021209</td>\n",
       "      <td>0.000000</td>\n",
       "      <td>0.000000</td>\n",
       "    </tr>\n",
       "    <tr>\n",
       "      <th>3</th>\n",
       "      <td>3400108680</td>\n",
       "      <td>1.523245</td>\n",
       "      <td>0.335447</td>\n",
       "      <td>0.000000</td>\n",
       "    </tr>\n",
       "    <tr>\n",
       "      <th>4</th>\n",
       "      <td>3400108710</td>\n",
       "      <td>0.000000</td>\n",
       "      <td>0.000000</td>\n",
       "      <td>0.000000</td>\n",
       "    </tr>\n",
       "  </tbody>\n",
       "</table>\n",
       "</div>"
      ],
      "text/plain": [
       "         FIPS  management_rate  teacher_rate  developer_rate\n",
       "0  3400100100         2.279898      0.727648        0.997808\n",
       "1  3400102080         2.698644      0.359848        0.359848\n",
       "2  3400107810         1.021209      0.000000        0.000000\n",
       "3  3400108680         1.523245      0.335447        0.000000\n",
       "4  3400108710         0.000000      0.000000        0.000000"
      ]
     },
     "execution_count": 59,
     "metadata": {},
     "output_type": "execute_result"
    }
   ],
   "source": [
    "labor = pd.read_pickle('labor_combine.pkl')\n",
    "labor.info()\n",
    "labor.head()"
   ]
  },
  {
   "cell_type": "code",
   "execution_count": 60,
   "metadata": {
    "collapsed": true
   },
   "outputs": [],
   "source": [
    "d2 = d1.merge(labor, on='FIPS')"
   ]
  },
  {
   "cell_type": "code",
   "execution_count": 61,
   "metadata": {
    "collapsed": false
   },
   "outputs": [
    {
     "name": "stdout",
     "output_type": "stream",
     "text": [
      "<class 'pandas.core.frame.DataFrame'>\n",
      "Int64Index: 565 entries, 0 to 564\n",
      "Columns: 159 entries, town to developer_rate\n",
      "dtypes: float64(152), int64(2), object(5)\n",
      "memory usage: 706.2+ KB\n"
     ]
    }
   ],
   "source": [
    "d2.info()"
   ]
  },
  {
   "cell_type": "code",
   "execution_count": 62,
   "metadata": {
    "collapsed": true
   },
   "outputs": [],
   "source": [
    "d2.to_pickle('d2.pkl')"
   ]
  },
  {
   "cell_type": "code",
   "execution_count": null,
   "metadata": {
    "collapsed": true
   },
   "outputs": [],
   "source": []
  }
 ],
 "metadata": {
  "kernelspec": {
   "display_name": "Python 3",
   "language": "python",
   "name": "python3"
  },
  "language_info": {
   "codemirror_mode": {
    "name": "ipython",
    "version": 3
   },
   "file_extension": ".py",
   "mimetype": "text/x-python",
   "name": "python",
   "nbconvert_exporter": "python",
   "pygments_lexer": "ipython3",
   "version": "3.5.2"
  }
 },
 "nbformat": 4,
 "nbformat_minor": 0
}
