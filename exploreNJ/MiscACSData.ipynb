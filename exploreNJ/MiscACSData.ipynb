{
 "cells": [
  {
   "cell_type": "markdown",
   "metadata": {},
   "source": [
    "Load ACS data into dataframes.  Join and save pickled result"
   ]
  },
  {
   "cell_type": "markdown",
   "metadata": {},
   "source": [
    "### DP02 misc data\n",
    "\n",
    "\n"
   ]
  },
  {
   "cell_type": "code",
   "execution_count": 1,
   "metadata": {
    "collapsed": false
   },
   "outputs": [],
   "source": [
    "import pandas as pd\n",
    "\n",
    "import numpy as np\n",
    "import matplotlib.pyplot as plt\n",
    "%matplotlib inline\n",
    "\n",
    "import seaborn as sb\n",
    "\n",
    "from sklearn.model_selection import train_test_split\n",
    "from sklearn.linear_model import LogisticRegression\n",
    "import statsmodels.api as sm \n",
    "from statsmodels.discrete import discrete_model"
   ]
  },
  {
   "cell_type": "code",
   "execution_count": 2,
   "metadata": {
    "collapsed": true
   },
   "outputs": [],
   "source": [
    "DP02 = pd.read_csv('Data/ACS_14_5YR_DP02.csv', skiprows=0)"
   ]
  },
  {
   "cell_type": "code",
   "execution_count": 3,
   "metadata": {
    "collapsed": true
   },
   "outputs": [],
   "source": [
    "DP02 = DP02.iloc[1:,:].copy()"
   ]
  },
  {
   "cell_type": "code",
   "execution_count": 4,
   "metadata": {
    "collapsed": false
   },
   "outputs": [
    {
     "data": {
      "text/html": [
       "<div>\n",
       "<table border=\"1\" class=\"dataframe\">\n",
       "  <thead>\n",
       "    <tr style=\"text-align: right;\">\n",
       "      <th></th>\n",
       "      <th>GEO.id</th>\n",
       "      <th>GEO.id2</th>\n",
       "      <th>GEO.display-label</th>\n",
       "      <th>HC01_VC03</th>\n",
       "      <th>HC02_VC03</th>\n",
       "      <th>HC03_VC03</th>\n",
       "      <th>HC04_VC03</th>\n",
       "      <th>HC01_VC04</th>\n",
       "      <th>HC02_VC04</th>\n",
       "      <th>HC03_VC04</th>\n",
       "      <th>...</th>\n",
       "      <th>HC03_VC216</th>\n",
       "      <th>HC04_VC216</th>\n",
       "      <th>HC01_VC217</th>\n",
       "      <th>HC02_VC217</th>\n",
       "      <th>HC03_VC217</th>\n",
       "      <th>HC04_VC217</th>\n",
       "      <th>HC01_VC218</th>\n",
       "      <th>HC02_VC218</th>\n",
       "      <th>HC03_VC218</th>\n",
       "      <th>HC04_VC218</th>\n",
       "    </tr>\n",
       "  </thead>\n",
       "  <tbody>\n",
       "    <tr>\n",
       "      <th>1</th>\n",
       "      <td>0600000US3400100000</td>\n",
       "      <td>3400100000</td>\n",
       "      <td>County subdivisions not defined, Atlantic Coun...</td>\n",
       "      <td>0</td>\n",
       "      <td>12</td>\n",
       "      <td>0</td>\n",
       "      <td>NaN</td>\n",
       "      <td>0</td>\n",
       "      <td>12</td>\n",
       "      <td>NaN</td>\n",
       "      <td>...</td>\n",
       "      <td>NaN</td>\n",
       "      <td>NaN</td>\n",
       "      <td>NaN</td>\n",
       "      <td>NaN</td>\n",
       "      <td>NaN</td>\n",
       "      <td>NaN</td>\n",
       "      <td>NaN</td>\n",
       "      <td>NaN</td>\n",
       "      <td>NaN</td>\n",
       "      <td>NaN</td>\n",
       "    </tr>\n",
       "    <tr>\n",
       "      <th>2</th>\n",
       "      <td>0600000US3400100100</td>\n",
       "      <td>3400100100</td>\n",
       "      <td>Absecon city, Atlantic County, New Jersey</td>\n",
       "      <td>3247</td>\n",
       "      <td>181</td>\n",
       "      <td>3247</td>\n",
       "      <td>NaN</td>\n",
       "      <td>2289</td>\n",
       "      <td>177</td>\n",
       "      <td>70.5</td>\n",
       "      <td>...</td>\n",
       "      <td>NaN</td>\n",
       "      <td>NaN</td>\n",
       "      <td>NaN</td>\n",
       "      <td>NaN</td>\n",
       "      <td>NaN</td>\n",
       "      <td>NaN</td>\n",
       "      <td>NaN</td>\n",
       "      <td>NaN</td>\n",
       "      <td>NaN</td>\n",
       "      <td>NaN</td>\n",
       "    </tr>\n",
       "    <tr>\n",
       "      <th>3</th>\n",
       "      <td>0600000US3400102080</td>\n",
       "      <td>3400102080</td>\n",
       "      <td>Atlantic City city, Atlantic County, New Jersey</td>\n",
       "      <td>15847</td>\n",
       "      <td>443</td>\n",
       "      <td>15847</td>\n",
       "      <td>NaN</td>\n",
       "      <td>8605</td>\n",
       "      <td>368</td>\n",
       "      <td>54.3</td>\n",
       "      <td>...</td>\n",
       "      <td>NaN</td>\n",
       "      <td>NaN</td>\n",
       "      <td>NaN</td>\n",
       "      <td>NaN</td>\n",
       "      <td>NaN</td>\n",
       "      <td>NaN</td>\n",
       "      <td>NaN</td>\n",
       "      <td>NaN</td>\n",
       "      <td>NaN</td>\n",
       "      <td>NaN</td>\n",
       "    </tr>\n",
       "    <tr>\n",
       "      <th>4</th>\n",
       "      <td>0600000US3400107810</td>\n",
       "      <td>3400107810</td>\n",
       "      <td>Brigantine city, Atlantic County, New Jersey</td>\n",
       "      <td>4379</td>\n",
       "      <td>198</td>\n",
       "      <td>4379</td>\n",
       "      <td>NaN</td>\n",
       "      <td>2612</td>\n",
       "      <td>161</td>\n",
       "      <td>59.6</td>\n",
       "      <td>...</td>\n",
       "      <td>NaN</td>\n",
       "      <td>NaN</td>\n",
       "      <td>NaN</td>\n",
       "      <td>NaN</td>\n",
       "      <td>NaN</td>\n",
       "      <td>NaN</td>\n",
       "      <td>NaN</td>\n",
       "      <td>NaN</td>\n",
       "      <td>NaN</td>\n",
       "      <td>NaN</td>\n",
       "    </tr>\n",
       "    <tr>\n",
       "      <th>5</th>\n",
       "      <td>0600000US3400108680</td>\n",
       "      <td>3400108680</td>\n",
       "      <td>Buena borough, Atlantic County, New Jersey</td>\n",
       "      <td>1751</td>\n",
       "      <td>152</td>\n",
       "      <td>1751</td>\n",
       "      <td>NaN</td>\n",
       "      <td>1193</td>\n",
       "      <td>106</td>\n",
       "      <td>68.1</td>\n",
       "      <td>...</td>\n",
       "      <td>NaN</td>\n",
       "      <td>NaN</td>\n",
       "      <td>NaN</td>\n",
       "      <td>NaN</td>\n",
       "      <td>NaN</td>\n",
       "      <td>NaN</td>\n",
       "      <td>NaN</td>\n",
       "      <td>NaN</td>\n",
       "      <td>NaN</td>\n",
       "      <td>NaN</td>\n",
       "    </tr>\n",
       "  </tbody>\n",
       "</table>\n",
       "<p>5 rows × 611 columns</p>\n",
       "</div>"
      ],
      "text/plain": [
       "                GEO.id     GEO.id2  \\\n",
       "1  0600000US3400100000  3400100000   \n",
       "2  0600000US3400100100  3400100100   \n",
       "3  0600000US3400102080  3400102080   \n",
       "4  0600000US3400107810  3400107810   \n",
       "5  0600000US3400108680  3400108680   \n",
       "\n",
       "                                   GEO.display-label HC01_VC03 HC02_VC03  \\\n",
       "1  County subdivisions not defined, Atlantic Coun...         0        12   \n",
       "2          Absecon city, Atlantic County, New Jersey      3247       181   \n",
       "3    Atlantic City city, Atlantic County, New Jersey     15847       443   \n",
       "4       Brigantine city, Atlantic County, New Jersey      4379       198   \n",
       "5         Buena borough, Atlantic County, New Jersey      1751       152   \n",
       "\n",
       "  HC03_VC03 HC04_VC03 HC01_VC04 HC02_VC04 HC03_VC04    ...     HC03_VC216  \\\n",
       "1         0       NaN         0        12       NaN    ...            NaN   \n",
       "2      3247       NaN      2289       177      70.5    ...            NaN   \n",
       "3     15847       NaN      8605       368      54.3    ...            NaN   \n",
       "4      4379       NaN      2612       161      59.6    ...            NaN   \n",
       "5      1751       NaN      1193       106      68.1    ...            NaN   \n",
       "\n",
       "  HC04_VC216 HC01_VC217 HC02_VC217 HC03_VC217 HC04_VC217 HC01_VC218  \\\n",
       "1        NaN        NaN        NaN        NaN        NaN        NaN   \n",
       "2        NaN        NaN        NaN        NaN        NaN        NaN   \n",
       "3        NaN        NaN        NaN        NaN        NaN        NaN   \n",
       "4        NaN        NaN        NaN        NaN        NaN        NaN   \n",
       "5        NaN        NaN        NaN        NaN        NaN        NaN   \n",
       "\n",
       "  HC02_VC218 HC03_VC218 HC04_VC218  \n",
       "1        NaN        NaN        NaN  \n",
       "2        NaN        NaN        NaN  \n",
       "3        NaN        NaN        NaN  \n",
       "4        NaN        NaN        NaN  \n",
       "5        NaN        NaN        NaN  \n",
       "\n",
       "[5 rows x 611 columns]"
      ]
     },
     "execution_count": 4,
     "metadata": {},
     "output_type": "execute_result"
    }
   ],
   "source": [
    "DP02.head()"
   ]
  },
  {
   "cell_type": "code",
   "execution_count": 5,
   "metadata": {
    "collapsed": true
   },
   "outputs": [],
   "source": [
    "misc = DP02[['GEO.id2', 'GEO.display-label', \n",
    "          'HC03_VC12','HC03_VC06','HC03_VC09','HC03_VC11','HC01_VC21',\n",
    "          'HC01_VC56', 'HC01_VC57', 'HC01_VC58',\n",
    "          'HC03_VC95', 'HC03_VC96', \n",
    "          'HC03_VC101', 'HC03_VC109', 'HC03_VC112', 'HC03_VC115', \n",
    "          'HC03_VC120', 'HC03_VC121', 'HC03_VC126', 'HC03_VC132', 'HC03_VC133', 'HC03_VC141', 'HC03_VC171'\n",
    "         ]].copy()\n",
    "misc.columns = ['FIPS', 'city_town',\n",
    "                'p_nonfamily', 'p_marrfam', 'p_malehh','p_femhh','avg_hh_size',\n",
    "                'fert_age15_19','fert_age20_34','fert_age35_50',\n",
    "                'p_highsch','p_bachdeg',\n",
    "                'p_civvet', 'p_civdis_18','p_civdis_1864','p_civdis_65',\n",
    "                'p_samehouse','p_diffhousUS', 'p_abroad1yr',\n",
    "                'p_nativeUS', 'p_nativestate', 'p_nat_citz','p_spk_engl'\n",
    "                \n",
    "               ]"
   ]
  },
  {
   "cell_type": "code",
   "execution_count": 6,
   "metadata": {
    "collapsed": false
   },
   "outputs": [],
   "source": [
    "misc = misc.iloc[:,:2].join(misc.iloc[:,2:].apply(pd.to_numeric)).fillna(0)\n"
   ]
  },
  {
   "cell_type": "code",
   "execution_count": 7,
   "metadata": {
    "collapsed": false
   },
   "outputs": [
    {
     "data": {
      "text/html": [
       "<div>\n",
       "<table border=\"1\" class=\"dataframe\">\n",
       "  <thead>\n",
       "    <tr style=\"text-align: right;\">\n",
       "      <th></th>\n",
       "      <th>FIPS</th>\n",
       "      <th>city_town</th>\n",
       "      <th>p_nonfamily</th>\n",
       "      <th>p_marrfam</th>\n",
       "      <th>p_malehh</th>\n",
       "      <th>p_femhh</th>\n",
       "      <th>avg_hh_size</th>\n",
       "      <th>fert_age15_19</th>\n",
       "      <th>fert_age20_34</th>\n",
       "      <th>fert_age35_50</th>\n",
       "      <th>...</th>\n",
       "      <th>p_civdis_18</th>\n",
       "      <th>p_civdis_1864</th>\n",
       "      <th>p_civdis_65</th>\n",
       "      <th>p_samehouse</th>\n",
       "      <th>p_diffhousUS</th>\n",
       "      <th>p_abroad1yr</th>\n",
       "      <th>p_nativeUS</th>\n",
       "      <th>p_nativestate</th>\n",
       "      <th>p_nat_citz</th>\n",
       "      <th>p_spk_engl</th>\n",
       "    </tr>\n",
       "  </thead>\n",
       "  <tbody>\n",
       "    <tr>\n",
       "      <th>1</th>\n",
       "      <td>3400100000</td>\n",
       "      <td>County subdivisions not defined, Atlantic Coun...</td>\n",
       "      <td>0.0</td>\n",
       "      <td>0.0</td>\n",
       "      <td>0.0</td>\n",
       "      <td>0.0</td>\n",
       "      <td>0.00</td>\n",
       "      <td>0.0</td>\n",
       "      <td>0.0</td>\n",
       "      <td>0.0</td>\n",
       "      <td>...</td>\n",
       "      <td>0.0</td>\n",
       "      <td>0.0</td>\n",
       "      <td>0.0</td>\n",
       "      <td>0.0</td>\n",
       "      <td>0.0</td>\n",
       "      <td>0.0</td>\n",
       "      <td>0.0</td>\n",
       "      <td>0.0</td>\n",
       "      <td>0.0</td>\n",
       "      <td>0.0</td>\n",
       "    </tr>\n",
       "    <tr>\n",
       "      <th>2</th>\n",
       "      <td>3400100100</td>\n",
       "      <td>Absecon city, Atlantic County, New Jersey</td>\n",
       "      <td>29.5</td>\n",
       "      <td>54.1</td>\n",
       "      <td>3.8</td>\n",
       "      <td>4.9</td>\n",
       "      <td>2.54</td>\n",
       "      <td>0.0</td>\n",
       "      <td>81.0</td>\n",
       "      <td>25.0</td>\n",
       "      <td>...</td>\n",
       "      <td>0.5</td>\n",
       "      <td>7.2</td>\n",
       "      <td>32.8</td>\n",
       "      <td>91.2</td>\n",
       "      <td>8.7</td>\n",
       "      <td>0.1</td>\n",
       "      <td>86.6</td>\n",
       "      <td>61.0</td>\n",
       "      <td>60.0</td>\n",
       "      <td>82.5</td>\n",
       "    </tr>\n",
       "    <tr>\n",
       "      <th>3</th>\n",
       "      <td>3400102080</td>\n",
       "      <td>Atlantic City city, Atlantic County, New Jersey</td>\n",
       "      <td>45.7</td>\n",
       "      <td>23.9</td>\n",
       "      <td>2.4</td>\n",
       "      <td>15.2</td>\n",
       "      <td>2.44</td>\n",
       "      <td>11.0</td>\n",
       "      <td>127.0</td>\n",
       "      <td>16.0</td>\n",
       "      <td>...</td>\n",
       "      <td>4.4</td>\n",
       "      <td>13.3</td>\n",
       "      <td>41.3</td>\n",
       "      <td>85.8</td>\n",
       "      <td>13.1</td>\n",
       "      <td>1.0</td>\n",
       "      <td>64.9</td>\n",
       "      <td>46.8</td>\n",
       "      <td>44.4</td>\n",
       "      <td>55.0</td>\n",
       "    </tr>\n",
       "    <tr>\n",
       "      <th>4</th>\n",
       "      <td>3400107810</td>\n",
       "      <td>Brigantine city, Atlantic County, New Jersey</td>\n",
       "      <td>40.4</td>\n",
       "      <td>45.3</td>\n",
       "      <td>3.1</td>\n",
       "      <td>3.9</td>\n",
       "      <td>2.15</td>\n",
       "      <td>69.0</td>\n",
       "      <td>58.0</td>\n",
       "      <td>53.0</td>\n",
       "      <td>...</td>\n",
       "      <td>2.6</td>\n",
       "      <td>7.8</td>\n",
       "      <td>25.4</td>\n",
       "      <td>83.3</td>\n",
       "      <td>16.7</td>\n",
       "      <td>0.1</td>\n",
       "      <td>89.1</td>\n",
       "      <td>48.3</td>\n",
       "      <td>58.3</td>\n",
       "      <td>88.6</td>\n",
       "    </tr>\n",
       "    <tr>\n",
       "      <th>5</th>\n",
       "      <td>3400108680</td>\n",
       "      <td>Buena borough, Atlantic County, New Jersey</td>\n",
       "      <td>31.9</td>\n",
       "      <td>46.3</td>\n",
       "      <td>3.2</td>\n",
       "      <td>7.3</td>\n",
       "      <td>2.62</td>\n",
       "      <td>0.0</td>\n",
       "      <td>75.0</td>\n",
       "      <td>15.0</td>\n",
       "      <td>...</td>\n",
       "      <td>1.8</td>\n",
       "      <td>19.5</td>\n",
       "      <td>46.9</td>\n",
       "      <td>92.7</td>\n",
       "      <td>6.4</td>\n",
       "      <td>0.9</td>\n",
       "      <td>87.1</td>\n",
       "      <td>67.8</td>\n",
       "      <td>54.9</td>\n",
       "      <td>71.7</td>\n",
       "    </tr>\n",
       "  </tbody>\n",
       "</table>\n",
       "<p>5 rows × 23 columns</p>\n",
       "</div>"
      ],
      "text/plain": [
       "         FIPS                                          city_town  p_nonfamily  \\\n",
       "1  3400100000  County subdivisions not defined, Atlantic Coun...          0.0   \n",
       "2  3400100100          Absecon city, Atlantic County, New Jersey         29.5   \n",
       "3  3400102080    Atlantic City city, Atlantic County, New Jersey         45.7   \n",
       "4  3400107810       Brigantine city, Atlantic County, New Jersey         40.4   \n",
       "5  3400108680         Buena borough, Atlantic County, New Jersey         31.9   \n",
       "\n",
       "   p_marrfam  p_malehh  p_femhh  avg_hh_size  fert_age15_19  fert_age20_34  \\\n",
       "1        0.0       0.0      0.0         0.00            0.0            0.0   \n",
       "2       54.1       3.8      4.9         2.54            0.0           81.0   \n",
       "3       23.9       2.4     15.2         2.44           11.0          127.0   \n",
       "4       45.3       3.1      3.9         2.15           69.0           58.0   \n",
       "5       46.3       3.2      7.3         2.62            0.0           75.0   \n",
       "\n",
       "   fert_age35_50     ...      p_civdis_18  p_civdis_1864  p_civdis_65  \\\n",
       "1            0.0     ...              0.0            0.0          0.0   \n",
       "2           25.0     ...              0.5            7.2         32.8   \n",
       "3           16.0     ...              4.4           13.3         41.3   \n",
       "4           53.0     ...              2.6            7.8         25.4   \n",
       "5           15.0     ...              1.8           19.5         46.9   \n",
       "\n",
       "   p_samehouse  p_diffhousUS  p_abroad1yr  p_nativeUS  p_nativestate  \\\n",
       "1          0.0           0.0          0.0         0.0            0.0   \n",
       "2         91.2           8.7          0.1        86.6           61.0   \n",
       "3         85.8          13.1          1.0        64.9           46.8   \n",
       "4         83.3          16.7          0.1        89.1           48.3   \n",
       "5         92.7           6.4          0.9        87.1           67.8   \n",
       "\n",
       "   p_nat_citz  p_spk_engl  \n",
       "1         0.0         0.0  \n",
       "2        60.0        82.5  \n",
       "3        44.4        55.0  \n",
       "4        58.3        88.6  \n",
       "5        54.9        71.7  \n",
       "\n",
       "[5 rows x 23 columns]"
      ]
     },
     "execution_count": 7,
     "metadata": {},
     "output_type": "execute_result"
    }
   ],
   "source": [
    "misc.head()"
   ]
  },
  {
   "cell_type": "code",
   "execution_count": 8,
   "metadata": {
    "collapsed": false
   },
   "outputs": [
    {
     "name": "stdout",
     "output_type": "stream",
     "text": [
      "<class 'pandas.core.frame.DataFrame'>\n",
      "RangeIndex: 570 entries, 1 to 570\n",
      "Data columns (total 23 columns):\n",
      "FIPS             570 non-null object\n",
      "city_town        570 non-null object\n",
      "p_nonfamily      570 non-null float64\n",
      "p_marrfam        570 non-null float64\n",
      "p_malehh         570 non-null float64\n",
      "p_femhh          570 non-null float64\n",
      "avg_hh_size      570 non-null float64\n",
      "fert_age15_19    570 non-null float64\n",
      "fert_age20_34    570 non-null float64\n",
      "fert_age35_50    570 non-null float64\n",
      "p_highsch        570 non-null float64\n",
      "p_bachdeg        570 non-null float64\n",
      "p_civvet         570 non-null float64\n",
      "p_civdis_18      570 non-null float64\n",
      "p_civdis_1864    570 non-null float64\n",
      "p_civdis_65      570 non-null float64\n",
      "p_samehouse      570 non-null float64\n",
      "p_diffhousUS     570 non-null float64\n",
      "p_abroad1yr      570 non-null float64\n",
      "p_nativeUS       570 non-null float64\n",
      "p_nativestate    570 non-null float64\n",
      "p_nat_citz       570 non-null float64\n",
      "p_spk_engl       570 non-null float64\n",
      "dtypes: float64(21), object(2)\n",
      "memory usage: 102.5+ KB\n"
     ]
    }
   ],
   "source": [
    "misc.info()"
   ]
  },
  {
   "cell_type": "code",
   "execution_count": 9,
   "metadata": {
    "collapsed": true
   },
   "outputs": [],
   "source": [
    "misc.to_pickle('misc.pkl')"
   ]
  },
  {
   "cell_type": "code",
   "execution_count": 10,
   "metadata": {
    "collapsed": false
   },
   "outputs": [
    {
     "data": {
      "image/png": "[encoded data removed]",
      "text/plain": [
       "<matplotlib.figure.Figure at 0x7f937c54bdd8>"
      ]
     },
     "metadata": {},
     "output_type": "display_data"
    }
   ],
   "source": [
    "sb.heatmap(misc.corr());"
   ]
  },
  {
   "cell_type": "code",
   "execution_count": 14,
   "metadata": {
    "collapsed": false
   },
   "outputs": [
    {
     "name": "stdout",
     "output_type": "stream",
     "text": [
      "<class 'pandas.core.frame.DataFrame'>\n",
      "RangeIndex: 570 entries, 1 to 570\n",
      "Data columns (total 21 columns):\n",
      "p_nonfamily      563 non-null float64\n",
      "p_marrfam        0 non-null float64\n",
      "p_malehh         0 non-null float64\n",
      "p_femhh          0 non-null float64\n",
      "avg_hh_size      0 non-null float64\n",
      "fert_age15_19    0 non-null float64\n",
      "fert_age20_34    0 non-null float64\n",
      "fert_age35_50    0 non-null float64\n",
      "p_highsch        0 non-null float64\n",
      "p_bachdeg        0 non-null float64\n",
      "p_civvet         0 non-null float64\n",
      "p_civdis_18      0 non-null float64\n",
      "p_civdis_1864    0 non-null float64\n",
      "p_civdis_65      0 non-null float64\n",
      "p_samehouse      0 non-null float64\n",
      "p_diffhousUS     0 non-null float64\n",
      "p_abroad1yr      0 non-null float64\n",
      "p_nativeUS       0 non-null float64\n",
      "p_nativestate    0 non-null float64\n",
      "p_nat_citz       0 non-null float64\n",
      "p_spk_engl       0 non-null float64\n",
      "dtypes: float64(21)\n",
      "memory usage: 93.6 KB\n"
     ]
    }
   ],
   "source": [
    "from sklearn import preprocessing\n",
    "X = misc.iloc[:,2:]\n",
    "X = X[X[[0]] != 0]\n",
    "X.info()"
   ]
  },
  {
   "cell_type": "code",
   "execution_count": 15,
   "metadata": {
    "collapsed": false
   },
   "outputs": [
    {
     "ename": "ValueError",
     "evalue": "Input contains NaN, infinity or a value too large for dtype('float64').",
     "output_type": "error",
     "traceback": [
      "\u001b[1;31m---------------------------------------------------------------------------\u001b[0m",
      "\u001b[1;31mValueError\u001b[0m                                Traceback (most recent call last)",
      "\u001b[1;32m<ipython-input-15-d8bdac459d87>\u001b[0m in \u001b[0;36m<module>\u001b[1;34m()\u001b[0m\n\u001b[1;32m----> 1\u001b[1;33m \u001b[0mX_scaled\u001b[0m \u001b[1;33m=\u001b[0m \u001b[0mpreprocessing\u001b[0m\u001b[1;33m.\u001b[0m\u001b[0mscale\u001b[0m\u001b[1;33m(\u001b[0m\u001b[0mX\u001b[0m\u001b[1;33m)\u001b[0m\u001b[1;33m\u001b[0m\u001b[0m\n\u001b[0m\u001b[0;32m      2\u001b[0m \u001b[0mpd\u001b[0m\u001b[1;33m.\u001b[0m\u001b[0mDataFrame\u001b[0m\u001b[1;33m(\u001b[0m\u001b[0mX_scaled\u001b[0m\u001b[1;33m)\u001b[0m\u001b[1;33m\u001b[0m\u001b[0m\n",
      "\u001b[1;32m/home/kmitchell/anaconda2/envs/py35/lib/python3.5/site-packages/sklearn/preprocessing/data.py\u001b[0m in \u001b[0;36mscale\u001b[1;34m(X, axis, with_mean, with_std, copy)\u001b[0m\n\u001b[0;32m    127\u001b[0m     X = check_array(X, accept_sparse='csc', copy=copy, ensure_2d=False,\n\u001b[0;32m    128\u001b[0m                     \u001b[0mwarn_on_dtype\u001b[0m\u001b[1;33m=\u001b[0m\u001b[1;32mTrue\u001b[0m\u001b[1;33m,\u001b[0m \u001b[0mestimator\u001b[0m\u001b[1;33m=\u001b[0m\u001b[1;34m'the scale function'\u001b[0m\u001b[1;33m,\u001b[0m\u001b[1;33m\u001b[0m\u001b[0m\n\u001b[1;32m--> 129\u001b[1;33m                     dtype=FLOAT_DTYPES)\n\u001b[0m\u001b[0;32m    130\u001b[0m     \u001b[1;32mif\u001b[0m \u001b[0msparse\u001b[0m\u001b[1;33m.\u001b[0m\u001b[0missparse\u001b[0m\u001b[1;33m(\u001b[0m\u001b[0mX\u001b[0m\u001b[1;33m)\u001b[0m\u001b[1;33m:\u001b[0m\u001b[1;33m\u001b[0m\u001b[0m\n\u001b[0;32m    131\u001b[0m         \u001b[1;32mif\u001b[0m \u001b[0mwith_mean\u001b[0m\u001b[1;33m:\u001b[0m\u001b[1;33m\u001b[0m\u001b[0m\n",
      "\u001b[1;32m/home/kmitchell/anaconda2/envs/py35/lib/python3.5/site-packages/sklearn/utils/validation.py\u001b[0m in \u001b[0;36mcheck_array\u001b[1;34m(array, accept_sparse, dtype, order, copy, force_all_finite, ensure_2d, allow_nd, ensure_min_samples, ensure_min_features, warn_on_dtype, estimator)\u001b[0m\n\u001b[0;32m    405\u001b[0m                              % (array.ndim, estimator_name))\n\u001b[0;32m    406\u001b[0m         \u001b[1;32mif\u001b[0m \u001b[0mforce_all_finite\u001b[0m\u001b[1;33m:\u001b[0m\u001b[1;33m\u001b[0m\u001b[0m\n\u001b[1;32m--> 407\u001b[1;33m             \u001b[0m_assert_all_finite\u001b[0m\u001b[1;33m(\u001b[0m\u001b[0marray\u001b[0m\u001b[1;33m)\u001b[0m\u001b[1;33m\u001b[0m\u001b[0m\n\u001b[0m\u001b[0;32m    408\u001b[0m \u001b[1;33m\u001b[0m\u001b[0m\n\u001b[0;32m    409\u001b[0m     \u001b[0mshape_repr\u001b[0m \u001b[1;33m=\u001b[0m \u001b[0m_shape_repr\u001b[0m\u001b[1;33m(\u001b[0m\u001b[0marray\u001b[0m\u001b[1;33m.\u001b[0m\u001b[0mshape\u001b[0m\u001b[1;33m)\u001b[0m\u001b[1;33m\u001b[0m\u001b[0m\n",
      "\u001b[1;32m/home/kmitchell/anaconda2/envs/py35/lib/python3.5/site-packages/sklearn/utils/validation.py\u001b[0m in \u001b[0;36m_assert_all_finite\u001b[1;34m(X)\u001b[0m\n\u001b[0;32m     56\u001b[0m             and not np.isfinite(X).all()):\n\u001b[0;32m     57\u001b[0m         raise ValueError(\"Input contains NaN, infinity\"\n\u001b[1;32m---> 58\u001b[1;33m                          \" or a value too large for %r.\" % X.dtype)\n\u001b[0m\u001b[0;32m     59\u001b[0m \u001b[1;33m\u001b[0m\u001b[0m\n\u001b[0;32m     60\u001b[0m \u001b[1;33m\u001b[0m\u001b[0m\n",
      "\u001b[1;31mValueError\u001b[0m: Input contains NaN, infinity or a value too large for dtype('float64')."
     ]
    }
   ],
   "source": [
    "X_scaled = preprocessing.scale(X)\n",
    "pd.DataFrame(X_scaled)"
   ]
  },
  {
   "cell_type": "code",
   "execution_count": null,
   "metadata": {
    "collapsed": false
   },
   "outputs": [],
   "source": [
    "plt.figure(figsize=(12, 12))\n",
    "sb.heatmap(pd.DataFrame(X_scaled).T.corr());"
   ]
  },
  {
   "cell_type": "code",
   "execution_count": null,
   "metadata": {
    "collapsed": true
   },
   "outputs": [],
   "source": []
  }
 ],
 "metadata": {
  "anaconda-cloud": {},
  "kernelspec": {
   "display_name": "Python 3",
   "language": "python",
   "name": "python3"
  },
  "language_info": {
   "codemirror_mode": {
    "name": "ipython",
    "version": 3
   },
   "file_extension": ".py",
   "mimetype": "text/x-python",
   "name": "python",
   "nbconvert_exporter": "python",
   "pygments_lexer": "ipython3",
   "version": "3.5.2"
  }
 },
 "nbformat": 4,
 "nbformat_minor": 0
}
