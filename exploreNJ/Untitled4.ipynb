{
 "cells": [
  {
   "cell_type": "code",
   "execution_count": 1,
   "metadata": {
    "collapsed": true
   },
   "outputs": [],
   "source": [
    "import pandas as pd\n",
    "\n",
    "df = pd.read_pickle('d2.pkl')"
   ]
  },
  {
   "cell_type": "code",
   "execution_count": 12,
   "metadata": {
    "collapsed": false
   },
   "outputs": [
    {
     "data": {
      "text/html": [
       "<div>\n",
       "<table border=\"1\" class=\"dataframe\">\n",
       "  <thead>\n",
       "    <tr style=\"text-align: right;\">\n",
       "      <th></th>\n",
       "      <th>hh_inc_mean</th>\n",
       "    </tr>\n",
       "  </thead>\n",
       "  <tbody>\n",
       "    <tr>\n",
       "      <th>count</th>\n",
       "      <td>565.000000</td>\n",
       "    </tr>\n",
       "    <tr>\n",
       "      <th>mean</th>\n",
       "      <td>107188.479646</td>\n",
       "    </tr>\n",
       "    <tr>\n",
       "      <th>std</th>\n",
       "      <td>44949.990407</td>\n",
       "    </tr>\n",
       "    <tr>\n",
       "      <th>min</th>\n",
       "      <td>0.000000</td>\n",
       "    </tr>\n",
       "    <tr>\n",
       "      <th>25%</th>\n",
       "      <td>77758.000000</td>\n",
       "    </tr>\n",
       "    <tr>\n",
       "      <th>50%</th>\n",
       "      <td>95407.000000</td>\n",
       "    </tr>\n",
       "    <tr>\n",
       "      <th>75%</th>\n",
       "      <td>128767.000000</td>\n",
       "    </tr>\n",
       "    <tr>\n",
       "      <th>max</th>\n",
       "      <td>272590.000000</td>\n",
       "    </tr>\n",
       "  </tbody>\n",
       "</table>\n",
       "</div>"
      ],
      "text/plain": [
       "         hh_inc_mean\n",
       "count     565.000000\n",
       "mean   107188.479646\n",
       "std     44949.990407\n",
       "min         0.000000\n",
       "25%     77758.000000\n",
       "50%     95407.000000\n",
       "75%    128767.000000\n",
       "max    272590.000000"
      ]
     },
     "execution_count": 12,
     "metadata": {},
     "output_type": "execute_result"
    }
   ],
   "source": [
    "df[['hh_inc_mean']].describe()"
   ]
  },
  {
   "cell_type": "code",
   "execution_count": 10,
   "metadata": {
    "collapsed": false
   },
   "outputs": [
    {
     "data": {
      "text/plain": [
       "town                                        Westfield town\n",
       "county                                        Union County\n",
       "state                                           New Jersey\n",
       "FIPS                                            3403979040\n",
       "city_town         Westfield town, Union County, New Jersey\n",
       "p_in_lab                                              67.8\n",
       "p_unemployed                                           4.9\n",
       "p_fem_labforce                                        57.4\n",
       "p_fem_employed                                        52.1\n",
       "p_ch6_paremp                                            55\n",
       "p_com_car                                             70.8\n",
       "p_com_carpool                                          3.2\n",
       "p_com_transit                                         15.4\n",
       "p_com_walk                                             2.4\n",
       "p_com_other                                            1.1\n",
       "p_com_home                                             7.2\n",
       "mean_com_time                                         34.6\n",
       "p_occ_bus                                             58.9\n",
       "p_occ_serv                                            10.3\n",
       "p_occ_sales                                           22.6\n",
       "p_occ_const                                            3.2\n",
       "p_occ_trans                                              5\n",
       "p_ind_agri                                             0.1\n",
       "p_ind_const                                            3.9\n",
       "p_ind_manu                                               8\n",
       "p_ind_whsl                                             2.5\n",
       "p_ind_retl                                             9.9\n",
       "p_ind_warehs                                           3.6\n",
       "p_ind_info                                             3.8\n",
       "p_ind_fire                                            17.3\n",
       "p_ind_prof                                            18.1\n",
       "p_ind_edu                                             20.4\n",
       "p_ind_arts                                             4.7\n",
       "p_ind_othserv                                          4.4\n",
       "p_ind_pubadmin                                         3.2\n",
       "p_class_wage                                          83.8\n",
       "p_class_govt                                          10.3\n",
       "p_class_self                                           5.6\n",
       "p_class_unpaid                                         0.3\n",
       "p_less10                                               0.7\n",
       "Name: 541, dtype: object"
      ]
     },
     "execution_count": 10,
     "metadata": {},
     "output_type": "execute_result"
    }
   ],
   "source": [
    "df.iloc[541,0:40]"
   ]
  },
  {
   "cell_type": "code",
   "execution_count": 9,
   "metadata": {
    "collapsed": false
   },
   "outputs": [
    {
     "data": {
      "text/plain": [
       "p_10to15               2.6\n",
       "p_15to25               3.3\n",
       "p_25to35               3.6\n",
       "p_35to50               4.9\n",
       "p_50to75              11.5\n",
       "p_75to100              9.6\n",
       "p_100to150            17.2\n",
       "p_150to200            12.4\n",
       "p_over200             34.2\n",
       "hh_inc_med          138165\n",
       "hh_inc_mean         187669\n",
       "p_peop_pov             2.2\n",
       "p_1hu_bldg_det        79.3\n",
       "p_1hu_bldg_att         2.5\n",
       "p_20hu_bldg            4.3\n",
       "p_hu_mobile            0.2\n",
       "p_hu_gt_2010           1.1\n",
       "p_hu_lt_1939          34.1\n",
       "p_hu_1room               1\n",
       "p_hu_2room             0.4\n",
       "p_hu_3room             5.2\n",
       "p_hu_4room             6.9\n",
       "p_hu_5room             6.5\n",
       "p_hu_6room            13.3\n",
       "p_hu_7room            15.1\n",
       "p_hu_8room            16.8\n",
       "p_hu_gt8room            35\n",
       "num_room_med           7.6\n",
       "p_hu_own_occ          79.9\n",
       "hh_size_own_occ        3.1\n",
       "hh_size_rent_occ       2.3\n",
       "p_hh_from1969          6.5\n",
       "p_hu_nocar             3.7\n",
       "p_hu_1car             26.6\n",
       "p_hu_2car             45.7\n",
       "p_hu_3car               24\n",
       "p_hu_1perroom         99.5\n",
       "p_hu_under50K          1.1\n",
       "p_hu_over1MM          14.5\n",
       "hu_val_median       653900\n",
       "Name: 541, dtype: object"
      ]
     },
     "execution_count": 9,
     "metadata": {},
     "output_type": "execute_result"
    }
   ],
   "source": [
    "df.iloc[541,40:80]"
   ]
  },
  {
   "cell_type": "code",
   "execution_count": 8,
   "metadata": {
    "collapsed": false
   },
   "outputs": [
    {
     "data": {
      "text/plain": [
       "p_hu_mortgage      70.8\n",
       "gross_rent_med     1669\n",
       "p_hu_rentgt1500      61\n",
       "p_malepop          46.9\n",
       "p_ageless5          6.5\n",
       "p_age5to9           7.3\n",
       "p_age10to14         8.7\n",
       "p_age15to19         8.3\n",
       "p_age20to24         3.3\n",
       "p_age25to34         7.8\n",
       "p_age35to44        15.9\n",
       "p_age45to54        16.4\n",
       "p_age55to59         7.3\n",
       "p_age60to64         5.4\n",
       "p_age65to74         5.8\n",
       "p_age75to84         4.3\n",
       "p_ageover85         2.9\n",
       "p_white            86.9\n",
       "p_black             3.6\n",
       "p_amind             0.1\n",
       "p_asian             5.6\n",
       "p_asian_ind         1.1\n",
       "p_as_chin           2.2\n",
       "p_as_filip          0.5\n",
       "p_as_jap            0.1\n",
       "p_as_korean         0.9\n",
       "p_as_viet             0\n",
       "p_as_other          0.7\n",
       "p_2_races           1.5\n",
       "p_latino              7\n",
       "p_mexican           0.4\n",
       "p_puerto_rico         1\n",
       "p_cuban             1.3\n",
       "p_other_lat         4.4\n",
       "p_nonfamily        21.7\n",
       "p_marrfam          70.4\n",
       "p_malehh            1.4\n",
       "p_femhh             3.2\n",
       "avg_hh_size        2.94\n",
       "fert_age15_19         0\n",
       "Name: 541, dtype: object"
      ]
     },
     "execution_count": 8,
     "metadata": {},
     "output_type": "execute_result"
    }
   ],
   "source": [
    "df.iloc[541,80:120]"
   ]
  },
  {
   "cell_type": "code",
   "execution_count": 13,
   "metadata": {
    "collapsed": false
   },
   "outputs": [
    {
     "data": {
      "text/plain": [
       "fert_age20_34                                                     119\n",
       "fert_age35_50                                                      38\n",
       "p_highsch                                                        96.5\n",
       "p_bachdeg                                                        66.4\n",
       "p_civvet                                                          4.7\n",
       "p_civdis_18                                                       0.7\n",
       "p_civdis_1864                                                     3.9\n",
       "p_civdis_65                                                      28.5\n",
       "p_samehouse                                                      90.7\n",
       "p_diffhousUS                                                      8.7\n",
       "p_abroad1yr                                                       0.6\n",
       "p_nativeUS                                                       88.1\n",
       "p_nativestate                                                    51.6\n",
       "p_nat_citz                                                       67.2\n",
       "p_spk_engl                                                       85.2\n",
       "CountyLevy%ofTotalLevy                                           0.24\n",
       "SchoolLevy%ofTotalLevy                                          0.582\n",
       "MunicipalLevy%ofTotalLevy                                       0.178\n",
       "CYMunicipalRate                                                 1.444\n",
       "CYMunicipalLibraryRate                                          0.133\n",
       "CYMunicipalOpenSpaceRate                                            0\n",
       "CYTotalMunicipalRate                                            1.576\n",
       "CYSchoolRate                                                    5.146\n",
       "CYCountyRate                                                    2.126\n",
       "CYTotalRate                                                     6.722\n",
       "AverageResidentialPropertyValue                                179838\n",
       "AverageTotalPropertyTaxes(notincludingcreditsanddeductions)     12089\n",
       "StateEqualizationTableAverageRatio                              24.62\n",
       "StateEqualizationTableAverageRatio(DecimalForm)                0.2462\n",
       "CYCountyEQTaxRate                                               0.524\n",
       "CYSchoolEQTaxRate                                               1.268\n",
       "CYLocalPurposeMunicipalEQTaxRate                                0.356\n",
       "CYTotalMunicipalEQRate                                          0.388\n",
       "CYTotalEQRate(REAPNotIncluded)                                   2.18\n",
       "Name: 541, dtype: object"
      ]
     },
     "execution_count": 13,
     "metadata": {},
     "output_type": "execute_result"
    }
   ],
   "source": [
    "df.iloc[541,120:154]"
   ]
  },
  {
   "cell_type": "code",
   "execution_count": null,
   "metadata": {
    "collapsed": true
   },
   "outputs": [],
   "source": []
  }
 ],
 "metadata": {
  "kernelspec": {
   "display_name": "Python 3",
   "language": "python",
   "name": "python3"
  },
  "language_info": {
   "codemirror_mode": {
    "name": "ipython",
    "version": 3
   },
   "file_extension": ".py",
   "mimetype": "text/x-python",
   "name": "python",
   "nbconvert_exporter": "python",
   "pygments_lexer": "ipython3",
   "version": "3.5.2"
  }
 },
 "nbformat": 4,
 "nbformat_minor": 0
}
