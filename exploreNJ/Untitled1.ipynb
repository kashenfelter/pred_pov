{
 "cells": [
  {
   "cell_type": "code",
   "execution_count": null,
   "metadata": {
    "collapsed": false
   },
   "outputs": [
    {
     "name": "stdout",
     "output_type": "stream",
     "text": [
      "serving at port 8000\n"
     ]
    },
    {
     "name": "stderr",
     "output_type": "stream",
     "text": [
      "127.0.0.1 - - [27/Nov/2016 14:10:02] \"GET / HTTP/1.1\" 200 -\n",
      "127.0.0.1 - - [27/Nov/2016 14:10:02] code 404, message File not found\n",
      "127.0.0.1 - - [27/Nov/2016 14:10:02] \"GET /favicon.ico HTTP/1.1\" 404 -\n",
      "127.0.0.1 - - [27/Nov/2016 14:10:43] \"GET /munis.html HTTP/1.1\" 200 -\n",
      "127.0.0.1 - - [27/Nov/2016 14:10:44] \"GET /d3-tip.js HTTP/1.1\" 200 -\n",
      "127.0.0.1 - - [27/Nov/2016 14:10:44] code 404, message File not found\n",
      "127.0.0.1 - - [27/Nov/2016 14:10:44] \"GET /us.json HTTP/1.1\" 404 -\n",
      "127.0.0.1 - - [27/Nov/2016 14:10:44] code 404, message File not found\n",
      "127.0.0.1 - - [27/Nov/2016 14:10:44] \"GET /povall.tsv HTTP/1.1\" 404 -\n"
     ]
    }
   ],
   "source": [
    "import http.server\n",
    "import socketserver\n",
    "\n",
    "PORT = 8000\n",
    "\n",
    "Handler = http.server.SimpleHTTPRequestHandler\n",
    "\n",
    "httpd = socketserver.TCPServer((\"\", PORT), Handler)\n",
    "\n",
    "print(\"serving at port\", PORT)\n",
    "httpd.serve_forever()"
   ]
  },
  {
   "cell_type": "code",
   "execution_count": null,
   "metadata": {
    "collapsed": true
   },
   "outputs": [],
   "source": []
  }
 ],
 "metadata": {
  "kernelspec": {
   "display_name": "Python 3",
   "language": "python",
   "name": "python3"
  },
  "language_info": {
   "codemirror_mode": {
    "name": "ipython",
    "version": 3
   },
   "file_extension": ".py",
   "mimetype": "text/x-python",
   "name": "python",
   "nbconvert_exporter": "python",
   "pygments_lexer": "ipython3",
   "version": "3.5.2"
  }
 },
 "nbformat": 4,
 "nbformat_minor": 0
}
