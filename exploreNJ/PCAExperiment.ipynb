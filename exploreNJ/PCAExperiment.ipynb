{
 "cells": [
  {
   "cell_type": "code",
   "execution_count": 23,
   "metadata": {
    "collapsed": false
   },
   "outputs": [],
   "source": [
    "\n",
    "#Load dependencies\n",
    "import pandas as pd\n",
    "import numpy as np\n",
    "from sklearn.preprocessing import StandardScaler\n",
    "from matplotlib import*\n",
    "import matplotlib.pyplot as plt\n",
    "from matplotlib.cm import register_cmap\n",
    "from scipy import stats\n",
    "from wpca import PCA\n",
    "from sklearn.decomposition import PCA as sklearnPCA\n",
    "import seaborn\n",
    "\n",
    "\n"
   ]
  },
  {
   "cell_type": "code",
   "execution_count": 6,
   "metadata": {
    "collapsed": false
   },
   "outputs": [
    {
     "name": "stdout",
     "output_type": "stream",
     "text": [
      "acs_s.pkl  AgeSexRace.pkl  econ.pkl  housing.pkl  misc.pkl\r\n"
     ]
    }
   ],
   "source": [
    "!ls *pkl\n"
   ]
  },
  {
   "cell_type": "code",
   "execution_count": 8,
   "metadata": {
    "collapsed": false
   },
   "outputs": [],
   "source": [
    "acs = pd.read_pickle('acs_s.pkl')"
   ]
  },
  {
   "cell_type": "code",
   "execution_count": 10,
   "metadata": {
    "collapsed": false
   },
   "outputs": [
    {
     "name": "stdout",
     "output_type": "stream",
     "text": [
      "<class 'pandas.core.frame.DataFrame'>\n",
      "RangeIndex: 565 entries, 0 to 564\n",
      "Columns: 135 entries, town to p_spk_engl\n",
      "dtypes: float64(130), object(5)\n",
      "memory usage: 596.0+ KB\n"
     ]
    },
    {
     "data": {
      "text/plain": [
       "Index(['town', 'county', 'state', 'FIPS', 'city_town', 'p_in_lab',\n",
       "       'p_unemployed', 'p_fem_labforce', 'p_fem_employed', 'p_ch6_paremp',\n",
       "       ...\n",
       "       'p_civdis_18', 'p_civdis_1864', 'p_civdis_65', 'p_samehouse',\n",
       "       'p_diffhousUS', 'p_abroad1yr', 'p_nativeUS', 'p_nativestate',\n",
       "       'p_nat_citz', 'p_spk_engl'],\n",
       "      dtype='object', length=135)"
      ]
     },
     "execution_count": 10,
     "metadata": {},
     "output_type": "execute_result"
    }
   ],
   "source": [
    "acs.info()\n",
    "acs.columns"
   ]
  },
  {
   "cell_type": "code",
   "execution_count": 11,
   "metadata": {
    "collapsed": true
   },
   "outputs": [],
   "source": [
    "X = acs.loc[:,'p_in_lab':'p_spk_engl']"
   ]
  },
  {
   "cell_type": "code",
   "execution_count": 15,
   "metadata": {
    "collapsed": false
   },
   "outputs": [],
   "source": [
    "X_std = StandardScaler().fit_transform(X)"
   ]
  },
  {
   "cell_type": "code",
   "execution_count": 16,
   "metadata": {
    "collapsed": false
   },
   "outputs": [
    {
     "name": "stdout",
     "output_type": "stream",
     "text": [
      "Covariance matrix \n",
      "[[ 1.00177305  0.25251121  0.82222118 ...,  0.11015002 -0.07539666\n",
      "  -0.12451344]\n",
      " [ 0.25251121  1.00177305  0.34133329 ...,  0.16824989 -0.24296061\n",
      "  -0.11407499]\n",
      " [ 0.82222118  0.34133329  1.00177305 ...,  0.21713188 -0.11029328\n",
      "  -0.0917106 ]\n",
      " ..., \n",
      " [ 0.11015002  0.16824989  0.21713188 ...,  1.00177305  0.15487932\n",
      "   0.55843853]\n",
      " [-0.07539666 -0.24296061 -0.11029328 ...,  0.15487932  1.00177305\n",
      "   0.34409575]\n",
      " [-0.12451344 -0.11407499 -0.0917106  ...,  0.55843853  0.34409575\n",
      "   1.00177305]]\n"
     ]
    }
   ],
   "source": [
    "mean_vec = np.mean(X_std, axis=0)\n",
    "cov_mat = (X_std - mean_vec).T.dot((X_std - mean_vec)) / (X_std.shape[0]-1)\n",
    "print('Covariance matrix \\n%s' %cov_mat)"
   ]
  },
  {
   "cell_type": "code",
   "execution_count": 17,
   "metadata": {
    "collapsed": false
   },
   "outputs": [
    {
     "name": "stdout",
     "output_type": "stream",
     "text": [
      "Eigenvectors \n",
      "[[ -1.11156084e-02   7.66513296e-02   1.77386932e-01 ...,   5.86149284e-04\n",
      "    1.02922483e-03   5.95375552e-04]\n",
      " [ -1.14134467e-01  -3.58118169e-02   9.27721591e-02 ...,  -2.58736519e-04\n",
      "    5.52547215e-05   4.55576608e-04]\n",
      " [ -4.16194475e-02   3.69066537e-02   2.12463177e-01 ...,  -6.30318989e-04\n",
      "   -1.80723315e-04  -3.41884592e-03]\n",
      " ..., \n",
      " [  1.45079587e-02  -1.69524162e-01   1.23706544e-01 ...,  -3.09324332e-04\n",
      "    1.72934028e-04  -5.54435011e-04]\n",
      " [  9.98764387e-02  -4.99620256e-02   1.04776567e-02 ...,  -2.61927066e-04\n",
      "    3.63707489e-04  -6.69131922e-05]\n",
      " [  8.91319722e-02  -1.93990915e-01   1.04651204e-02 ...,  -2.36653547e-03\n",
      "    3.11450417e-04   7.06075709e-04]]\n",
      "\n",
      "Eigenvalues \n",
      "[  2.84166957e+01   1.31928613e+01   1.03285404e+01   5.25000361e+00\n",
      "   3.84876839e+00   3.66981466e+00   3.11246540e+00   2.57981238e+00\n",
      "   2.55809068e+00   2.17927323e+00   2.07368533e+00   1.95895275e+00\n",
      "   1.92160624e+00   1.75315789e+00   1.61330259e+00   1.53845256e+00\n",
      "   1.47391321e+00   1.39421314e+00   1.30891964e+00   1.28208108e+00\n",
      "   1.22115021e+00   1.19368845e+00   1.15971368e+00   1.10059918e+00\n",
      "   1.08719980e+00   1.04437587e+00   1.01672185e+00   9.89669349e-01\n",
      "   9.24853169e-01   9.08468506e-01   8.79849668e-01   8.43514403e-01\n",
      "   8.48170140e-01   8.16912702e-01   7.99715252e-01   7.42528556e-01\n",
      "   7.80989145e-01   7.72104095e-01   7.11810117e-01   6.85590306e-01\n",
      "   6.55763244e-01   6.49247756e-01   6.33007495e-01   6.16634281e-01\n",
      "   6.23340473e-01   5.98278897e-01   5.88260401e-01   5.66827280e-01\n",
      "   5.30295260e-01   5.21770971e-01   4.89287531e-01   5.06460902e-01\n",
      "   4.74444077e-01   4.60194387e-01   4.47970817e-01   4.34061705e-01\n",
      "   4.25593518e-01   4.13467204e-01   4.05952303e-01   3.99928175e-01\n",
      "   3.88681534e-01   3.72280558e-01   3.63764704e-01   3.55719068e-01\n",
      "   3.45603905e-01   3.37425371e-01   3.25642632e-01   3.22178793e-01\n",
      "   3.10703677e-01   3.06052815e-01   2.97656536e-01   2.98721953e-01\n",
      "   2.76886665e-01   2.70341300e-01   2.61529794e-01   2.56391384e-01\n",
      "   2.45237404e-01   2.37377212e-01   2.32763818e-01   1.95813278e-01\n",
      "   2.20268994e-01   2.15863133e-01   2.07330177e-01   2.10555414e-01\n",
      "   1.83582425e-01   1.78286060e-01   1.65215537e-01   1.39762180e-01\n",
      "   1.55828076e-01   1.49654028e-01   1.52783384e-01   1.32931658e-01\n",
      "   8.67183432e-02   8.18982425e-02   7.10330509e-02   9.71439126e-02\n",
      "   1.04091448e-01   4.63205044e-02   5.09997346e-02   6.47177271e-02\n",
      "   5.57499349e-02   3.53962481e-02   4.38076112e-02   5.93110751e-02\n",
      "   2.93109183e-02   1.24049757e-01   6.05891277e-02   1.09167230e-01\n",
      "   2.43131762e-02   1.19289776e-01   1.16212849e-01   1.64198239e-02\n",
      "   1.20843467e-02   1.40454274e-02   1.14095411e-01   9.68149760e-03\n",
      "   1.53583010e-02   6.66187918e-03   1.25854686e-01   8.04587956e-05\n",
      "   4.74618976e-05   4.51743144e-05   3.72283182e-05   2.31319479e-05\n",
      "   2.54992822e-05   1.71828403e-05   7.78964615e-06   9.66215894e-06\n",
      "   1.17659254e-05   1.41929316e-05]\n"
     ]
    }
   ],
   "source": [
    "#Perform eigendecomposition on covariance matrix\n",
    "cov_mat = np.cov(X_std.T)\n",
    "eig_vals, eig_vecs = np.linalg.eig(cov_mat)\n",
    "print('Eigenvectors \\n%s' %eig_vecs)\n",
    "print('\\nEigenvalues \\n%s' %eig_vals)"
   ]
  },
  {
   "cell_type": "code",
   "execution_count": 18,
   "metadata": {
    "collapsed": false
   },
   "outputs": [
    {
     "name": "stdout",
     "output_type": "stream",
     "text": [
      "Eigenvalues in descending order:\n",
      "28.416695744\n",
      "13.1928613424\n",
      "10.3285404207\n",
      "5.25000360591\n",
      "3.84876839287\n",
      "3.66981465949\n",
      "3.11246539564\n",
      "2.57981238231\n",
      "2.55809067763\n",
      "2.17927323019\n",
      "2.07368533042\n",
      "1.95895274708\n",
      "1.92160623633\n",
      "1.7531578878\n",
      "1.61330259037\n",
      "1.538452559\n",
      "1.4739132094\n",
      "1.39421314483\n",
      "1.30891963674\n",
      "1.28208107748\n",
      "1.22115021155\n",
      "1.19368844766\n",
      "1.15971367983\n",
      "1.10059918384\n",
      "1.0871998046\n",
      "1.0443758688\n",
      "1.01672184557\n",
      "0.989669348933\n",
      "0.924853168879\n",
      "0.908468506135\n",
      "0.879849667839\n",
      "0.843514403393\n",
      "0.848170139895\n",
      "0.816912701861\n",
      "0.799715251862\n",
      "0.742528556043\n",
      "0.780989145131\n",
      "0.772104095013\n",
      "0.711810116842\n",
      "0.68559030582\n",
      "0.655763244026\n",
      "0.649247755747\n",
      "0.633007495157\n",
      "0.616634280823\n",
      "0.62334047324\n",
      "0.598278897403\n",
      "0.588260400517\n",
      "0.566827280285\n",
      "0.530295259824\n",
      "0.521770971339\n",
      "0.489287531052\n",
      "0.506460901763\n",
      "0.474444077215\n",
      "0.460194387429\n",
      "0.447970816776\n",
      "0.434061704634\n",
      "0.425593517989\n",
      "0.413467204248\n",
      "0.405952303022\n",
      "0.399928175281\n",
      "0.388681534217\n",
      "0.37228055816\n",
      "0.363764704459\n",
      "0.355719067991\n",
      "0.345603904592\n",
      "0.337425370744\n",
      "0.325642632213\n",
      "0.322178792659\n",
      "0.310703676735\n",
      "0.306052815119\n",
      "0.297656536035\n",
      "0.298721952516\n",
      "0.276886664935\n",
      "0.270341300164\n",
      "0.2615297943\n",
      "0.256391383989\n",
      "0.245237403599\n",
      "0.237377212139\n",
      "0.232763817947\n",
      "0.195813278233\n",
      "0.220268993912\n",
      "0.215863132903\n",
      "0.207330177059\n",
      "0.210555413971\n",
      "0.183582425239\n",
      "0.17828606034\n",
      "0.165215537381\n",
      "0.139762180066\n",
      "0.155828076327\n",
      "0.149654028143\n",
      "0.152783384005\n",
      "0.13293165789\n",
      "0.0867183431801\n",
      "0.0818982424915\n",
      "0.0710330508745\n",
      "0.0971439126096\n",
      "0.104091447797\n",
      "0.0463205044432\n",
      "0.0509997346475\n",
      "0.0647177270938\n",
      "0.0557499349157\n",
      "0.0353962480672\n",
      "0.0438076111668\n",
      "0.059311075061\n",
      "0.0293109182625\n",
      "0.124049757454\n",
      "0.0605891276972\n",
      "0.109167230101\n",
      "0.0243131761768\n",
      "0.119289775542\n",
      "0.116212849348\n",
      "0.0164198238616\n",
      "0.0120843467322\n",
      "0.014045427447\n",
      "0.114095410947\n",
      "0.00968149760014\n",
      "0.0153583009886\n",
      "0.00666187917501\n",
      "0.12585468638\n",
      "8.04587956467e-05\n",
      "4.74618975652e-05\n",
      "4.51743144374e-05\n",
      "3.72283181611e-05\n",
      "2.31319478571e-05\n",
      "2.54992821712e-05\n",
      "1.71828403059e-05\n",
      "7.78964614901e-06\n",
      "9.66215893626e-06\n",
      "1.17659254041e-05\n",
      "1.41929316249e-05\n"
     ]
    }
   ],
   "source": [
    "# Visually confirm that the list is correctly sorted by decreasing eigenvalues\n",
    "eig_pairs = [(np.abs(eig_vals[i]), eig_vecs[:,i]) for i in range(len(eig_vals))]\n",
    "print('Eigenvalues in descending order:')\n",
    "for i in eig_pairs:\n",
    "    print(i[0])"
   ]
  },
  {
   "cell_type": "code",
   "execution_count": 26,
   "metadata": {
    "collapsed": false
   },
   "outputs": [
    {
     "name": "stdout",
     "output_type": "stream",
     "text": [
      "[ 0.21820308  0.10130393  0.07930969  0.04031317]\n"
     ]
    }
   ],
   "source": [
    "pca = PCA(n_components=4)\n",
    "pca.fit_transform(X_std)\n",
    "print (pca.explained_variance_ratio_) "
   ]
  },
  {
   "cell_type": "code",
   "execution_count": 27,
   "metadata": {
    "collapsed": false
   },
   "outputs": [
    {
     "data": {
      "image/png": "[encoded data removed]",
      "text/plain": [
       "<matplotlib.figure.Figure at 0x7f3ab345aa20>"
      ]
     },
     "metadata": {},
     "output_type": "display_data"
    }
   ],
   "source": [
    "#Explained variance\n",
    "pca = PCA().fit(X_std)\n",
    "plt.plot(np.cumsum(pca.explained_variance_ratio_))\n",
    "plt.xlabel('number of components')\n",
    "plt.ylabel('cumulative explained variance')\n",
    "plt.show()"
   ]
  },
  {
   "cell_type": "code",
   "execution_count": null,
   "metadata": {
    "collapsed": true
   },
   "outputs": [],
   "source": []
  }
 ],
 "metadata": {
  "kernelspec": {
   "display_name": "Python 3",
   "language": "python",
   "name": "python3"
  },
  "language_info": {
   "codemirror_mode": {
    "name": "ipython",
    "version": 3
   },
   "file_extension": ".py",
   "mimetype": "text/x-python",
   "name": "python",
   "nbconvert_exporter": "python",
   "pygments_lexer": "ipython3",
   "version": "3.5.2"
  }
 },
 "nbformat": 4,
 "nbformat_minor": 0
}
