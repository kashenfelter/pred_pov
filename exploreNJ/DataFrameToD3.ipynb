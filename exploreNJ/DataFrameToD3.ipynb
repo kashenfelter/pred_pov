{
 "cells": [
  {
   "cell_type": "markdown",
   "metadata": {},
   "source": [
    "## Export  feature data"
   ]
  },
  {
   "cell_type": "code",
   "execution_count": 2,
   "metadata": {
    "collapsed": false
   },
   "outputs": [],
   "source": [
    "import pandas as pd\n",
    "\n",
    "df = pd.read_pickle('d2.pkl')"
   ]
  },
  {
   "cell_type": "code",
   "execution_count": 18,
   "metadata": {
    "collapsed": false
   },
   "outputs": [
    {
     "data": {
      "text/plain": [
       "Index(['hh_inc_mean', 'p_peop_pov', 'p_1hu_bldg_det', 'p_1hu_bldg_att',\n",
       "       'p_20hu_bldg', 'p_hu_mobile', 'p_hu_gt_2010', 'p_hu_lt_1939',\n",
       "       'p_hu_1room', 'p_hu_2room', 'p_hu_3room', 'p_hu_4room', 'p_hu_5room',\n",
       "       'p_hu_6room', 'p_hu_7room', 'p_hu_8room', 'p_hu_gt8room',\n",
       "       'num_room_med', 'p_hu_own_occ', 'hh_size_own_occ', 'hh_size_rent_occ',\n",
       "       'p_hh_from1969', 'p_hu_nocar', 'p_hu_1car', 'p_hu_2car', 'p_hu_3car',\n",
       "       'p_hu_1perroom', 'p_hu_under50K', 'p_hu_over1MM', 'hu_val_median',\n",
       "       'p_hu_mortgage', 'gross_rent_med', 'p_hu_rentgt1500', 'p_malepop',\n",
       "       'p_ageless5', 'p_age5to9', 'p_age10to14', 'p_age15to19', 'p_age20to24',\n",
       "       'p_age25to34', 'p_age35to44', 'p_age45to54', 'p_age55to59',\n",
       "       'p_age60to64', 'p_age65to74', 'p_age75to84', 'p_ageover85', 'p_white',\n",
       "       'p_black', 'p_amind'],\n",
       "      dtype='object')"
      ]
     },
     "execution_count": 18,
     "metadata": {},
     "output_type": "execute_result"
    }
   ],
   "source": [
    "df.columns[50:100]\n"
   ]
  },
  {
   "cell_type": "code",
   "execution_count": 4,
   "metadata": {
    "collapsed": true
   },
   "outputs": [],
   "source": [
    "df_to_d3 = df.loc[:,'FIPS':'city_town'] \n",
    "df_to_d3['cluster'] = df[['p_white']]\n",
    "df_to_d3.columns = ['id','name','cluster']\n",
    "#cluster_labels]])\n",
    "df_to_d3.head()\n",
    "df_to_d3.to_csv('p_white.tsv',sep = '\\t', index = False)"
   ]
  },
  {
   "cell_type": "code",
   "execution_count": 5,
   "metadata": {
    "collapsed": true
   },
   "outputs": [],
   "source": [
    "df_to_d3 = df.loc[:,'FIPS':'city_town'] \n",
    "df_to_d3['cluster'] = df[['p_peop_pov']]\n",
    "df_to_d3.columns = ['id','name','cluster']\n",
    "#cluster_labels]])\n",
    "df_to_d3.head()\n",
    "df_to_d3.to_csv('p_peop_pov.tsv',sep = '\\t', index = False)"
   ]
  },
  {
   "cell_type": "code",
   "execution_count": 6,
   "metadata": {
    "collapsed": true
   },
   "outputs": [],
   "source": [
    "df_to_d3 = df.loc[:,'FIPS':'city_town'] \n",
    "df_to_d3['cluster'] = df[['mean_com_time']]\n",
    "df_to_d3.columns = ['id','name','cluster']\n",
    "#cluster_labels]])\n",
    "df_to_d3.head()\n",
    "df_to_d3.to_csv('mean_com_time.tsv',sep = '\\t', index = False)"
   ]
  },
  {
   "cell_type": "code",
   "execution_count": 20,
   "metadata": {
    "collapsed": false
   },
   "outputs": [
    {
     "data": {
      "text/plain": [
       "Index(['p_1hu_bldg_det', 'p_1hu_bldg_att', 'p_20hu_bldg', 'p_hu_mobile',\n",
       "       'p_hu_gt_2010', 'p_hu_lt_1939', 'p_hu_1room', 'p_hu_2room',\n",
       "       'p_hu_3room', 'p_hu_4room', 'p_hu_5room', 'p_hu_6room', 'p_hu_7room',\n",
       "       'p_hu_8room', 'p_hu_gt8room'],\n",
       "      dtype='object')"
      ]
     },
     "execution_count": 20,
     "metadata": {},
     "output_type": "execute_result"
    }
   ],
   "source": [
    "demogs = df.columns[52:67]\n",
    "demogs"
   ]
  },
  {
   "cell_type": "code",
   "execution_count": 21,
   "metadata": {
    "collapsed": true
   },
   "outputs": [],
   "source": [
    "for demog in demogs:\n",
    "    df_to_d3 = df.loc[:,'FIPS':'city_town'] \n",
    "#    df_to_d3['cluster'] = round(df[[demog]],2)\n",
    "    df_to_d3['cluster'] = df[[demog]]\n",
    "    df_to_d3.columns = ['id','name','cluster']\n",
    "#cluster_labels]])\n",
    "    df_to_d3.head()\n",
    "    df_to_d3.to_csv(demog+'.tsv',sep = '\\t', index = False)"
   ]
  },
  {
   "cell_type": "code",
   "execution_count": 22,
   "metadata": {
    "collapsed": false
   },
   "outputs": [
    {
     "name": "stdout",
     "output_type": "stream",
     "text": [
      "clusters2.tsv\t     p_1hu_bldg_det.tsv  p_hu_gt_2010.tsv   p_ind_pubadmin.tsv\r\n",
      "clusters7.tsv\t     p_20hu_bldg.tsv\t p_hu_gt8room.tsv   p_ind_retl.tsv\r\n",
      "clustersAP.tsv\t     PCAclus.tsv\t p_hu_lt_1939.tsv   p_ind_warehs.tsv\r\n",
      "clustersPCA7.tsv     p_class_govt.tsv\t p_hu_mobile.tsv    p_ind_whsl.tsv\r\n",
      "clustersPCA.tsv      p_class_wage.tsv\t p_ind_agri.tsv     p_occ_bus.tsv\r\n",
      "connclus7.tsv\t     p_hu_1room.tsv\t p_ind_arts.tsv     p_occ_const.tsv\r\n",
      "developer_rate.tsv   p_hu_2room.tsv\t p_ind_const.tsv    p_occ_sales.tsv\r\n",
      "econ.tsv\t     p_hu_3room.tsv\t p_ind_edu.tsv\t    p_occ_serv.tsv\r\n",
      "management_rate.tsv  p_hu_4room.tsv\t p_ind_fire.tsv     p_occ_trans.tsv\r\n",
      "mean_com_time.tsv    p_hu_5room.tsv\t p_ind_info.tsv     povall.tsv\r\n",
      "num_badge.tsv\t     p_hu_6room.tsv\t p_ind_manu.tsv     p_peop_pov.tsv\r\n",
      "num_train_stat.tsv   p_hu_7room.tsv\t p_ind_othserv.tsv  p_white.tsv\r\n",
      "p_1hu_bldg_att.tsv   p_hu_8room.tsv\t p_ind_prof.tsv     teacher_rate.tsv\r\n"
     ]
    }
   ],
   "source": [
    "!ls *.tsv"
   ]
  },
  {
   "cell_type": "code",
   "execution_count": null,
   "metadata": {
    "collapsed": true
   },
   "outputs": [],
   "source": []
  },
  {
   "cell_type": "code",
   "execution_count": null,
   "metadata": {
    "collapsed": true
   },
   "outputs": [],
   "source": []
  },
  {
   "cell_type": "code",
   "execution_count": null,
   "metadata": {
    "collapsed": true
   },
   "outputs": [],
   "source": []
  }
 ],
 "metadata": {
  "kernelspec": {
   "display_name": "Python 3",
   "language": "python",
   "name": "python3"
  },
  "language_info": {
   "codemirror_mode": {
    "name": "ipython",
    "version": 3
   },
   "file_extension": ".py",
   "mimetype": "text/x-python",
   "name": "python",
   "nbconvert_exporter": "python",
   "pygments_lexer": "ipython3",
   "version": "3.5.2"
  }
 },
 "nbformat": 4,
 "nbformat_minor": 0
}
