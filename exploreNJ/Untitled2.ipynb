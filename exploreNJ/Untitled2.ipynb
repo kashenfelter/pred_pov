{
 "cells": [
  {
   "cell_type": "code",
   "execution_count": 1,
   "metadata": {
    "collapsed": true
   },
   "outputs": [],
   "source": [
    "import pandas as pd\n"
   ]
  },
  {
   "cell_type": "code",
   "execution_count": 9,
   "metadata": {
    "collapsed": false
   },
   "outputs": [
    {
     "data": {
      "text/plain": [
       "Index(['FIPS', 'city_town', 'p_in_lab', 'p_unemployed', 'p_fem_labforce',\n",
       "       'p_fem_employed', 'p_ch6_paremp', 'p_com_car', 'p_com_carpool',\n",
       "       'p_com_transit', 'p_com_walk', 'p_com_other', 'p_com_home',\n",
       "       'mean_com_time', 'p_occ_bus', 'p_occ_serv', 'p_occ_sales',\n",
       "       'p_occ_const', 'p_occ_trans', 'p_ind_agri', 'p_ind_const', 'p_ind_manu',\n",
       "       'p_ind_whsl', 'p_ind_retl', 'p_ind_warehs', 'p_ind_info', 'p_ind_fire',\n",
       "       'p_ind_prof', 'p_ind_edu', 'p_ind_arts', 'p_ind_othserv',\n",
       "       'p_ind_pubadmin', 'p_class_wage', 'p_class_govt', 'p_class_self',\n",
       "       'p_class_unpaid', 'p_less10', 'p_10to15', 'p_15to25', 'p_25to35',\n",
       "       'p_35to50', 'p_50to75', 'p_75to100', 'p_100to150', 'p_150to200',\n",
       "       'p_over200', 'hh_inc_med', 'hh_inc_mean', 'p_peop_pov'],\n",
       "      dtype='object')"
      ]
     },
     "execution_count": 9,
     "metadata": {},
     "output_type": "execute_result"
    }
   ],
   "source": [
    "df = pd.read_pickle('econ.pkl')\n",
    "\n",
    "df.columns"
   ]
  },
  {
   "cell_type": "code",
   "execution_count": 10,
   "metadata": {
    "collapsed": false
   },
   "outputs": [],
   "source": [
    "df_to_d3 = df.loc[:,'FIPS':'city_town'] \n",
    "df_to_d3['cluster'] = df[['mean_com_time']]\n",
    "df_to_d3.columns = ['id','name','cluster']\n",
    "#cluster_labels]])\n",
    "df_to_d3.head()\n",
    "df_to_d3.to_csv('mean_com_time.tsv',sep = '\\t', index = False)"
   ]
  },
  {
   "cell_type": "code",
   "execution_count": null,
   "metadata": {
    "collapsed": true
   },
   "outputs": [],
   "source": []
  }
 ],
 "metadata": {
  "kernelspec": {
   "display_name": "Python 3",
   "language": "python",
   "name": "python3"
  },
  "language_info": {
   "codemirror_mode": {
    "name": "ipython",
    "version": 3
   },
   "file_extension": ".py",
   "mimetype": "text/x-python",
   "name": "python",
   "nbconvert_exporter": "python",
   "pygments_lexer": "ipython3",
   "version": "3.5.2"
  }
 },
 "nbformat": 4,
 "nbformat_minor": 0
}
