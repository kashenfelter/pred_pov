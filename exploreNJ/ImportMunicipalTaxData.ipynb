{
 "cells": [
  {
   "cell_type": "markdown",
   "metadata": {},
   "source": [
    "This notebook to read in New Jersey tax data and save it as a csv suitable for joining with acs data."
   ]
  },
  {
   "cell_type": "code",
   "execution_count": 2,
   "metadata": {
    "collapsed": false
   },
   "outputs": [
    {
     "name": "stdout",
     "output_type": "stream",
     "text": [
      "15taxes.ods\t\t      ACS_14_5YR_DP05.zip\r\n",
      "15taxes.xls\t\t      aff_download_readme.txt\r\n",
      "20160916a_ucr_2015stats.pdf   bus_data.zip\r\n",
      "ACS_10_SF4_B25003.zip\t      Creddle _ Content_files\r\n",
      "ACS_14_5YR_DP02_ann.csv       Creddle _ Content.html\r\n",
      "ACS_14_5YR_DP02.csv\t      DepartureVisionPacket.zip\r\n",
      "ACS_14_5YR_DP02_metadata.csv  njlocaltaxes.csv\r\n",
      "ACS_14_5YR_DP02.txt\t      njlocaltaxes.ods\r\n",
      "ACS_14_5YR_DP02.zip\t      rail_data.zip\r\n",
      "ACS_14_5YR_DP03.zip\t      sustainable.csv\r\n",
      "ACS_14_5YR_DP04.zip\r\n"
     ]
    }
   ],
   "source": [
    "!ls Data"
   ]
  },
  {
   "cell_type": "code",
   "execution_count": 3,
   "metadata": {
    "collapsed": true
   },
   "outputs": [],
   "source": [
    "import pandas as pd"
   ]
  },
  {
   "cell_type": "code",
   "execution_count": 7,
   "metadata": {
    "collapsed": true
   },
   "outputs": [],
   "source": [
    "taxes = pd.read_csv('Data/njlocaltaxes.csv')"
   ]
  },
  {
   "cell_type": "code",
   "execution_count": 8,
   "metadata": {
    "collapsed": false
   },
   "outputs": [
    {
     "name": "stdout",
     "output_type": "stream",
     "text": [
      "<class 'pandas.core.frame.DataFrame'>\n",
      "RangeIndex: 617 entries, 0 to 616\n",
      "Data columns (total 38 columns):\n",
      "Unicode                                                        565 non-null float64\n",
      "Municipality                                                   566 non-null object\n",
      "County                                                         565 non-null object\n",
      "NetValuationTaxable                                            566 non-null float64\n",
      "NetCountyTaxesApportionedLessStateAid                          566 non-null float64\n",
      "CountyLibraryTaxes                                             566 non-null float64\n",
      "LocalHealthServicesTaxes                                       566 non-null float64\n",
      "CountyOpenSpacePreservationTrustFund                           566 non-null float64\n",
      "TotalCountyLevy                                                567 non-null float64\n",
      "AsRequiredbyDistrictSchoolBudget                               566 non-null float64\n",
      "RegionalConsolidatedandJointSchoolBudget                       566 non-null float64\n",
      "AsRequiredbyLocalMunicipalBudget                               566 non-null float64\n",
      "TotalSchoolLevy                                                567 non-null float64\n",
      "LocalMunicipalPurposes                                         566 non-null float64\n",
      "LocalMunicipalOpenSpace                                        566 non-null float64\n",
      "MinimumLibraryTax                                              566 non-null float64\n",
      "TotalLocalMunicipalTaxLevy                                     567 non-null float64\n",
      "TotalLevyonWhichTaxRateisComputed                              566 non-null float64\n",
      "CountyLevy%ofTotalLevy                                         566 non-null float64\n",
      "SchoolLevy%ofTotalLevy                                         566 non-null float64\n",
      "MunicipalLevy%ofTotalLevy                                      566 non-null float64\n",
      "CYMunicipalRate                                                566 non-null float64\n",
      "CYMunicipalLibraryRate                                         566 non-null float64\n",
      "CYMunicipalOpenSpaceRate                                       566 non-null float64\n",
      "CYTotalMunicipalRate                                           566 non-null float64\n",
      "CYSchoolRate                                                   566 non-null float64\n",
      "CYCountyRate                                                   566 non-null float64\n",
      "CYTotalRate                                                    566 non-null float64\n",
      "AverageResidentialPropertyValue                                566 non-null float64\n",
      "AverageTotalPropertyTaxes(notincludingcreditsanddeductions)    566 non-null float64\n",
      "StateEqualizationTableAverageRatio                             566 non-null float64\n",
      "StateEqualizationTableAverageRatio(DecimalForm)                566 non-null float64\n",
      "CYEqualizedPropertyValue(Pre-Appeal)                           566 non-null float64\n",
      "CYCountyEQTaxRate                                              566 non-null float64\n",
      "CYSchoolEQTaxRate                                              566 non-null float64\n",
      "CYLocalPurposeMunicipalEQTaxRate                               566 non-null float64\n",
      "CYTotalMunicipalEQRate                                         566 non-null float64\n",
      "CYTotalEQRate(REAPNotIncluded)                                 566 non-null float64\n",
      "dtypes: float64(36), object(2)\n",
      "memory usage: 183.2+ KB\n"
     ]
    }
   ],
   "source": [
    "taxes.info()"
   ]
  },
  {
   "cell_type": "code",
   "execution_count": null,
   "metadata": {
    "collapsed": true
   },
   "outputs": [],
   "source": []
  },
  {
   "cell_type": "code",
   "execution_count": null,
   "metadata": {
    "collapsed": true
   },
   "outputs": [],
   "source": []
  }
 ],
 "metadata": {
  "kernelspec": {
   "display_name": "Python 3",
   "language": "python",
   "name": "python3"
  },
  "language_info": {
   "codemirror_mode": {
    "name": "ipython",
    "version": 3
   },
   "file_extension": ".py",
   "mimetype": "text/x-python",
   "name": "python",
   "nbconvert_exporter": "python",
   "pygments_lexer": "ipython3",
   "version": "3.5.2"
  }
 },
 "nbformat": 4,
 "nbformat_minor": 0
}
